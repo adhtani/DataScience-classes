{
 "cells": [
  {
   "cell_type": "markdown",
   "metadata": {},
   "source": [
    "## Python Code"
   ]
  },
  {
   "cell_type": "code",
   "execution_count": 2,
   "metadata": {},
   "outputs": [],
   "source": [
    "import pandas as pd\n",
    "import numpy as np\n",
    "import seaborn as sns\n",
    "import matplotlib.pyplot as plt\n",
    "%matplotlib inline \n",
    "from numerize import numerize \n",
    "import matplotlib.ticker as ticker\n",
    "from matplotlib.ticker import FuncFormatter"
   ]
  },
  {
   "cell_type": "code",
   "execution_count": 3,
   "metadata": {},
   "outputs": [],
   "source": [
    "df = pd.read_excel('world-population.xlsm', sheet_name='world-population')\n",
    "\n",
    "plt.rcParams['figure.figsize'] = [10,6]\n",
    "\n",
    "sns.set(font_scale = 1.3)\n",
    "sns.set_style(\"ticks\")\n",
    "\n",
    "def billions(x, pos):\n",
    "    return f'{x / 1000000000}'\n",
    "\n",
    "\n",
    "## Line Chart\n",
    "ax = sns.lineplot(data=df, x=\"Year\", y=\"Population\", color= '#484890', lw=2)\n",
    "ax.set_title(\"Python - Line Chart: Population by Year\", loc='left', y=1.1, fontsize=20)\n",
    "ax.yaxis.set_major_formatter(ticker.FuncFormatter(billions))\n",
    "ax.set_ylim(0, 7e9)\n",
    "plt.yticks([0,1.5e9, 3e9, 4.5e9, 6e9])\n",
    "ax.set_xlabel(\"Year\")\n",
    "ax.set_ylabel(\"Population in Billion\")\n",
    "\n",
    "sns.despine()\n",
    "plt.show()\n",
    "\n",
    "\n",
    "## Step Chart\n",
    "plt.rcParams['figure.figsize'] = [10,6]\n",
    "\n",
    "sns.set(font_scale = 1.3)\n",
    "sns.set_style(\"ticks\")\n",
    "\n",
    "ax = sns.lineplot(data=df, x=\"Year\", y=\"Population\", color= '#600060',drawstyle='steps-pre')\n",
    "ax.set_title(\"Python - Step Chart: Population by Year\", loc='left', y=1.1, fontsize=20)\n",
    "ax.yaxis.set_major_formatter(ticker.FuncFormatter(billions))\n",
    "plt.yticks([0,1.5e9, 3e9, 4.5e9, 6e9])\n",
    "ax.set_xlabel(\"Year\")\n",
    "ax.set_ylabel(\"Population in Billion\")\n",
    "\n",
    "sns.despine()\n",
    "plt.show()"
   ]
  }
 ],
 "metadata": {
  "kernelspec": {
   "display_name": "Python 3 (ipykernel)",
   "language": "python",
   "name": "python3"
  },
  "language_info": {
   "codemirror_mode": {
    "name": "ipython",
    "version": 3
   },
   "file_extension": ".py",
   "mimetype": "text/x-python",
   "name": "python",
   "nbconvert_exporter": "python",
   "pygments_lexer": "ipython3",
   "version": "3.9.10"
  }
 },
 "nbformat": 4,
 "nbformat_minor": 4
}
