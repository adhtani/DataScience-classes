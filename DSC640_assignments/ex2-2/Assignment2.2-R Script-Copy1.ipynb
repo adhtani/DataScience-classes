{
 "cells": [
  {
   "cell_type": "markdown",
   "id": "88182747",
   "metadata": {},
   "source": [
    "## R Code"
   ]
  },
  {
   "cell_type": "code",
   "execution_count": 6,
   "id": "78a1196e",
   "metadata": {},
   "outputs": [],
   "source": [
    "library(ggplot2)\n",
    "library(readxl)\n",
    "library(scales)\n",
    "\n",
    "\n",
    "df <- read_excel(\"world-population.xlsm\", sheet =\"world-population\")\n",
    "head(df)\n",
    "\n",
    "\n",
    "options(repr.plot.width = 5, repr.plot.height = 3) \n",
    "ggplot(df, aes(x =Year, y =Population)) + \n",
    "   geom_line(size = .6, color='#008FAD') + \n",
    "   theme_classic() + \n",
    "   theme(text = element_text(family=\"sans\",size =10, color=\"black\"), element_line(size = .4), \n",
    "         plot.title = element_text(size = 12)) + \n",
    "   expand_limits(y = c(0, NA)) +\n",
    "   scale_y_continuous(labels = unit_format(unit = \"B\", scale = 1e-9)) +\n",
    "   xlab(\"Year\") + ylab(\"Population in Billion\") +\n",
    "   ggtitle(\"R - Line Chart: Population by Year\")\n",
    "\n",
    "\n",
    "options(repr.plot.width = 5, repr.plot.height = 3) \n",
    "ggplot(df, aes(x =Year, y =Population)) + \n",
    "   geom_step(size = .6, color='#AD5203') + \n",
    "   theme_classic() + \n",
    "   theme(text = element_text(family=\"sans\",size =10, color=\"black\"), element_line(size = .4), \n",
    "         plot.title = element_text(size = 12)) + \n",
    "   expand_limits(y = c(0, NA)) +\n",
    "   scale_y_continuous(labels = unit_format(unit = \"B\", scale = 1e-9)) +\n",
    "   xlab(\"Year\") + ylab(\"Population in Billion\") +\n",
    "   ggtitle(\"R - Step Chart: Population by Year\")"
   ]
  }
 ],
 "metadata": {
  "kernelspec": {
   "display_name": "R",
   "language": "R",
   "name": "ir"
  },
  "language_info": {
   "codemirror_mode": "r",
   "file_extension": ".r",
   "mimetype": "text/x-r-source",
   "name": "R",
   "pygments_lexer": "r",
   "version": "3.6.3"
  }
 },
 "nbformat": 4,
 "nbformat_minor": 5
}
