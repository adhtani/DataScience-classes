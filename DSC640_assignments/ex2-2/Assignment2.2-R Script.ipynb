{
 "cells": [
  {
   "cell_type": "markdown",
   "id": "88182747",
   "metadata": {},
   "source": [
    "### Assignment 2.2: Line Charts and Step Charts\n",
    "\n",
    "#### DSC640\n",
    "Taniya Adhikari"
   ]
  },
  {
   "cell_type": "code",
   "execution_count": 6,
   "id": "78a1196e",
   "metadata": {},
   "outputs": [],
   "source": [
    "library(ggplot2)\n",
    "library(readxl)\n",
    "library(scales)"
   ]
  },
  {
   "cell_type": "code",
   "execution_count": 2,
   "id": "17828bed",
   "metadata": {},
   "outputs": [
    {
     "data": {
      "text/html": [
       "<table>\n",
       "<thead><tr><th scope=col>Year</th><th scope=col>Population</th></tr></thead>\n",
       "<tbody>\n",
       "\t<tr><td>1960      </td><td>3028654024</td></tr>\n",
       "\t<tr><td>1961      </td><td>3068356747</td></tr>\n",
       "\t<tr><td>1962      </td><td>3121963107</td></tr>\n",
       "\t<tr><td>1963      </td><td>3187471383</td></tr>\n",
       "\t<tr><td>1964      </td><td>3253112403</td></tr>\n",
       "\t<tr><td>1965      </td><td>3320396924</td></tr>\n",
       "</tbody>\n",
       "</table>\n"
      ],
      "text/latex": [
       "\\begin{tabular}{r|ll}\n",
       " Year & Population\\\\\n",
       "\\hline\n",
       "\t 1960       & 3028654024\\\\\n",
       "\t 1961       & 3068356747\\\\\n",
       "\t 1962       & 3121963107\\\\\n",
       "\t 1963       & 3187471383\\\\\n",
       "\t 1964       & 3253112403\\\\\n",
       "\t 1965       & 3320396924\\\\\n",
       "\\end{tabular}\n"
      ],
      "text/markdown": [
       "\n",
       "| Year | Population |\n",
       "|---|---|\n",
       "| 1960       | 3028654024 |\n",
       "| 1961       | 3068356747 |\n",
       "| 1962       | 3121963107 |\n",
       "| 1963       | 3187471383 |\n",
       "| 1964       | 3253112403 |\n",
       "| 1965       | 3320396924 |\n",
       "\n"
      ],
      "text/plain": [
       "  Year Population\n",
       "1 1960 3028654024\n",
       "2 1961 3068356747\n",
       "3 1962 3121963107\n",
       "4 1963 3187471383\n",
       "5 1964 3253112403\n",
       "6 1965 3320396924"
      ]
     },
     "metadata": {},
     "output_type": "display_data"
    }
   ],
   "source": [
    "df <- read_excel(\"world-population.xlsm\", sheet =\"world-population\")\n",
    "head(df)"
   ]
  },
  {
   "cell_type": "code",
   "execution_count": 4,
   "id": "b5fc886c",
   "metadata": {
    "scrolled": false
   },
   "outputs": [
    {
     "data": {
      "image/png": "[encoded data removed]",
      "text/plain": [
       "plot without title"
      ]
     },
     "metadata": {},
     "output_type": "display_data"
    }
   ],
   "source": [
    "options(repr.plot.width = 5, repr.plot.height = 3) \n",
    "ggplot(df, aes(x =Year, y =Population)) + \n",
    "   geom_line(size = .6, color='#008FAD') + \n",
    "   theme_classic() + \n",
    "   theme(text = element_text(family=\"sans\",size =10, color=\"black\"), element_line(size = .4), \n",
    "         plot.title = element_text(size = 12)) + \n",
    "   expand_limits(y = c(0, NA)) +\n",
    "   scale_y_continuous(labels = unit_format(unit = \"B\", scale = 1e-9)) +\n",
    "   xlab(\"Year\") + ylab(\"Population in Billion\") +\n",
    "   ggtitle(\"R - Line Chart: Population by Year\")"
   ]
  },
  {
   "cell_type": "code",
   "execution_count": 5,
   "id": "954848f5",
   "metadata": {},
   "outputs": [
    {
     "data": {
      "image/png": "[encoded data removed]",
      "text/plain": [
       "plot without title"
      ]
     },
     "metadata": {},
     "output_type": "display_data"
    }
   ],
   "source": [
    "options(repr.plot.width = 5, repr.plot.height = 3) \n",
    "ggplot(df, aes(x =Year, y =Population)) + \n",
    "   geom_step(size = .6, color='#AD5203') + \n",
    "   theme_classic() + \n",
    "   theme(text = element_text(family=\"sans\",size =10, color=\"black\"), element_line(size = .4), \n",
    "         plot.title = element_text(size = 12)) + \n",
    "   expand_limits(y = c(0, NA)) +\n",
    "   scale_y_continuous(labels = unit_format(unit = \"B\", scale = 1e-9)) +\n",
    "   xlab(\"Year\") + ylab(\"Population in Billion\") +\n",
    "   ggtitle(\"R - Step Chart: Population by Year\")"
   ]
  },
  {
   "cell_type": "code",
   "execution_count": null,
   "id": "7038d1df",
   "metadata": {},
   "outputs": [],
   "source": []
  }
 ],
 "metadata": {
  "kernelspec": {
   "display_name": "R",
   "language": "R",
   "name": "ir"
  },
  "language_info": {
   "codemirror_mode": "r",
   "file_extension": ".r",
   "mimetype": "text/x-r-source",
   "name": "R",
   "pygments_lexer": "r",
   "version": "3.6.3"
  }
 },
 "nbformat": 4,
 "nbformat_minor": 5
}
