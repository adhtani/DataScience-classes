{
 "cells": [
  {
   "cell_type": "markdown",
   "id": "82231d00",
   "metadata": {},
   "source": [
    "# R Script"
   ]
  },
  {
   "cell_type": "markdown",
   "id": "54b1bc6f",
   "metadata": {},
   "source": [
    "### Assignment 5.2: Heat Maps, Contour Charts and Spatial Charts\n",
    "\n",
    "#### DSC640\n",
    "Taniya Adhikari"
   ]
  },
  {
   "cell_type": "code",
   "execution_count": 60,
   "id": "78a1196e",
   "metadata": {},
   "outputs": [],
   "source": [
    "library(ggplot2)\n",
    "library(readxl)\n",
    "library(scales)\n",
    "library(plyr)\n",
    "library(dplyr)\n",
    "library(ggrepel)\n",
    "library(reshape2)"
   ]
  },
  {
   "cell_type": "code",
   "execution_count": 32,
   "id": "4af88489",
   "metadata": {},
   "outputs": [
    {
     "name": "stderr",
     "output_type": "stream",
     "text": [
      "Warning message:\n",
      "\"package 'libwgeom' is not available (for R version 3.6.3)\"Warning message:\n",
      "\"dependency 'rjson' is not available\"also installing the dependencies 'proxy', 'png', 'rgdal', 'prettymapr', 'e1071', 'wk', 'jpeg', 'jqr', 'googlePolylines', 'isoband', 'rlang', 'rosm', 'abind', 'classInt', 's2', 'units', 'sp'\n",
      "\n"
     ]
    },
    {
     "name": "stdout",
     "output_type": "stream",
     "text": [
      "\n",
      "  There are binary versions available but the source versions are later:\n",
      "           binary source needs_compilation\n",
      "proxy      0.4-25 0.4-26              TRUE\n",
      "rgdal      1.5-23 1.5-28              TRUE\n",
      "e1071       1.7-6  1.7-9              TRUE\n",
      "wk          0.4.1  0.6.0              TRUE\n",
      "jpeg      0.1-8.1  0.1-9              TRUE\n",
      "jqr         1.2.1  1.2.2              TRUE\n",
      "isoband     0.2.4  0.2.5              TRUE\n",
      "rlang      0.4.11  1.0.2              TRUE\n",
      "s2          1.0.4  1.0.7              TRUE\n",
      "units       0.7-1  0.8-0              TRUE\n",
      "sp          1.4-5  1.4-6              TRUE\n",
      "googleway   2.7.3  2.7.6             FALSE\n",
      "ggplot2     3.3.3  3.3.5             FALSE\n",
      "sf          0.9-8  1.0-6              TRUE\n",
      "\n",
      "  Binaries will be installed\n"
     ]
    },
    {
     "name": "stderr",
     "output_type": "stream",
     "text": [
      "Warning message:\n",
      "\"package 'ggrepel' is in use and will not be installed\""
     ]
    },
    {
     "name": "stdout",
     "output_type": "stream",
     "text": [
      "package 'proxy' successfully unpacked and MD5 sums checked\n",
      "package 'png' successfully unpacked and MD5 sums checked\n",
      "package 'rgdal' successfully unpacked and MD5 sums checked\n",
      "package 'prettymapr' successfully unpacked and MD5 sums checked\n",
      "package 'e1071' successfully unpacked and MD5 sums checked\n",
      "package 'wk' successfully unpacked and MD5 sums checked\n",
      "package 'jpeg' successfully unpacked and MD5 sums checked\n",
      "package 'jqr' successfully unpacked and MD5 sums checked\n",
      "package 'googlePolylines' successfully unpacked and MD5 sums checked\n",
      "package 'isoband' successfully unpacked and MD5 sums checked\n",
      "package 'rlang' successfully unpacked and MD5 sums checked\n"
     ]
    },
    {
     "name": "stderr",
     "output_type": "stream",
     "text": [
      "Warning message:\n",
      "\"cannot remove prior installation of package 'rlang'\"Warning message in file.copy(savedcopy, lib, recursive = TRUE):\n",
      "\"problem copying C:\\Users\\bibek\\anaconda3\\envs\\r-environment\\Lib\\R\\library\\00LOCK\\rlang\\libs\\x64\\rlang.dll to C:\\Users\\bibek\\anaconda3\\envs\\r-environment\\Lib\\R\\library\\rlang\\libs\\x64\\rlang.dll: Permission denied\"Warning message:\n",
      "\"restored 'rlang'\""
     ]
    },
    {
     "name": "stdout",
     "output_type": "stream",
     "text": [
      "package 'rosm' successfully unpacked and MD5 sums checked\n",
      "package 'abind' successfully unpacked and MD5 sums checked\n",
      "package 'classInt' successfully unpacked and MD5 sums checked\n",
      "package 's2' successfully unpacked and MD5 sums checked\n",
      "package 'units' successfully unpacked and MD5 sums checked\n",
      "package 'sp' successfully unpacked and MD5 sums checked\n",
      "package 'cowplot' successfully unpacked and MD5 sums checked\n",
      "package 'ggspatial' successfully unpacked and MD5 sums checked\n",
      "package 'sf' successfully unpacked and MD5 sums checked\n",
      "package 'rnaturalearth' successfully unpacked and MD5 sums checked\n",
      "package 'rnaturalearthdata' successfully unpacked and MD5 sums checked\n",
      "\n",
      "The downloaded binary packages are in\n",
      "\tC:\\Users\\bibek\\AppData\\Local\\Temp\\RtmpWkZbZx\\downloaded_packages\n"
     ]
    },
    {
     "name": "stderr",
     "output_type": "stream",
     "text": [
      "installing the source packages 'googleway', 'ggplot2'\n",
      "\n",
      "Warning message in install.packages(c(\"cowplot\", \"googleway\", \"ggplot2\", \"ggrepel\", :\n",
      "\"installation of package 'googleway' had non-zero exit status\"Warning message in install.packages(c(\"cowplot\", \"googleway\", \"ggplot2\", \"ggrepel\", :\n",
      "\"installation of package 'ggplot2' had non-zero exit status\""
     ]
    }
   ],
   "source": [
    "install.packages(c(\"cowplot\", \"googleway\", \"ggplot2\", \"ggspatial\", \"libwgeom\", \"sf\", \"rnaturalearth\", \"rnaturalearthdata\"))"
   ]
  },
  {
   "cell_type": "code",
   "execution_count": 42,
   "id": "2fe5d60b",
   "metadata": {},
   "outputs": [
    {
     "name": "stdout",
     "output_type": "stream",
     "text": [
      "\n",
      "  There is a binary version available but the source version is later:\n",
      "      binary source needs_compilation\n",
      "rgeos  0.5-5  0.5-9              TRUE\n",
      "\n",
      "  Binaries will be installed\n",
      "package 'rgeos' successfully unpacked and MD5 sums checked\n",
      "\n",
      "The downloaded binary packages are in\n",
      "\tC:\\Users\\bibek\\AppData\\Local\\Temp\\RtmpWkZbZx\\downloaded_packages\n"
     ]
    }
   ],
   "source": [
    "install.packages(\"rgeos\")"
   ]
  },
  {
   "cell_type": "code",
   "execution_count": 10,
   "id": "17828bed",
   "metadata": {},
   "outputs": [],
   "source": [
    "df <- read.csv(\"ppg2008.csv\")\n",
    "df2 <- cor(select(df, -'Name'))\n",
    "df3 <- melt(df2)"
   ]
  },
  {
   "cell_type": "code",
   "execution_count": 11,
   "id": "64114052",
   "metadata": {},
   "outputs": [
    {
     "data": {
      "text/html": [
       "<table>\n",
       "<thead><tr><th scope=col>Var1</th><th scope=col>Var2</th><th scope=col>value</th></tr></thead>\n",
       "<tbody>\n",
       "\t<tr><td>G          </td><td>G          </td><td> 1.00000000</td></tr>\n",
       "\t<tr><td>MIN        </td><td>G          </td><td> 0.18686608</td></tr>\n",
       "\t<tr><td>PTS        </td><td>G          </td><td> 0.06309908</td></tr>\n",
       "\t<tr><td>FGM        </td><td>G          </td><td> 0.03992195</td></tr>\n",
       "\t<tr><td>FGA        </td><td>G          </td><td>-0.05958051</td></tr>\n",
       "\t<tr><td>FGP        </td><td>G          </td><td> 0.18087541</td></tr>\n",
       "</tbody>\n",
       "</table>\n"
      ],
      "text/latex": [
       "\\begin{tabular}{r|lll}\n",
       " Var1 & Var2 & value\\\\\n",
       "\\hline\n",
       "\t G           & G           &  1.00000000\\\\\n",
       "\t MIN         & G           &  0.18686608\\\\\n",
       "\t PTS         & G           &  0.06309908\\\\\n",
       "\t FGM         & G           &  0.03992195\\\\\n",
       "\t FGA         & G           & -0.05958051\\\\\n",
       "\t FGP         & G           &  0.18087541\\\\\n",
       "\\end{tabular}\n"
      ],
      "text/markdown": [
       "\n",
       "| Var1 | Var2 | value |\n",
       "|---|---|---|\n",
       "| G           | G           |  1.00000000 |\n",
       "| MIN         | G           |  0.18686608 |\n",
       "| PTS         | G           |  0.06309908 |\n",
       "| FGM         | G           |  0.03992195 |\n",
       "| FGA         | G           | -0.05958051 |\n",
       "| FGP         | G           |  0.18087541 |\n",
       "\n"
      ],
      "text/plain": [
       "  Var1 Var2 value      \n",
       "1 G    G     1.00000000\n",
       "2 MIN  G     0.18686608\n",
       "3 PTS  G     0.06309908\n",
       "4 FGM  G     0.03992195\n",
       "5 FGA  G    -0.05958051\n",
       "6 FGP  G     0.18087541"
      ]
     },
     "metadata": {},
     "output_type": "display_data"
    }
   ],
   "source": [
    "head(df3)"
   ]
  },
  {
   "cell_type": "markdown",
   "id": "c9be4c3d",
   "metadata": {},
   "source": [
    "### R - HeatMap"
   ]
  },
  {
   "cell_type": "code",
   "execution_count": 16,
   "id": "81092b05",
   "metadata": {},
   "outputs": [
    {
     "data": {
      "image/png": "[encoded data removed]",
      "text/plain": [
       "plot without title"
      ]
     },
     "metadata": {},
     "output_type": "display_data"
    }
   ],
   "source": [
    "options(repr.plot.width =8, repr.plot.height =5)\n",
    "ggplot(data = df3, aes(x=Var1, y=Var2, fill=value)) + \n",
    "geom_tile() + \n",
    "scale_fill_distiller(palette=\"Blues\")+\n",
    "  ggtitle(\"R - Heat Map: Basket Ball Statistics\")\n"
   ]
  },
  {
   "cell_type": "markdown",
   "id": "35a4bc19",
   "metadata": {},
   "source": [
    "### R - Spatial Charts"
   ]
  },
  {
   "cell_type": "code",
   "execution_count": 43,
   "id": "4c2015a8",
   "metadata": {
    "scrolled": false
   },
   "outputs": [
    {
     "name": "stderr",
     "output_type": "stream",
     "text": [
      "Loading required package: sp\n",
      "rgeos version: 0.5-5, (SVN revision 640)\n",
      " GEOS runtime version: 3.8.0-CAPI-1.13.1 \n",
      " Linking to sp version: 1.4-5 \n",
      " Polygon checking: TRUE \n",
      "\n"
     ]
    }
   ],
   "source": [
    "library(\"rnaturalearth\")\n",
    "library(\"rnaturalearthdata\")\n",
    "library(\"sf\")\n",
    "library(\"rgeos\")"
   ]
  },
  {
   "cell_type": "code",
   "execution_count": 44,
   "id": "2717d49a",
   "metadata": {},
   "outputs": [],
   "source": [
    "df <- read.csv(\"costcos-geocoded.csv\")"
   ]
  },
  {
   "cell_type": "code",
   "execution_count": 45,
   "id": "ce1e121e",
   "metadata": {},
   "outputs": [],
   "source": [
    "world <- ne_countries(scale = \"medium\", returnclass = \"sf\")"
   ]
  },
  {
   "cell_type": "code",
   "execution_count": 46,
   "id": "08e03f28",
   "metadata": {},
   "outputs": [],
   "source": [
    "counts <- df %>% count(df$State)\n",
    "names(counts) <- c('region','count')\n",
    "counts$region <- tolower(counts$region)"
   ]
  },
  {
   "cell_type": "code",
   "execution_count": 47,
   "id": "63334217",
   "metadata": {},
   "outputs": [],
   "source": [
    "MainStates <- map_data(\"state\")"
   ]
  },
  {
   "cell_type": "code",
   "execution_count": 48,
   "id": "4e43900e",
   "metadata": {},
   "outputs": [],
   "source": [
    "MergedStates <-  inner_join(MainStates, counts, by = \"region\")"
   ]
  },
  {
   "cell_type": "code",
   "execution_count": 51,
   "id": "c4169c3d",
   "metadata": {},
   "outputs": [
    {
     "data": {
      "image/png": "[encoded data removed]",
      "text/plain": [
       "plot without title"
      ]
     },
     "metadata": {},
     "output_type": "display_data"
    }
   ],
   "source": [
    "ggplot() +\n",
    "geom_sf(data = world) + \n",
    "geom_polygon( data=MainStates, aes(x=long, y=lat, group=group),\n",
    "                color=\"black\", fill=\"gray\")+\n",
    "coord_sf(xlim = c(-132.15, -64.12), ylim = c(20.65, 52.97), expand = FALSE) +\n",
    "geom_polygon(data=MergedStates, \n",
    "          aes(x=long, y=lat, group=group, fill = count), \n",
    "          color=\"white\", size = 0.2) +  \n",
    "theme_bw() +ggtitle(\"R - Spatial Chart: Number of Locations by State\")\n"
   ]
  },
  {
   "cell_type": "markdown",
   "id": "7ded48b9",
   "metadata": {},
   "source": [
    "### R - Contour Charts"
   ]
  },
  {
   "cell_type": "code",
   "execution_count": null,
   "id": "36d7f630",
   "metadata": {},
   "outputs": [],
   "source": [
    "#install.packages(\"MASS\")"
   ]
  },
  {
   "cell_type": "code",
   "execution_count": 72,
   "id": "939e1735",
   "metadata": {},
   "outputs": [
    {
     "data": {
      "image/png": "[encoded data removed]",
      "text/plain": [
       "plot without title"
      ]
     },
     "metadata": {},
     "output_type": "display_data"
    },
    {
     "data": {
      "image/png": "[encoded data removed]",
      "text/plain": [
       "Plot with title \"R - Contour Chart\""
      ]
     },
     "metadata": {},
     "output_type": "display_data"
    }
   ],
   "source": [
    "library(MASS)\n",
    "\n",
    "# Data\n",
    "x <- rnorm(500)\n",
    "y <- rnorm(500)\n",
    "z <- kde2d(x, y, n = 50)\n",
    "\n",
    "plot(x, y, pch = 19)\n",
    "\n",
    "\n",
    "filled.contour(volcano)\n",
    "title(\"R - Contour Chart\")"
   ]
  },
  {
   "cell_type": "code",
   "execution_count": null,
   "id": "7e8654e3",
   "metadata": {},
   "outputs": [],
   "source": []
  }
 ],
 "metadata": {
  "kernelspec": {
   "display_name": "R",
   "language": "R",
   "name": "ir"
  },
  "language_info": {
   "codemirror_mode": "r",
   "file_extension": ".r",
   "mimetype": "text/x-r-source",
   "name": "R",
   "pygments_lexer": "r",
   "version": "3.6.3"
  }
 },
 "nbformat": 4,
 "nbformat_minor": 5
}
