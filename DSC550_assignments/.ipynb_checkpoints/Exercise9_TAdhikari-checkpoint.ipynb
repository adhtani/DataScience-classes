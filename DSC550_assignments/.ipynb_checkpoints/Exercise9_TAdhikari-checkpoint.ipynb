{
 "cells": [
  {
   "cell_type": "markdown",
   "metadata": {},
   "source": [
    "### Exercise 9.3: Neural Network Classifier\n",
    "\n",
    "#### DSC 550\n",
    "\n",
    "Taniya Adhikari 02/20/2020"
   ]
  },
  {
   "cell_type": "code",
   "execution_count": 1,
   "metadata": {},
   "outputs": [],
   "source": [
    "import numpy as np\n",
    "import pandas as pd"
   ]
  },
  {
   "cell_type": "markdown",
   "metadata": {},
   "source": [
    "### Pre-processing Text"
   ]
  },
  {
   "cell_type": "code",
   "execution_count": 2,
   "metadata": {},
   "outputs": [
    {
     "data": {
      "text/plain": [
       "cat    606475\n",
       "txt    606475\n",
       "dtype: int64"
      ]
     },
     "execution_count": 2,
     "metadata": {},
     "output_type": "execute_result"
    }
   ],
   "source": [
    "data = pd.read_json('categorized-comments.jsonl', lines=True, nrows = 606475)\n",
    "data.count()"
   ]
  },
  {
   "cell_type": "code",
   "execution_count": 3,
   "metadata": {},
   "outputs": [
    {
     "data": {
      "text/html": [
       "<div>\n",
       "<style scoped>\n",
       "    .dataframe tbody tr th:only-of-type {\n",
       "        vertical-align: middle;\n",
       "    }\n",
       "\n",
       "    .dataframe tbody tr th {\n",
       "        vertical-align: top;\n",
       "    }\n",
       "\n",
       "    .dataframe thead th {\n",
       "        text-align: right;\n",
       "    }\n",
       "</style>\n",
       "<table border=\"1\" class=\"dataframe\">\n",
       "  <thead>\n",
       "    <tr style=\"text-align: right;\">\n",
       "      <th></th>\n",
       "      <th>cat</th>\n",
       "      <th>txt</th>\n",
       "    </tr>\n",
       "  </thead>\n",
       "  <tbody>\n",
       "    <tr>\n",
       "      <th>0</th>\n",
       "      <td>sports</td>\n",
       "      <td>Barely better than Gabbert? He was significant...</td>\n",
       "    </tr>\n",
       "    <tr>\n",
       "      <th>1</th>\n",
       "      <td>sports</td>\n",
       "      <td>Fuck the ducks and the Angels! But welcome to ...</td>\n",
       "    </tr>\n",
       "    <tr>\n",
       "      <th>2</th>\n",
       "      <td>sports</td>\n",
       "      <td>Should have drafted more WRs.\\n\\n- Matt Millen...</td>\n",
       "    </tr>\n",
       "    <tr>\n",
       "      <th>3</th>\n",
       "      <td>sports</td>\n",
       "      <td>[Done](https://i.imgur.com/2YZ90pm.jpg)</td>\n",
       "    </tr>\n",
       "    <tr>\n",
       "      <th>4</th>\n",
       "      <td>sports</td>\n",
       "      <td>No!! NOO!!!!!</td>\n",
       "    </tr>\n",
       "    <tr>\n",
       "      <th>5</th>\n",
       "      <td>sports</td>\n",
       "      <td>Ding dong the Kaepers gone!!!!!! Yes!!!! Frida...</td>\n",
       "    </tr>\n",
       "  </tbody>\n",
       "</table>\n",
       "</div>"
      ],
      "text/plain": [
       "      cat                                                txt\n",
       "0  sports  Barely better than Gabbert? He was significant...\n",
       "1  sports  Fuck the ducks and the Angels! But welcome to ...\n",
       "2  sports  Should have drafted more WRs.\\n\\n- Matt Millen...\n",
       "3  sports            [Done](https://i.imgur.com/2YZ90pm.jpg)\n",
       "4  sports                                      No!! NOO!!!!!\n",
       "5  sports  Ding dong the Kaepers gone!!!!!! Yes!!!! Frida..."
      ]
     },
     "execution_count": 3,
     "metadata": {},
     "output_type": "execute_result"
    }
   ],
   "source": [
    "data.head(6)"
   ]
  },
  {
   "cell_type": "code",
   "execution_count": 4,
   "metadata": {},
   "outputs": [
    {
     "data": {
      "text/plain": [
       "cat    50000\n",
       "txt    50000\n",
       "dtype: int64"
      ]
     },
     "execution_count": 4,
     "metadata": {},
     "output_type": "execute_result"
    }
   ],
   "source": [
    "# randomly selecting the sample\n",
    "df = data.sample(n = 50000)\n",
    "df.count()"
   ]
  },
  {
   "cell_type": "code",
   "execution_count": 5,
   "metadata": {},
   "outputs": [
    {
     "data": {
      "text/html": [
       "<div>\n",
       "<style scoped>\n",
       "    .dataframe tbody tr th:only-of-type {\n",
       "        vertical-align: middle;\n",
       "    }\n",
       "\n",
       "    .dataframe tbody tr th {\n",
       "        vertical-align: top;\n",
       "    }\n",
       "\n",
       "    .dataframe thead th {\n",
       "        text-align: right;\n",
       "    }\n",
       "</style>\n",
       "<table border=\"1\" class=\"dataframe\">\n",
       "  <thead>\n",
       "    <tr style=\"text-align: right;\">\n",
       "      <th></th>\n",
       "      <th>cat</th>\n",
       "      <th>txt</th>\n",
       "    </tr>\n",
       "  </thead>\n",
       "  <tbody>\n",
       "    <tr>\n",
       "      <th>311224</th>\n",
       "      <td>video_games</td>\n",
       "      <td>Why are you complaining? You gave what you kne...</td>\n",
       "    </tr>\n",
       "    <tr>\n",
       "      <th>333463</th>\n",
       "      <td>sports</td>\n",
       "      <td>United will take 4th ahead of us.</td>\n",
       "    </tr>\n",
       "    <tr>\n",
       "      <th>131709</th>\n",
       "      <td>video_games</td>\n",
       "      <td>How can I subscribe to this post, I look for i...</td>\n",
       "    </tr>\n",
       "    <tr>\n",
       "      <th>154522</th>\n",
       "      <td>video_games</td>\n",
       "      <td>Sounds like a nice way to fuck someone over in...</td>\n",
       "    </tr>\n",
       "    <tr>\n",
       "      <th>246574</th>\n",
       "      <td>sports</td>\n",
       "      <td>Yh I'd recommend skrtel SIF. Very cheap and fi...</td>\n",
       "    </tr>\n",
       "    <tr>\n",
       "      <th>587836</th>\n",
       "      <td>video_games</td>\n",
       "      <td>Not everyone is fortunate to have two monitors...</td>\n",
       "    </tr>\n",
       "  </tbody>\n",
       "</table>\n",
       "</div>"
      ],
      "text/plain": [
       "                cat                                                txt\n",
       "311224  video_games  Why are you complaining? You gave what you kne...\n",
       "333463       sports                  United will take 4th ahead of us.\n",
       "131709  video_games  How can I subscribe to this post, I look for i...\n",
       "154522  video_games  Sounds like a nice way to fuck someone over in...\n",
       "246574       sports  Yh I'd recommend skrtel SIF. Very cheap and fi...\n",
       "587836  video_games  Not everyone is fortunate to have two monitors..."
      ]
     },
     "execution_count": 5,
     "metadata": {},
     "output_type": "execute_result"
    }
   ],
   "source": [
    "df.head(6)"
   ]
  },
  {
   "cell_type": "code",
   "execution_count": 6,
   "metadata": {},
   "outputs": [
    {
     "data": {
      "text/html": [
       "<div>\n",
       "<style scoped>\n",
       "    .dataframe tbody tr th:only-of-type {\n",
       "        vertical-align: middle;\n",
       "    }\n",
       "\n",
       "    .dataframe tbody tr th {\n",
       "        vertical-align: top;\n",
       "    }\n",
       "\n",
       "    .dataframe thead th {\n",
       "        text-align: right;\n",
       "    }\n",
       "</style>\n",
       "<table border=\"1\" class=\"dataframe\">\n",
       "  <thead>\n",
       "    <tr style=\"text-align: right;\">\n",
       "      <th></th>\n",
       "      <th>cat</th>\n",
       "      <th>txt</th>\n",
       "    </tr>\n",
       "  </thead>\n",
       "  <tbody>\n",
       "    <tr>\n",
       "      <th>311224</th>\n",
       "      <td>video_games</td>\n",
       "      <td>why are you complaining? you gave what you kne...</td>\n",
       "    </tr>\n",
       "    <tr>\n",
       "      <th>333463</th>\n",
       "      <td>sports</td>\n",
       "      <td>united will take 4th ahead of us.</td>\n",
       "    </tr>\n",
       "    <tr>\n",
       "      <th>131709</th>\n",
       "      <td>video_games</td>\n",
       "      <td>how can i subscribe to this post, i look for i...</td>\n",
       "    </tr>\n",
       "  </tbody>\n",
       "</table>\n",
       "</div>"
      ],
      "text/plain": [
       "                cat                                                txt\n",
       "311224  video_games  why are you complaining? you gave what you kne...\n",
       "333463       sports                  united will take 4th ahead of us.\n",
       "131709  video_games  how can i subscribe to this post, i look for i..."
      ]
     },
     "execution_count": 6,
     "metadata": {},
     "output_type": "execute_result"
    }
   ],
   "source": [
    "# converting all text to lowercase\n",
    "df[\"txt\"] = df[\"txt\"].str.lower()\n",
    "df.head(3)"
   ]
  },
  {
   "cell_type": "code",
   "execution_count": 7,
   "metadata": {},
   "outputs": [
    {
     "data": {
      "text/html": [
       "<div>\n",
       "<style scoped>\n",
       "    .dataframe tbody tr th:only-of-type {\n",
       "        vertical-align: middle;\n",
       "    }\n",
       "\n",
       "    .dataframe tbody tr th {\n",
       "        vertical-align: top;\n",
       "    }\n",
       "\n",
       "    .dataframe thead th {\n",
       "        text-align: right;\n",
       "    }\n",
       "</style>\n",
       "<table border=\"1\" class=\"dataframe\">\n",
       "  <thead>\n",
       "    <tr style=\"text-align: right;\">\n",
       "      <th></th>\n",
       "      <th>cat</th>\n",
       "      <th>txt</th>\n",
       "    </tr>\n",
       "  </thead>\n",
       "  <tbody>\n",
       "    <tr>\n",
       "      <th>311224</th>\n",
       "      <td>video_games</td>\n",
       "      <td>why are you complaining you gave what you knew...</td>\n",
       "    </tr>\n",
       "    <tr>\n",
       "      <th>333463</th>\n",
       "      <td>sports</td>\n",
       "      <td>united will take 4th ahead of us</td>\n",
       "    </tr>\n",
       "    <tr>\n",
       "      <th>131709</th>\n",
       "      <td>video_games</td>\n",
       "      <td>how can i subscribe to this post i look for it...</td>\n",
       "    </tr>\n",
       "    <tr>\n",
       "      <th>154522</th>\n",
       "      <td>video_games</td>\n",
       "      <td>sounds like a nice way to fuck someone over in...</td>\n",
       "    </tr>\n",
       "    <tr>\n",
       "      <th>246574</th>\n",
       "      <td>sports</td>\n",
       "      <td>yh id recommend skrtel sif very cheap and fill...</td>\n",
       "    </tr>\n",
       "    <tr>\n",
       "      <th>587836</th>\n",
       "      <td>video_games</td>\n",
       "      <td>not everyone is fortunate to have two monitors...</td>\n",
       "    </tr>\n",
       "  </tbody>\n",
       "</table>\n",
       "</div>"
      ],
      "text/plain": [
       "                cat                                                txt\n",
       "311224  video_games  why are you complaining you gave what you knew...\n",
       "333463       sports                   united will take 4th ahead of us\n",
       "131709  video_games  how can i subscribe to this post i look for it...\n",
       "154522  video_games  sounds like a nice way to fuck someone over in...\n",
       "246574       sports  yh id recommend skrtel sif very cheap and fill...\n",
       "587836  video_games  not everyone is fortunate to have two monitors..."
      ]
     },
     "execution_count": 7,
     "metadata": {},
     "output_type": "execute_result"
    }
   ],
   "source": [
    "# removing punctuation using string.punctuations and join()\n",
    "# it joins each string if it's not a punctuation\n",
    "\n",
    "import string\n",
    "df['txt'] = df['txt'].apply(lambda x: \"\".join([i for i in x if i not in string.punctuation]))\n",
    "\n",
    "df.head(6)"
   ]
  },
  {
   "cell_type": "markdown",
   "metadata": {},
   "source": [
    "Remove stop words."
   ]
  },
  {
   "cell_type": "code",
   "execution_count": 8,
   "metadata": {},
   "outputs": [
    {
     "name": "stderr",
     "output_type": "stream",
     "text": [
      "[nltk_data] Downloading package stopwords to\n",
      "[nltk_data]     C:\\Users\\taniy\\AppData\\Roaming\\nltk_data...\n",
      "[nltk_data]   Package stopwords is already up-to-date!\n"
     ]
    },
    {
     "data": {
      "text/plain": [
       "True"
      ]
     },
     "execution_count": 8,
     "metadata": {},
     "output_type": "execute_result"
    }
   ],
   "source": [
    "import nltk\n",
    "nltk.download('stopwords')"
   ]
  },
  {
   "cell_type": "code",
   "execution_count": 9,
   "metadata": {},
   "outputs": [
    {
     "data": {
      "text/html": [
       "<div>\n",
       "<style scoped>\n",
       "    .dataframe tbody tr th:only-of-type {\n",
       "        vertical-align: middle;\n",
       "    }\n",
       "\n",
       "    .dataframe tbody tr th {\n",
       "        vertical-align: top;\n",
       "    }\n",
       "\n",
       "    .dataframe thead th {\n",
       "        text-align: right;\n",
       "    }\n",
       "</style>\n",
       "<table border=\"1\" class=\"dataframe\">\n",
       "  <thead>\n",
       "    <tr style=\"text-align: right;\">\n",
       "      <th></th>\n",
       "      <th>txt</th>\n",
       "      <th>stopwords</th>\n",
       "    </tr>\n",
       "  </thead>\n",
       "  <tbody>\n",
       "    <tr>\n",
       "      <th>311224</th>\n",
       "      <td>why are you complaining you gave what you knew...</td>\n",
       "      <td>25</td>\n",
       "    </tr>\n",
       "    <tr>\n",
       "      <th>333463</th>\n",
       "      <td>united will take 4th ahead of us</td>\n",
       "      <td>2</td>\n",
       "    </tr>\n",
       "    <tr>\n",
       "      <th>131709</th>\n",
       "      <td>how can i subscribe to this post i look for it...</td>\n",
       "      <td>8</td>\n",
       "    </tr>\n",
       "    <tr>\n",
       "      <th>154522</th>\n",
       "      <td>sounds like a nice way to fuck someone over in...</td>\n",
       "      <td>13</td>\n",
       "    </tr>\n",
       "    <tr>\n",
       "      <th>246574</th>\n",
       "      <td>yh id recommend skrtel sif very cheap and fill...</td>\n",
       "      <td>5</td>\n",
       "    </tr>\n",
       "  </tbody>\n",
       "</table>\n",
       "</div>"
      ],
      "text/plain": [
       "                                                      txt  stopwords\n",
       "311224  why are you complaining you gave what you knew...         25\n",
       "333463                   united will take 4th ahead of us          2\n",
       "131709  how can i subscribe to this post i look for it...          8\n",
       "154522  sounds like a nice way to fuck someone over in...         13\n",
       "246574  yh id recommend skrtel sif very cheap and fill...          5"
      ]
     },
     "execution_count": 9,
     "metadata": {},
     "output_type": "execute_result"
    }
   ],
   "source": [
    "# of NLTK stopwords in each row text\n",
    "from nltk.corpus import stopwords\n",
    "stop = stopwords.words('english')\n",
    "\n",
    "df['stopwords'] = df['txt'].apply(lambda x: len([i for i in x.split() if i in stop]))\n",
    "df[['txt','stopwords']].head()"
   ]
  },
  {
   "cell_type": "code",
   "execution_count": 10,
   "metadata": {},
   "outputs": [
    {
     "data": {
      "text/plain": [
       "311224    complaining gave knew going unpopular opinion ...\n",
       "333463                             united take 4th ahead us\n",
       "131709                       subscribe post look every week\n",
       "154522    sounds like nice way fuck someone getting easy...\n",
       "Name: txt, dtype: object"
      ]
     },
     "execution_count": 10,
     "metadata": {},
     "output_type": "execute_result"
    }
   ],
   "source": [
    "# removing stop words from each row\n",
    "df['txt'] = df['txt'].apply(lambda x: \" \".join(i for i in x.split() if i not in stop))\n",
    "df['txt'].head(4)"
   ]
  },
  {
   "cell_type": "code",
   "execution_count": 11,
   "metadata": {},
   "outputs": [
    {
     "data": {
      "text/html": [
       "<div>\n",
       "<style scoped>\n",
       "    .dataframe tbody tr th:only-of-type {\n",
       "        vertical-align: middle;\n",
       "    }\n",
       "\n",
       "    .dataframe tbody tr th {\n",
       "        vertical-align: top;\n",
       "    }\n",
       "\n",
       "    .dataframe thead th {\n",
       "        text-align: right;\n",
       "    }\n",
       "</style>\n",
       "<table border=\"1\" class=\"dataframe\">\n",
       "  <thead>\n",
       "    <tr style=\"text-align: right;\">\n",
       "      <th></th>\n",
       "      <th>txt</th>\n",
       "      <th>stopwords</th>\n",
       "    </tr>\n",
       "  </thead>\n",
       "  <tbody>\n",
       "    <tr>\n",
       "      <th>311224</th>\n",
       "      <td>complaining gave knew going unpopular opinion ...</td>\n",
       "      <td>0</td>\n",
       "    </tr>\n",
       "    <tr>\n",
       "      <th>333463</th>\n",
       "      <td>united take 4th ahead us</td>\n",
       "      <td>0</td>\n",
       "    </tr>\n",
       "    <tr>\n",
       "      <th>131709</th>\n",
       "      <td>subscribe post look every week</td>\n",
       "      <td>0</td>\n",
       "    </tr>\n",
       "    <tr>\n",
       "      <th>154522</th>\n",
       "      <td>sounds like nice way fuck someone getting easy...</td>\n",
       "      <td>0</td>\n",
       "    </tr>\n",
       "  </tbody>\n",
       "</table>\n",
       "</div>"
      ],
      "text/plain": [
       "                                                      txt  stopwords\n",
       "311224  complaining gave knew going unpopular opinion ...          0\n",
       "333463                           united take 4th ahead us          0\n",
       "131709                     subscribe post look every week          0\n",
       "154522  sounds like nice way fuck someone getting easy...          0"
      ]
     },
     "execution_count": 11,
     "metadata": {},
     "output_type": "execute_result"
    }
   ],
   "source": [
    "# check to see if it removed all stop words\n",
    "df['stopwords'] = df['txt'].apply(lambda x: len([i for i in x.split() if i in stop]))\n",
    "df[['txt','stopwords']].head(4)"
   ]
  },
  {
   "cell_type": "markdown",
   "metadata": {},
   "source": [
    "Apply NLTK’s PorterStemmer."
   ]
  },
  {
   "cell_type": "code",
   "execution_count": 12,
   "metadata": {},
   "outputs": [
    {
     "data": {
      "text/plain": [
       "311224    complain gave knew go unpopular opinion case y...\n",
       "333463                               unit take 4th ahead us\n",
       "131709                        subscrib post look everi week\n",
       "154522    sound like nice way fuck someon get easi repor...\n",
       "246574    yh id recommend skrtel sif cheap fill potenti ...\n",
       "587836    everyon fortun two monitor though also take gr...\n",
       "Name: txt, dtype: object"
      ]
     },
     "execution_count": 12,
     "metadata": {},
     "output_type": "execute_result"
    }
   ],
   "source": [
    "# Apply NLTK’s PorterStemmer\n",
    "from nltk.stem import PorterStemmer\n",
    "porter = PorterStemmer()\n",
    "df['txt'] = df['txt'].apply(lambda x: \" \".join([porter.stem(word) for word in x.split()]))\n",
    "df['txt'].head(6)"
   ]
  },
  {
   "cell_type": "code",
   "execution_count": 13,
   "metadata": {},
   "outputs": [],
   "source": [
    "df = df[['cat', 'txt']]"
   ]
  },
  {
   "cell_type": "markdown",
   "metadata": {},
   "source": [
    "**Imbalanced classes**"
   ]
  },
  {
   "cell_type": "code",
   "execution_count": 14,
   "metadata": {},
   "outputs": [
    {
     "data": {
      "image/png": "[encoded data removed]",
      "text/plain": [
       "<Figure size 576x432 with 1 Axes>"
      ]
     },
     "metadata": {
      "needs_background": "light"
     },
     "output_type": "display_data"
    }
   ],
   "source": [
    "import matplotlib.pyplot as plt\n",
    "fig = plt.figure(figsize=(8,6))\n",
    "df.groupby('cat').txt.count().plot.bar(ylim=0)\n",
    "plt.show()"
   ]
  },
  {
   "cell_type": "code",
   "execution_count": 15,
   "metadata": {},
   "outputs": [
    {
     "data": {
      "text/html": [
       "<div>\n",
       "<style scoped>\n",
       "    .dataframe tbody tr th:only-of-type {\n",
       "        vertical-align: middle;\n",
       "    }\n",
       "\n",
       "    .dataframe tbody tr th {\n",
       "        vertical-align: top;\n",
       "    }\n",
       "\n",
       "    .dataframe thead th {\n",
       "        text-align: right;\n",
       "    }\n",
       "</style>\n",
       "<table border=\"1\" class=\"dataframe\">\n",
       "  <thead>\n",
       "    <tr style=\"text-align: right;\">\n",
       "      <th></th>\n",
       "      <th>cat</th>\n",
       "      <th>txt</th>\n",
       "    </tr>\n",
       "  </thead>\n",
       "  <tbody>\n",
       "    <tr>\n",
       "      <th>311224</th>\n",
       "      <td>video_games</td>\n",
       "      <td>complain gave knew go unpopular opinion case y...</td>\n",
       "    </tr>\n",
       "    <tr>\n",
       "      <th>333463</th>\n",
       "      <td>sports</td>\n",
       "      <td>unit take 4th ahead us</td>\n",
       "    </tr>\n",
       "    <tr>\n",
       "      <th>131709</th>\n",
       "      <td>video_games</td>\n",
       "      <td>subscrib post look everi week</td>\n",
       "    </tr>\n",
       "    <tr>\n",
       "      <th>154522</th>\n",
       "      <td>video_games</td>\n",
       "      <td>sound like nice way fuck someon get easi repor...</td>\n",
       "    </tr>\n",
       "    <tr>\n",
       "      <th>246574</th>\n",
       "      <td>sports</td>\n",
       "      <td>yh id recommend skrtel sif cheap fill potenti ...</td>\n",
       "    </tr>\n",
       "  </tbody>\n",
       "</table>\n",
       "</div>"
      ],
      "text/plain": [
       "                cat                                                txt\n",
       "311224  video_games  complain gave knew go unpopular opinion case y...\n",
       "333463       sports                             unit take 4th ahead us\n",
       "131709  video_games                      subscrib post look everi week\n",
       "154522  video_games  sound like nice way fuck someon get easi repor...\n",
       "246574       sports  yh id recommend skrtel sif cheap fill potenti ..."
      ]
     },
     "execution_count": 15,
     "metadata": {},
     "output_type": "execute_result"
    }
   ],
   "source": [
    "df.head()"
   ]
  },
  {
   "cell_type": "code",
   "execution_count": 16,
   "metadata": {},
   "outputs": [
    {
     "data": {
      "text/plain": [
       "video_games               35989\n",
       "sports                    11936\n",
       "science_and_technology     2075\n",
       "Name: cat, dtype: int64"
      ]
     },
     "execution_count": 16,
     "metadata": {},
     "output_type": "execute_result"
    }
   ],
   "source": [
    "df.cat.value_counts()"
   ]
  },
  {
   "cell_type": "code",
   "execution_count": 17,
   "metadata": {},
   "outputs": [],
   "source": [
    "# renaming the categorical variables to numerical\n",
    "df = df.replace({'cat': {'video_games': 0, 'sports': 1, 'science_and_technology':2}})\n",
    "df['cat']= df['cat'].astype(int)                 "
   ]
  },
  {
   "cell_type": "code",
   "execution_count": 18,
   "metadata": {},
   "outputs": [
    {
     "data": {
      "text/html": [
       "<div>\n",
       "<style scoped>\n",
       "    .dataframe tbody tr th:only-of-type {\n",
       "        vertical-align: middle;\n",
       "    }\n",
       "\n",
       "    .dataframe tbody tr th {\n",
       "        vertical-align: top;\n",
       "    }\n",
       "\n",
       "    .dataframe thead th {\n",
       "        text-align: right;\n",
       "    }\n",
       "</style>\n",
       "<table border=\"1\" class=\"dataframe\">\n",
       "  <thead>\n",
       "    <tr style=\"text-align: right;\">\n",
       "      <th></th>\n",
       "      <th>cat</th>\n",
       "      <th>txt</th>\n",
       "    </tr>\n",
       "  </thead>\n",
       "  <tbody>\n",
       "    <tr>\n",
       "      <th>311224</th>\n",
       "      <td>0</td>\n",
       "      <td>complain gave knew go unpopular opinion case y...</td>\n",
       "    </tr>\n",
       "    <tr>\n",
       "      <th>333463</th>\n",
       "      <td>1</td>\n",
       "      <td>unit take 4th ahead us</td>\n",
       "    </tr>\n",
       "    <tr>\n",
       "      <th>131709</th>\n",
       "      <td>0</td>\n",
       "      <td>subscrib post look everi week</td>\n",
       "    </tr>\n",
       "    <tr>\n",
       "      <th>154522</th>\n",
       "      <td>0</td>\n",
       "      <td>sound like nice way fuck someon get easi repor...</td>\n",
       "    </tr>\n",
       "    <tr>\n",
       "      <th>246574</th>\n",
       "      <td>1</td>\n",
       "      <td>yh id recommend skrtel sif cheap fill potenti ...</td>\n",
       "    </tr>\n",
       "  </tbody>\n",
       "</table>\n",
       "</div>"
      ],
      "text/plain": [
       "        cat                                                txt\n",
       "311224    0  complain gave knew go unpopular opinion case y...\n",
       "333463    1                             unit take 4th ahead us\n",
       "131709    0                      subscrib post look everi week\n",
       "154522    0  sound like nice way fuck someon get easi repor...\n",
       "246574    1  yh id recommend skrtel sif cheap fill potenti ..."
      ]
     },
     "execution_count": 18,
     "metadata": {},
     "output_type": "execute_result"
    }
   ],
   "source": [
    "df.head()"
   ]
  },
  {
   "cell_type": "markdown",
   "metadata": {},
   "source": [
    "Splitting the data into training and testing set"
   ]
  },
  {
   "cell_type": "code",
   "execution_count": 19,
   "metadata": {},
   "outputs": [],
   "source": [
    "sample = df.sample(n=20000)"
   ]
  },
  {
   "cell_type": "code",
   "execution_count": 20,
   "metadata": {},
   "outputs": [
    {
     "data": {
      "text/plain": [
       "(20000, 2)"
      ]
     },
     "execution_count": 20,
     "metadata": {},
     "output_type": "execute_result"
    }
   ],
   "source": [
    "sample.shape"
   ]
  },
  {
   "cell_type": "code",
   "execution_count": 21,
   "metadata": {},
   "outputs": [],
   "source": [
    "from sklearn.model_selection import train_test_split\n",
    "\n",
    "X_train, X_test, y_train, y_test = train_test_split(sample['txt'], sample['cat'], random_state = 0)"
   ]
  },
  {
   "cell_type": "markdown",
   "metadata": {},
   "source": [
    "**Convert each entry into a term frequency-inverse document frequency (tfidf) vector.**"
   ]
  },
  {
   "cell_type": "code",
   "execution_count": 22,
   "metadata": {},
   "outputs": [],
   "source": [
    "from sklearn.feature_extraction.text import CountVectorizer\n",
    "count_vect = CountVectorizer()\n",
    "X_train_counts = count_vect.fit_transform(X_train)\n"
   ]
  },
  {
   "cell_type": "code",
   "execution_count": 23,
   "metadata": {},
   "outputs": [
    {
     "data": {
      "text/plain": [
       "(15000, 17556)"
      ]
     },
     "execution_count": 23,
     "metadata": {},
     "output_type": "execute_result"
    }
   ],
   "source": [
    "from sklearn.feature_extraction.text import TfidfTransformer\n",
    "tfidf_transformer = TfidfTransformer()\n",
    "X_train_tfidf = tfidf_transformer.fit_transform(X_train_counts)\n",
    "X_train_tfidf.shape"
   ]
  },
  {
   "cell_type": "markdown",
   "metadata": {},
   "source": [
    "### 1. Neural Network Classifier with Scikit"
   ]
  },
  {
   "cell_type": "code",
   "execution_count": 24,
   "metadata": {},
   "outputs": [],
   "source": [
    "from sklearn.model_selection import cross_val_score\n",
    "from sklearn.neural_network import MLPClassifier"
   ]
  },
  {
   "cell_type": "code",
   "execution_count": 25,
   "metadata": {},
   "outputs": [
    {
     "name": "stdout",
     "output_type": "stream",
     "text": [
      "Iteration 1, loss = 0.64432307\n",
      "Iteration 2, loss = 0.34192576\n",
      "Iteration 3, loss = 0.19861565\n",
      "Iteration 4, loss = 0.13024373\n",
      "Iteration 5, loss = 0.09370780\n",
      "Iteration 6, loss = 0.07580446\n",
      "Iteration 7, loss = 0.06605314\n",
      "Iteration 8, loss = 0.06305117\n",
      "Iteration 9, loss = 0.06113197\n",
      "Iteration 10, loss = 0.05878465\n",
      "Iteration 11, loss = 0.06020533\n",
      "Iteration 12, loss = 0.05722260\n",
      "Iteration 13, loss = 0.05628641\n",
      "Iteration 14, loss = 0.05615187\n",
      "Iteration 15, loss = 0.05601970\n",
      "Iteration 16, loss = 0.05493805\n",
      "Iteration 17, loss = 0.05567702\n",
      "Iteration 18, loss = 0.05499976\n",
      "Iteration 19, loss = 0.05520299\n",
      "Iteration 20, loss = 0.05441319\n",
      "Iteration 21, loss = 0.05494424\n",
      "Iteration 22, loss = 0.05512901\n",
      "Iteration 23, loss = 0.05387040\n",
      "Iteration 24, loss = 0.05397646\n",
      "Iteration 25, loss = 0.05343707\n",
      "Iteration 26, loss = 0.05344367\n",
      "Iteration 27, loss = 0.05323690\n",
      "Iteration 28, loss = 0.05338518\n",
      "Iteration 29, loss = 0.05280051\n",
      "Iteration 30, loss = 0.05272986\n",
      "Iteration 31, loss = 0.05300768\n",
      "Iteration 32, loss = 0.05306634\n",
      "Iteration 33, loss = 0.05270894\n",
      "Iteration 34, loss = 0.05270211\n",
      "Iteration 35, loss = 0.05260379\n",
      "Iteration 36, loss = 0.05214075\n",
      "Iteration 37, loss = 0.05220818\n",
      "Iteration 38, loss = 0.05195226\n",
      "Iteration 39, loss = 0.05230143\n",
      "Iteration 40, loss = 0.05207737\n",
      "Iteration 41, loss = 0.05187631\n",
      "Iteration 42, loss = 0.05161888\n",
      "Iteration 43, loss = 0.05169512\n",
      "Iteration 44, loss = 0.05205763\n",
      "Iteration 45, loss = 0.05144888\n",
      "Iteration 46, loss = 0.05162289\n",
      "Iteration 47, loss = 0.05150894\n",
      "Iteration 48, loss = 0.05160357\n",
      "Iteration 49, loss = 0.05113414\n",
      "Iteration 50, loss = 0.05154668\n",
      "Iteration 51, loss = 0.05117901\n",
      "Iteration 52, loss = 0.05153202\n",
      "Iteration 53, loss = 0.05172616\n",
      "Iteration 54, loss = 0.05129516\n",
      "Iteration 55, loss = 0.05109738\n",
      "Iteration 56, loss = 0.05118362\n",
      "Iteration 57, loss = 0.05122808\n",
      "Iteration 58, loss = 0.05110289\n",
      "Iteration 59, loss = 0.05124473\n",
      "Iteration 60, loss = 0.05085585\n",
      "Iteration 61, loss = 0.05103467\n",
      "Iteration 62, loss = 0.05093615\n",
      "Iteration 63, loss = 0.05094292\n",
      "Iteration 64, loss = 0.05042482\n",
      "Iteration 65, loss = 0.05096429\n",
      "Iteration 66, loss = 0.05108673\n",
      "Iteration 67, loss = 0.05069488\n",
      "Iteration 68, loss = 0.05094989\n",
      "Iteration 69, loss = 0.05078410\n",
      "Iteration 70, loss = 0.05074487\n",
      "Iteration 71, loss = 0.05095703\n",
      "Iteration 72, loss = 0.05075761\n",
      "Iteration 73, loss = 0.05074527\n",
      "Iteration 74, loss = 0.05092147\n",
      "Iteration 75, loss = 0.05052721\n",
      "Training loss did not improve more than tol=0.000100 for 10 consecutive epochs. Stopping.\n"
     ]
    }
   ],
   "source": [
    "from sklearn.pipeline import Pipeline\n",
    "text_clf = Pipeline([('vect', CountVectorizer()),\n",
    "                     ('tfidf', TfidfTransformer()),\n",
    "                     ('clf', MLPClassifier(hidden_layer_sizes =[500,150], verbose = True))])\n",
    "\n",
    "text_clf = text_clf.fit(X_train, y_train)"
   ]
  },
  {
   "cell_type": "code",
   "execution_count": 26,
   "metadata": {},
   "outputs": [],
   "source": [
    "y_hat = text_clf.predict(X_test)"
   ]
  },
  {
   "cell_type": "code",
   "execution_count": 27,
   "metadata": {},
   "outputs": [],
   "source": [
    "from sklearn.metrics import f1_score, precision_score, recall_score\n",
    "f1 = f1_score(y_test, y_hat, average='macro')\n",
    "recall = recall_score(y_test, y_hat, average='macro')\n",
    "precision = precision_score(y_test, y_hat, average='macro')\n",
    "accuracy = text_clf.score(X_test, y_test)"
   ]
  },
  {
   "cell_type": "code",
   "execution_count": 28,
   "metadata": {},
   "outputs": [
    {
     "name": "stdout",
     "output_type": "stream",
     "text": [
      "Accuracy score: 0.797\n",
      "Precision score: 0.7312570260956207\n",
      "Recall score: 0.6145109562617223\n",
      "F1 score: 0.6557794737332098\n"
     ]
    }
   ],
   "source": [
    "print(\"Accuracy score: {}\".format(accuracy))\n",
    "print(\"Precision score: {}\".format(precision))\n",
    "print(\"Recall score: {}\".format(recall))\n",
    "print(\"F1 score: {}\".format(f1))\n"
   ]
  },
  {
   "cell_type": "code",
   "execution_count": 29,
   "metadata": {},
   "outputs": [],
   "source": [
    "from sklearn.metrics import confusion_matrix\n",
    "import matplotlib.pyplot as plt\n",
    "import seaborn as sns"
   ]
  },
  {
   "cell_type": "code",
   "execution_count": 30,
   "metadata": {},
   "outputs": [
    {
     "data": {
      "image/png": "[encoded data removed]",
      "text/plain": [
       "<Figure size 720x720 with 1 Axes>"
      ]
     },
     "metadata": {
      "needs_background": "light"
     },
     "output_type": "display_data"
    }
   ],
   "source": [
    "# visualizing the Score\n",
    "plt.rcParams['figure.figsize'] = (10,10)\n",
    "plt.rcParams['font.size'] = 20\n",
    "\n",
    "matrix = confusion_matrix(y_test, y_hat)\n",
    "class_names = ['video games', 'sports', 'science & technology']\n",
    "# Create pandas dataframe\n",
    "dataframe = pd.DataFrame(matrix,index=class_names, columns=class_names)\n",
    "\n",
    "# Create heatmap\n",
    "sns.heatmap(dataframe, annot=True, cbar=None, cmap=\"Blues\")\n",
    "plt.title(\"Confusion Matrix\"), plt.tight_layout()\n",
    "plt.ylabel(\"True Class\"), plt.xlabel(\"Predicted Class\")\n",
    "plt.show()"
   ]
  },
  {
   "cell_type": "markdown",
   "metadata": {},
   "source": [
    "1. Accuracy score for testing set is 0.80\n",
    "2. Precision score for testing set 0.73\n",
    "3. Recall score for testing set is 0.61\n",
    "4. F1 score for testing set is 0.66"
   ]
  },
  {
   "cell_type": "markdown",
   "metadata": {},
   "source": [
    "### 2. Neural Network Classifier with Keras"
   ]
  },
  {
   "cell_type": "code",
   "execution_count": 31,
   "metadata": {},
   "outputs": [
    {
     "name": "stderr",
     "output_type": "stream",
     "text": [
      "Using TensorFlow backend.\n",
      "C:\\Users\\taniy\\anaconda3\\envs\\myenv\\lib\\site-packages\\tensorflow\\python\\framework\\dtypes.py:516: FutureWarning: Passing (type, 1) or '1type' as a synonym of type is deprecated; in a future version of numpy, it will be understood as (type, (1,)) / '(1,)type'.\n",
      "  _np_qint8 = np.dtype([(\"qint8\", np.int8, 1)])\n",
      "C:\\Users\\taniy\\anaconda3\\envs\\myenv\\lib\\site-packages\\tensorflow\\python\\framework\\dtypes.py:517: FutureWarning: Passing (type, 1) or '1type' as a synonym of type is deprecated; in a future version of numpy, it will be understood as (type, (1,)) / '(1,)type'.\n",
      "  _np_quint8 = np.dtype([(\"quint8\", np.uint8, 1)])\n",
      "C:\\Users\\taniy\\anaconda3\\envs\\myenv\\lib\\site-packages\\tensorflow\\python\\framework\\dtypes.py:518: FutureWarning: Passing (type, 1) or '1type' as a synonym of type is deprecated; in a future version of numpy, it will be understood as (type, (1,)) / '(1,)type'.\n",
      "  _np_qint16 = np.dtype([(\"qint16\", np.int16, 1)])\n",
      "C:\\Users\\taniy\\anaconda3\\envs\\myenv\\lib\\site-packages\\tensorflow\\python\\framework\\dtypes.py:519: FutureWarning: Passing (type, 1) or '1type' as a synonym of type is deprecated; in a future version of numpy, it will be understood as (type, (1,)) / '(1,)type'.\n",
      "  _np_quint16 = np.dtype([(\"quint16\", np.uint16, 1)])\n",
      "C:\\Users\\taniy\\anaconda3\\envs\\myenv\\lib\\site-packages\\tensorflow\\python\\framework\\dtypes.py:520: FutureWarning: Passing (type, 1) or '1type' as a synonym of type is deprecated; in a future version of numpy, it will be understood as (type, (1,)) / '(1,)type'.\n",
      "  _np_qint32 = np.dtype([(\"qint32\", np.int32, 1)])\n",
      "C:\\Users\\taniy\\anaconda3\\envs\\myenv\\lib\\site-packages\\tensorflow\\python\\framework\\dtypes.py:525: FutureWarning: Passing (type, 1) or '1type' as a synonym of type is deprecated; in a future version of numpy, it will be understood as (type, (1,)) / '(1,)type'.\n",
      "  np_resource = np.dtype([(\"resource\", np.ubyte, 1)])\n",
      "C:\\Users\\taniy\\anaconda3\\envs\\myenv\\lib\\site-packages\\tensorboard\\compat\\tensorflow_stub\\dtypes.py:541: FutureWarning: Passing (type, 1) or '1type' as a synonym of type is deprecated; in a future version of numpy, it will be understood as (type, (1,)) / '(1,)type'.\n",
      "  _np_qint8 = np.dtype([(\"qint8\", np.int8, 1)])\n",
      "C:\\Users\\taniy\\anaconda3\\envs\\myenv\\lib\\site-packages\\tensorboard\\compat\\tensorflow_stub\\dtypes.py:542: FutureWarning: Passing (type, 1) or '1type' as a synonym of type is deprecated; in a future version of numpy, it will be understood as (type, (1,)) / '(1,)type'.\n",
      "  _np_quint8 = np.dtype([(\"quint8\", np.uint8, 1)])\n",
      "C:\\Users\\taniy\\anaconda3\\envs\\myenv\\lib\\site-packages\\tensorboard\\compat\\tensorflow_stub\\dtypes.py:543: FutureWarning: Passing (type, 1) or '1type' as a synonym of type is deprecated; in a future version of numpy, it will be understood as (type, (1,)) / '(1,)type'.\n",
      "  _np_qint16 = np.dtype([(\"qint16\", np.int16, 1)])\n",
      "C:\\Users\\taniy\\anaconda3\\envs\\myenv\\lib\\site-packages\\tensorboard\\compat\\tensorflow_stub\\dtypes.py:544: FutureWarning: Passing (type, 1) or '1type' as a synonym of type is deprecated; in a future version of numpy, it will be understood as (type, (1,)) / '(1,)type'.\n",
      "  _np_quint16 = np.dtype([(\"quint16\", np.uint16, 1)])\n",
      "C:\\Users\\taniy\\anaconda3\\envs\\myenv\\lib\\site-packages\\tensorboard\\compat\\tensorflow_stub\\dtypes.py:545: FutureWarning: Passing (type, 1) or '1type' as a synonym of type is deprecated; in a future version of numpy, it will be understood as (type, (1,)) / '(1,)type'.\n",
      "  _np_qint32 = np.dtype([(\"qint32\", np.int32, 1)])\n",
      "C:\\Users\\taniy\\anaconda3\\envs\\myenv\\lib\\site-packages\\tensorboard\\compat\\tensorflow_stub\\dtypes.py:550: FutureWarning: Passing (type, 1) or '1type' as a synonym of type is deprecated; in a future version of numpy, it will be understood as (type, (1,)) / '(1,)type'.\n",
      "  np_resource = np.dtype([(\"resource\", np.ubyte, 1)])\n"
     ]
    }
   ],
   "source": [
    "from keras.layers import Dense \n",
    "from keras.models import Sequential\n",
    "from keras.wrappers.scikit_learn import KerasClassifier"
   ]
  },
  {
   "cell_type": "code",
   "execution_count": 32,
   "metadata": {},
   "outputs": [
    {
     "data": {
      "text/plain": [
       "17556"
      ]
     },
     "execution_count": 32,
     "metadata": {},
     "output_type": "execute_result"
    }
   ],
   "source": [
    "input_dim = X_train_tfidf.shape[1]\n",
    "input_dim"
   ]
  },
  {
   "cell_type": "code",
   "execution_count": 33,
   "metadata": {},
   "outputs": [],
   "source": [
    "def build_network(): \n",
    "    \"\"\" \n",
    "    Create a function that returns \n",
    "    a compiled neural network \n",
    "    \"\"\" \n",
    "    nn = Sequential() \n",
    "    nn.add(Dense(500, activation ='relu', input_dim=input_dim)) \n",
    "    nn.add(Dense(3, activation='softmax'))\n",
    "    nn.compile(loss ='categorical_crossentropy', optimizer ='adam', metrics =['accuracy']) \n",
    "    \n",
    "    return nn"
   ]
  },
  {
   "cell_type": "code",
   "execution_count": 34,
   "metadata": {},
   "outputs": [
    {
     "name": "stdout",
     "output_type": "stream",
     "text": [
      "WARNING:tensorflow:From C:\\Users\\taniy\\anaconda3\\envs\\myenv\\lib\\site-packages\\keras\\backend\\tensorflow_backend.py:422: The name tf.global_variables is deprecated. Please use tf.compat.v1.global_variables instead.\n",
      "\n",
      "Epoch 1/200\n",
      "15000/15000 [==============================] - 16s 1ms/step - loss: 0.6704 - accuracy: 0.7361\n",
      "Epoch 2/200\n",
      "15000/15000 [==============================] - 16s 1ms/step - loss: 0.3746 - accuracy: 0.8571\n",
      "Epoch 3/200\n",
      "15000/15000 [==============================] - 16s 1ms/step - loss: 0.2437 - accuracy: 0.9080\n",
      "Epoch 4/200\n",
      "15000/15000 [==============================] - 16s 1ms/step - loss: 0.1765 - accuracy: 0.9348\n",
      "Epoch 5/200\n",
      "15000/15000 [==============================] - 16s 1ms/step - loss: 0.1406 - accuracy: 0.9479\n",
      "Epoch 6/200\n",
      "15000/15000 [==============================] - 16s 1ms/step - loss: 0.1176 - accuracy: 0.9565\n",
      "Epoch 7/200\n",
      "15000/15000 [==============================] - 16s 1ms/step - loss: 0.1007 - accuracy: 0.9642\n",
      "Epoch 8/200\n",
      "15000/15000 [==============================] - 16s 1ms/step - loss: 0.0883 - accuracy: 0.9679\n",
      "Epoch 9/200\n",
      "15000/15000 [==============================] - 16s 1ms/step - loss: 0.0796 - accuracy: 0.9720\n",
      "Epoch 10/200\n",
      "15000/15000 [==============================] - 16s 1ms/step - loss: 0.0740 - accuracy: 0.9745\n",
      "Epoch 11/200\n",
      "15000/15000 [==============================] - 16s 1ms/step - loss: 0.0694 - accuracy: 0.9760\n",
      "Epoch 12/200\n",
      "15000/15000 [==============================] - 16s 1ms/step - loss: 0.0654 - accuracy: 0.9769\n",
      "Epoch 13/200\n",
      "15000/15000 [==============================] - 16s 1ms/step - loss: 0.0629 - accuracy: 0.9773\n",
      "Epoch 14/200\n",
      "15000/15000 [==============================] - 16s 1ms/step - loss: 0.0615 - accuracy: 0.9775\n",
      "Epoch 15/200\n",
      "15000/15000 [==============================] - 16s 1ms/step - loss: 0.0593 - accuracy: 0.9783\n",
      "Epoch 16/200\n",
      "15000/15000 [==============================] - 16s 1ms/step - loss: 0.0584 - accuracy: 0.9787\n",
      "Epoch 17/200\n",
      "15000/15000 [==============================] - 16s 1ms/step - loss: 0.0579 - accuracy: 0.9779\n",
      "Epoch 18/200\n",
      "15000/15000 [==============================] - 16s 1ms/step - loss: 0.0580 - accuracy: 0.9779\n",
      "Epoch 19/200\n",
      "15000/15000 [==============================] - 16s 1ms/step - loss: 0.0568 - accuracy: 0.9785\n",
      "Epoch 20/200\n",
      "15000/15000 [==============================] - 16s 1ms/step - loss: 0.0556 - accuracy: 0.9787\n",
      "Epoch 21/200\n",
      "15000/15000 [==============================] - 16s 1ms/step - loss: 0.0569 - accuracy: 0.9781\n",
      "Epoch 22/200\n",
      "15000/15000 [==============================] - 16s 1ms/step - loss: 0.0558 - accuracy: 0.9784\n",
      "Epoch 23/200\n",
      "15000/15000 [==============================] - 16s 1ms/step - loss: 0.0554 - accuracy: 0.9788\n",
      "Epoch 24/200\n",
      "15000/15000 [==============================] - 16s 1ms/step - loss: 0.0557 - accuracy: 0.9789\n",
      "Epoch 25/200\n",
      "15000/15000 [==============================] - 16s 1ms/step - loss: 0.0552 - accuracy: 0.9777\n",
      "Epoch 26/200\n",
      "15000/15000 [==============================] - 16s 1ms/step - loss: 0.0549 - accuracy: 0.9791\n",
      "Epoch 27/200\n",
      "15000/15000 [==============================] - 16s 1ms/step - loss: 0.0547 - accuracy: 0.9791\n",
      "Epoch 28/200\n",
      "15000/15000 [==============================] - 16s 1ms/step - loss: 0.0538 - accuracy: 0.9793\n",
      "Epoch 29/200\n",
      "15000/15000 [==============================] - 16s 1ms/step - loss: 0.0539 - accuracy: 0.9785\n",
      "Epoch 30/200\n",
      "15000/15000 [==============================] - 16s 1ms/step - loss: 0.0545 - accuracy: 0.9793\n",
      "Epoch 31/200\n",
      "15000/15000 [==============================] - 16s 1ms/step - loss: 0.0541 - accuracy: 0.9793\n",
      "Epoch 32/200\n",
      "15000/15000 [==============================] - 16s 1ms/step - loss: 0.0534 - accuracy: 0.9794\n",
      "Epoch 33/200\n",
      "15000/15000 [==============================] - 16s 1ms/step - loss: 0.0537 - accuracy: 0.9786\n",
      "Epoch 34/200\n",
      "15000/15000 [==============================] - 16s 1ms/step - loss: 0.0534 - accuracy: 0.9790\n",
      "Epoch 35/200\n",
      "15000/15000 [==============================] - 16s 1ms/step - loss: 0.0529 - accuracy: 0.9787\n",
      "Epoch 36/200\n",
      "15000/15000 [==============================] - 16s 1ms/step - loss: 0.0533 - accuracy: 0.9786\n",
      "Epoch 37/200\n",
      "15000/15000 [==============================] - 16s 1ms/step - loss: 0.0532 - accuracy: 0.9787\n",
      "Epoch 38/200\n",
      "15000/15000 [==============================] - 16s 1ms/step - loss: 0.0557 - accuracy: 0.9773\n",
      "Epoch 39/200\n",
      "15000/15000 [==============================] - 16s 1ms/step - loss: 0.0526 - accuracy: 0.9789\n",
      "Epoch 40/200\n",
      "15000/15000 [==============================] - 16s 1ms/step - loss: 0.0534 - accuracy: 0.9785\n",
      "Epoch 41/200\n",
      "15000/15000 [==============================] - 15s 1ms/step - loss: 0.0531 - accuracy: 0.9793\n",
      "Epoch 42/200\n",
      "15000/15000 [==============================] - 16s 1ms/step - loss: 0.0526 - accuracy: 0.9789\n",
      "Epoch 43/200\n",
      "15000/15000 [==============================] - 16s 1ms/step - loss: 0.0525 - accuracy: 0.9787\n",
      "Epoch 44/200\n",
      "15000/15000 [==============================] - 16s 1ms/step - loss: 0.0527 - accuracy: 0.9783\n",
      "Epoch 45/200\n",
      "15000/15000 [==============================] - 16s 1ms/step - loss: 0.0522 - accuracy: 0.9789\n",
      "Epoch 46/200\n",
      "15000/15000 [==============================] - 16s 1ms/step - loss: 0.0530 - accuracy: 0.9792\n",
      "Epoch 47/200\n",
      "15000/15000 [==============================] - 16s 1ms/step - loss: 0.0524 - accuracy: 0.9789\n",
      "Epoch 48/200\n",
      "15000/15000 [==============================] - 16s 1ms/step - loss: 0.0525 - accuracy: 0.9785\n",
      "Epoch 49/200\n",
      "15000/15000 [==============================] - 15s 1ms/step - loss: 0.0529 - accuracy: 0.9786\n",
      "Epoch 50/200\n",
      "15000/15000 [==============================] - 16s 1ms/step - loss: 0.0524 - accuracy: 0.9781\n",
      "Epoch 51/200\n",
      "15000/15000 [==============================] - 16s 1ms/step - loss: 0.0528 - accuracy: 0.9787\n",
      "Epoch 52/200\n",
      "15000/15000 [==============================] - 16s 1ms/step - loss: 0.0523 - accuracy: 0.9787\n",
      "Epoch 53/200\n",
      "15000/15000 [==============================] - 16s 1ms/step - loss: 0.0524 - accuracy: 0.9790\n",
      "Epoch 54/200\n",
      "15000/15000 [==============================] - 16s 1ms/step - loss: 0.0522 - accuracy: 0.9791\n",
      "Epoch 55/200\n",
      "15000/15000 [==============================] - 16s 1ms/step - loss: 0.0517 - accuracy: 0.9785\n",
      "Epoch 56/200\n",
      "15000/15000 [==============================] - 16s 1ms/step - loss: 0.0524 - accuracy: 0.9788\n",
      "Epoch 57/200\n",
      "15000/15000 [==============================] - 16s 1ms/step - loss: 0.0520 - accuracy: 0.9784\n",
      "Epoch 58/200\n",
      "15000/15000 [==============================] - 16s 1ms/step - loss: 0.0521 - accuracy: 0.9793\n",
      "Epoch 59/200\n",
      "15000/15000 [==============================] - 16s 1ms/step - loss: 0.0517 - accuracy: 0.9789\n",
      "Epoch 60/200\n",
      "15000/15000 [==============================] - 16s 1ms/step - loss: 0.0514 - accuracy: 0.9790\n",
      "Epoch 61/200\n",
      "15000/15000 [==============================] - 16s 1ms/step - loss: 0.0523 - accuracy: 0.9788\n",
      "Epoch 62/200\n",
      "15000/15000 [==============================] - 16s 1ms/step - loss: 0.0512 - accuracy: 0.9790\n",
      "Epoch 63/200\n",
      "15000/15000 [==============================] - 16s 1ms/step - loss: 0.0513 - accuracy: 0.9793\n",
      "Epoch 64/200\n",
      "15000/15000 [==============================] - 16s 1ms/step - loss: 0.0515 - accuracy: 0.9789\n",
      "Epoch 65/200\n",
      "15000/15000 [==============================] - 16s 1ms/step - loss: 0.0522 - accuracy: 0.9789\n",
      "Epoch 66/200\n",
      "15000/15000 [==============================] - 16s 1ms/step - loss: 0.0517 - accuracy: 0.9791\n",
      "Epoch 67/200\n",
      "15000/15000 [==============================] - 16s 1ms/step - loss: 0.0511 - accuracy: 0.9792\n",
      "Epoch 68/200\n",
      "15000/15000 [==============================] - 16s 1ms/step - loss: 0.0513 - accuracy: 0.9789\n",
      "Epoch 69/200\n",
      "15000/15000 [==============================] - 16s 1ms/step - loss: 0.0514 - accuracy: 0.9791\n",
      "Epoch 70/200\n",
      "15000/15000 [==============================] - 16s 1ms/step - loss: 0.0522 - accuracy: 0.9791\n",
      "Epoch 71/200\n",
      "15000/15000 [==============================] - 16s 1ms/step - loss: 0.0515 - accuracy: 0.9788\n",
      "Epoch 72/200\n",
      "15000/15000 [==============================] - 16s 1ms/step - loss: 0.0522 - accuracy: 0.9787\n",
      "Epoch 73/200\n",
      "15000/15000 [==============================] - 16s 1ms/step - loss: 0.0515 - accuracy: 0.9790\n",
      "Epoch 74/200\n",
      "15000/15000 [==============================] - 16s 1ms/step - loss: 0.0510 - accuracy: 0.9793\n",
      "Epoch 75/200\n"
     ]
    },
    {
     "name": "stdout",
     "output_type": "stream",
     "text": [
      "15000/15000 [==============================] - 16s 1ms/step - loss: 0.0514 - accuracy: 0.9791\n",
      "Epoch 76/200\n",
      "15000/15000 [==============================] - 16s 1ms/step - loss: 0.0514 - accuracy: 0.9787\n",
      "Epoch 77/200\n",
      "15000/15000 [==============================] - 16s 1ms/step - loss: 0.0509 - accuracy: 0.9794\n",
      "Epoch 78/200\n",
      "15000/15000 [==============================] - 16s 1ms/step - loss: 0.0513 - accuracy: 0.9789\n",
      "Epoch 79/200\n",
      "15000/15000 [==============================] - 16s 1ms/step - loss: 0.0519 - accuracy: 0.9795\n",
      "Epoch 80/200\n",
      "15000/15000 [==============================] - 16s 1ms/step - loss: 0.0512 - accuracy: 0.9791\n",
      "Epoch 81/200\n",
      "15000/15000 [==============================] - 16s 1ms/step - loss: 0.0513 - accuracy: 0.9790\n",
      "Epoch 82/200\n",
      "15000/15000 [==============================] - 16s 1ms/step - loss: 0.0510 - accuracy: 0.9789\n",
      "Epoch 83/200\n",
      "15000/15000 [==============================] - 16s 1ms/step - loss: 0.0515 - accuracy: 0.9793\n",
      "Epoch 84/200\n",
      "15000/15000 [==============================] - 16s 1ms/step - loss: 0.0510 - accuracy: 0.9788\n",
      "Epoch 85/200\n",
      "15000/15000 [==============================] - 16s 1ms/step - loss: 0.0510 - accuracy: 0.9792\n",
      "Epoch 86/200\n",
      "15000/15000 [==============================] - 16s 1ms/step - loss: 0.0509 - accuracy: 0.9788\n",
      "Epoch 87/200\n",
      "15000/15000 [==============================] - 16s 1ms/step - loss: 0.0510 - accuracy: 0.9792\n",
      "Epoch 88/200\n",
      "15000/15000 [==============================] - 16s 1ms/step - loss: 0.0507 - accuracy: 0.9794\n",
      "Epoch 89/200\n",
      "15000/15000 [==============================] - 16s 1ms/step - loss: 0.0508 - accuracy: 0.9792\n",
      "Epoch 90/200\n",
      "15000/15000 [==============================] - 16s 1ms/step - loss: 0.0506 - accuracy: 0.9794\n",
      "Epoch 91/200\n",
      "15000/15000 [==============================] - 16s 1ms/step - loss: 0.0508 - accuracy: 0.9792\n",
      "Epoch 92/200\n",
      "15000/15000 [==============================] - 16s 1ms/step - loss: 0.0506 - accuracy: 0.9789\n",
      "Epoch 93/200\n",
      "15000/15000 [==============================] - 16s 1ms/step - loss: 0.0509 - accuracy: 0.9790\n",
      "Epoch 94/200\n",
      "15000/15000 [==============================] - 16s 1ms/step - loss: 0.0511 - accuracy: 0.9791\n",
      "Epoch 95/200\n",
      "15000/15000 [==============================] - 16s 1ms/step - loss: 0.0507 - accuracy: 0.9791\n",
      "Epoch 96/200\n",
      "15000/15000 [==============================] - 16s 1ms/step - loss: 0.0506 - accuracy: 0.9786\n",
      "Epoch 97/200\n",
      "15000/15000 [==============================] - 16s 1ms/step - loss: 0.0507 - accuracy: 0.9791\n",
      "Epoch 98/200\n",
      "15000/15000 [==============================] - 16s 1ms/step - loss: 0.0508 - accuracy: 0.9793\n",
      "Epoch 99/200\n",
      "15000/15000 [==============================] - 16s 1ms/step - loss: 0.0507 - accuracy: 0.9790\n",
      "Epoch 100/200\n",
      "15000/15000 [==============================] - 16s 1ms/step - loss: 0.0505 - accuracy: 0.9796\n",
      "Epoch 101/200\n",
      "15000/15000 [==============================] - 16s 1ms/step - loss: 0.0511 - accuracy: 0.9787\n",
      "Epoch 102/200\n",
      "15000/15000 [==============================] - 16s 1ms/step - loss: 0.0505 - accuracy: 0.9791\n",
      "Epoch 103/200\n",
      "15000/15000 [==============================] - 16s 1ms/step - loss: 0.0506 - accuracy: 0.9788\n",
      "Epoch 104/200\n",
      "15000/15000 [==============================] - 16s 1ms/step - loss: 0.0508 - accuracy: 0.9789\n",
      "Epoch 105/200\n",
      "15000/15000 [==============================] - 16s 1ms/step - loss: 0.0507 - accuracy: 0.9791\n",
      "Epoch 106/200\n",
      "15000/15000 [==============================] - 16s 1ms/step - loss: 0.0506 - accuracy: 0.9789\n",
      "Epoch 107/200\n",
      "15000/15000 [==============================] - 16s 1ms/step - loss: 0.0506 - accuracy: 0.9793\n",
      "Epoch 108/200\n",
      "15000/15000 [==============================] - 17s 1ms/step - loss: 0.0505 - accuracy: 0.9792\n",
      "Epoch 109/200\n",
      "15000/15000 [==============================] - 16s 1ms/step - loss: 0.0504 - accuracy: 0.9790\n",
      "Epoch 110/200\n",
      "15000/15000 [==============================] - 16s 1ms/step - loss: 0.0506 - accuracy: 0.9791\n",
      "Epoch 111/200\n",
      "15000/15000 [==============================] - 16s 1ms/step - loss: 0.0500 - accuracy: 0.9797\n",
      "Epoch 112/200\n",
      "15000/15000 [==============================] - 18s 1ms/step - loss: 0.0507 - accuracy: 0.9793\n",
      "Epoch 113/200\n",
      "15000/15000 [==============================] - 16s 1ms/step - loss: 0.0505 - accuracy: 0.9796\n",
      "Epoch 114/200\n",
      "15000/15000 [==============================] - 17s 1ms/step - loss: 0.0506 - accuracy: 0.9789\n",
      "Epoch 115/200\n",
      "15000/15000 [==============================] - 16s 1ms/step - loss: 0.0504 - accuracy: 0.9787\n",
      "Epoch 116/200\n",
      "15000/15000 [==============================] - 17s 1ms/step - loss: 0.0504 - accuracy: 0.9789\n",
      "Epoch 117/200\n",
      "15000/15000 [==============================] - 16s 1ms/step - loss: 0.0503 - accuracy: 0.9790\n",
      "Epoch 118/200\n",
      "15000/15000 [==============================] - 18s 1ms/step - loss: 0.0508 - accuracy: 0.9793\n",
      "Epoch 119/200\n",
      "15000/15000 [==============================] - 17s 1ms/step - loss: 0.0504 - accuracy: 0.9789\n",
      "Epoch 120/200\n",
      "15000/15000 [==============================] - 17s 1ms/step - loss: 0.0505 - accuracy: 0.9794\n",
      "Epoch 121/200\n",
      "15000/15000 [==============================] - 16s 1ms/step - loss: 0.0503 - accuracy: 0.9792\n",
      "Epoch 122/200\n",
      "15000/15000 [==============================] - 16s 1ms/step - loss: 0.0504 - accuracy: 0.9793\n",
      "Epoch 123/200\n",
      "15000/15000 [==============================] - 16s 1ms/step - loss: 0.0503 - accuracy: 0.9789\n",
      "Epoch 124/200\n",
      "15000/15000 [==============================] - 18s 1ms/step - loss: 0.0503 - accuracy: 0.9792\n",
      "Epoch 125/200\n",
      "15000/15000 [==============================] - 18s 1ms/step - loss: 0.0503 - accuracy: 0.9795\n",
      "Epoch 126/200\n",
      "15000/15000 [==============================] - 16s 1ms/step - loss: 0.0502 - accuracy: 0.9793\n",
      "Epoch 127/200\n",
      "15000/15000 [==============================] - 15s 1ms/step - loss: 0.0506 - accuracy: 0.9794\n",
      "Epoch 128/200\n",
      "15000/15000 [==============================] - 16s 1ms/step - loss: 0.0504 - accuracy: 0.9795\n",
      "Epoch 129/200\n",
      "15000/15000 [==============================] - 16s 1ms/step - loss: 0.0503 - accuracy: 0.9795\n",
      "Epoch 130/200\n",
      "15000/15000 [==============================] - 16s 1ms/step - loss: 0.0505 - accuracy: 0.9791\n",
      "Epoch 131/200\n",
      "15000/15000 [==============================] - 16s 1ms/step - loss: 0.0500 - accuracy: 0.9794\n",
      "Epoch 132/200\n",
      "15000/15000 [==============================] - 16s 1ms/step - loss: 0.0502 - accuracy: 0.9791\n",
      "Epoch 133/200\n",
      "15000/15000 [==============================] - 16s 1ms/step - loss: 0.0501 - accuracy: 0.9795\n",
      "Epoch 134/200\n",
      "15000/15000 [==============================] - 17s 1ms/step - loss: 0.0502 - accuracy: 0.9794\n",
      "Epoch 135/200\n",
      "15000/15000 [==============================] - 16s 1ms/step - loss: 0.0501 - accuracy: 0.9794\n",
      "Epoch 136/200\n",
      "15000/15000 [==============================] - 16s 1ms/step - loss: 0.0501 - accuracy: 0.9793\n",
      "Epoch 137/200\n",
      "15000/15000 [==============================] - 16s 1ms/step - loss: 0.0502 - accuracy: 0.9792\n",
      "Epoch 138/200\n",
      "15000/15000 [==============================] - 17s 1ms/step - loss: 0.0500 - accuracy: 0.9793\n",
      "Epoch 139/200\n",
      "15000/15000 [==============================] - 16s 1ms/step - loss: 0.0503 - accuracy: 0.9790\n",
      "Epoch 140/200\n",
      "15000/15000 [==============================] - 16s 1ms/step - loss: 0.0499 - accuracy: 0.9794\n",
      "Epoch 141/200\n",
      "15000/15000 [==============================] - 17s 1ms/step - loss: 0.0502 - accuracy: 0.9793\n",
      "Epoch 142/200\n",
      "15000/15000 [==============================] - 16s 1ms/step - loss: 0.0502 - accuracy: 0.9785\n",
      "Epoch 143/200\n",
      "15000/15000 [==============================] - 16s 1ms/step - loss: 0.0500 - accuracy: 0.9795\n",
      "Epoch 144/200\n",
      "15000/15000 [==============================] - 16s 1ms/step - loss: 0.0501 - accuracy: 0.9791\n",
      "Epoch 145/200\n",
      "15000/15000 [==============================] - 16s 1ms/step - loss: 0.0502 - accuracy: 0.9793\n",
      "Epoch 146/200\n",
      "15000/15000 [==============================] - 16s 1ms/step - loss: 0.0503 - accuracy: 0.9793\n",
      "Epoch 147/200\n",
      "15000/15000 [==============================] - 16s 1ms/step - loss: 0.0502 - accuracy: 0.9791\n",
      "Epoch 148/200\n",
      "15000/15000 [==============================] - 16s 1ms/step - loss: 0.0503 - accuracy: 0.9793\n",
      "Epoch 149/200\n",
      "15000/15000 [==============================] - 16s 1ms/step - loss: 0.0501 - accuracy: 0.9797\n",
      "Epoch 150/200\n",
      "15000/15000 [==============================] - 16s 1ms/step - loss: 0.0500 - accuracy: 0.9793\n",
      "Epoch 151/200\n"
     ]
    },
    {
     "name": "stdout",
     "output_type": "stream",
     "text": [
      "15000/15000 [==============================] - 15s 1ms/step - loss: 0.0499 - accuracy: 0.9793\n",
      "Epoch 152/200\n",
      "15000/15000 [==============================] - 16s 1ms/step - loss: 0.0501 - accuracy: 0.9794\n",
      "Epoch 153/200\n",
      "15000/15000 [==============================] - 16s 1ms/step - loss: 0.0501 - accuracy: 0.9794\n",
      "Epoch 154/200\n",
      "15000/15000 [==============================] - 16s 1ms/step - loss: 0.0501 - accuracy: 0.9795\n",
      "Epoch 155/200\n",
      "15000/15000 [==============================] - 16s 1ms/step - loss: 0.0502 - accuracy: 0.9790\n",
      "Epoch 156/200\n",
      "15000/15000 [==============================] - 16s 1ms/step - loss: 0.0497 - accuracy: 0.9793\n",
      "Epoch 157/200\n",
      "15000/15000 [==============================] - 16s 1ms/step - loss: 0.0500 - accuracy: 0.9793\n",
      "Epoch 158/200\n",
      "15000/15000 [==============================] - 17s 1ms/step - loss: 0.0498 - accuracy: 0.9791\n",
      "Epoch 159/200\n",
      "15000/15000 [==============================] - 16s 1ms/step - loss: 0.0498 - accuracy: 0.9791\n",
      "Epoch 160/200\n",
      "15000/15000 [==============================] - 16s 1ms/step - loss: 0.0500 - accuracy: 0.9795\n",
      "Epoch 161/200\n",
      "15000/15000 [==============================] - 16s 1ms/step - loss: 0.0500 - accuracy: 0.9795\n",
      "Epoch 162/200\n",
      "15000/15000 [==============================] - 16s 1ms/step - loss: 0.0500 - accuracy: 0.9794\n",
      "Epoch 163/200\n",
      "15000/15000 [==============================] - 16s 1ms/step - loss: 0.0500 - accuracy: 0.9792\n",
      "Epoch 164/200\n",
      "15000/15000 [==============================] - 16s 1ms/step - loss: 0.0500 - accuracy: 0.9794\n",
      "Epoch 165/200\n",
      "15000/15000 [==============================] - 16s 1ms/step - loss: 0.0500 - accuracy: 0.9796\n",
      "Epoch 166/200\n",
      "15000/15000 [==============================] - 16s 1ms/step - loss: 0.0499 - accuracy: 0.9791\n",
      "Epoch 167/200\n",
      "15000/15000 [==============================] - 16s 1ms/step - loss: 0.0499 - accuracy: 0.9793\n",
      "Epoch 168/200\n",
      "15000/15000 [==============================] - 17s 1ms/step - loss: 0.0501 - accuracy: 0.9793\n",
      "Epoch 169/200\n",
      "15000/15000 [==============================] - 16s 1ms/step - loss: 0.0499 - accuracy: 0.9795\n",
      "Epoch 170/200\n",
      "15000/15000 [==============================] - 16s 1ms/step - loss: 0.0499 - accuracy: 0.9795\n",
      "Epoch 171/200\n",
      "15000/15000 [==============================] - 16s 1ms/step - loss: 0.0499 - accuracy: 0.9789\n",
      "Epoch 172/200\n",
      "15000/15000 [==============================] - 16s 1ms/step - loss: 0.0499 - accuracy: 0.9789\n",
      "Epoch 173/200\n",
      "15000/15000 [==============================] - 16s 1ms/step - loss: 0.0498 - accuracy: 0.9787\n",
      "Epoch 174/200\n",
      "15000/15000 [==============================] - 16s 1ms/step - loss: 0.0499 - accuracy: 0.9791\n",
      "Epoch 175/200\n",
      "15000/15000 [==============================] - 16s 1ms/step - loss: 0.0499 - accuracy: 0.9791\n",
      "Epoch 176/200\n",
      "15000/15000 [==============================] - 16s 1ms/step - loss: 0.0498 - accuracy: 0.9790\n",
      "Epoch 177/200\n",
      "15000/15000 [==============================] - 16s 1ms/step - loss: 0.0500 - accuracy: 0.9791\n",
      "Epoch 178/200\n",
      "15000/15000 [==============================] - 16s 1ms/step - loss: 0.0499 - accuracy: 0.9796\n",
      "Epoch 179/200\n",
      "15000/15000 [==============================] - 16s 1ms/step - loss: 0.0498 - accuracy: 0.9793\n",
      "Epoch 180/200\n",
      "15000/15000 [==============================] - 16s 1ms/step - loss: 0.0498 - accuracy: 0.9793\n",
      "Epoch 181/200\n",
      "15000/15000 [==============================] - 16s 1ms/step - loss: 0.0500 - accuracy: 0.9795\n",
      "Epoch 182/200\n",
      "15000/15000 [==============================] - 16s 1ms/step - loss: 0.0497 - accuracy: 0.9795\n",
      "Epoch 183/200\n",
      "15000/15000 [==============================] - 16s 1ms/step - loss: 0.0498 - accuracy: 0.9794\n",
      "Epoch 184/200\n",
      "15000/15000 [==============================] - 16s 1ms/step - loss: 0.0498 - accuracy: 0.9793\n",
      "Epoch 185/200\n",
      "15000/15000 [==============================] - 16s 1ms/step - loss: 0.0498 - accuracy: 0.9791\n",
      "Epoch 186/200\n",
      "15000/15000 [==============================] - 16s 1ms/step - loss: 0.0498 - accuracy: 0.9795\n",
      "Epoch 187/200\n",
      "15000/15000 [==============================] - 16s 1ms/step - loss: 0.0498 - accuracy: 0.9792\n",
      "Epoch 188/200\n",
      "15000/15000 [==============================] - 16s 1ms/step - loss: 0.0497 - accuracy: 0.9793\n",
      "Epoch 189/200\n",
      "15000/15000 [==============================] - 16s 1ms/step - loss: 0.0499 - accuracy: 0.9790\n",
      "Epoch 190/200\n",
      "15000/15000 [==============================] - 16s 1ms/step - loss: 0.0500 - accuracy: 0.9794\n",
      "Epoch 191/200\n",
      "15000/15000 [==============================] - 16s 1ms/step - loss: 0.0498 - accuracy: 0.9793\n",
      "Epoch 192/200\n",
      "15000/15000 [==============================] - 16s 1ms/step - loss: 0.0498 - accuracy: 0.9795\n",
      "Epoch 193/200\n",
      "15000/15000 [==============================] - 16s 1ms/step - loss: 0.0498 - accuracy: 0.9790\n",
      "Epoch 194/200\n",
      "15000/15000 [==============================] - 16s 1ms/step - loss: 0.0497 - accuracy: 0.9792\n",
      "Epoch 195/200\n",
      "15000/15000 [==============================] - 16s 1ms/step - loss: 0.0498 - accuracy: 0.9791\n",
      "Epoch 196/200\n",
      "15000/15000 [==============================] - 16s 1ms/step - loss: 0.0498 - accuracy: 0.9797\n",
      "Epoch 197/200\n",
      "15000/15000 [==============================] - 16s 1ms/step - loss: 0.0497 - accuracy: 0.9793\n",
      "Epoch 198/200\n",
      "15000/15000 [==============================] - 16s 1ms/step - loss: 0.0498 - accuracy: 0.9795\n",
      "Epoch 199/200\n",
      "15000/15000 [==============================] - 16s 1ms/step - loss: 0.0497 - accuracy: 0.9790\n",
      "Epoch 200/200\n",
      "15000/15000 [==============================] - 16s 1ms/step - loss: 0.0497 - accuracy: 0.9793\n"
     ]
    }
   ],
   "source": [
    "from sklearn.pipeline import Pipeline\n",
    "text_clf = Pipeline([('vect', CountVectorizer()),\n",
    "                     ('tfidf', TfidfTransformer()),\n",
    "                     ('clf2', KerasClassifier(build_fn = build_network, \n",
    "                                              epochs = 200, batch_size = 128))])\n",
    "\n",
    "text_clf = text_clf.fit(X_train, y_train)"
   ]
  },
  {
   "cell_type": "code",
   "execution_count": 35,
   "metadata": {},
   "outputs": [],
   "source": [
    "y_hat = text_clf.predict(X_test)"
   ]
  },
  {
   "cell_type": "code",
   "execution_count": 36,
   "metadata": {},
   "outputs": [
    {
     "name": "stdout",
     "output_type": "stream",
     "text": [
      "5000/5000 [==============================] - 1s 200us/step\n"
     ]
    }
   ],
   "source": [
    "f1 = f1_score(y_test, y_hat, average='macro')\n",
    "recall = recall_score(y_test, y_hat, average='macro')\n",
    "precision = precision_score(y_test, y_hat, average='macro')\n",
    "accuracy = text_clf.score(X_test, y_test)"
   ]
  },
  {
   "cell_type": "code",
   "execution_count": 37,
   "metadata": {},
   "outputs": [
    {
     "name": "stdout",
     "output_type": "stream",
     "text": [
      "Accuracy score: 0.7925999760627747\n",
      "Precision score: 0.6998181392467829\n",
      "Recall score: 0.6087710164660967\n",
      "F1 score: 0.6433603103894434\n"
     ]
    }
   ],
   "source": [
    "print(\"Accuracy score: {}\".format(accuracy))\n",
    "print(\"Precision score: {}\".format(precision))\n",
    "print(\"Recall score: {}\".format(recall))\n",
    "print(\"F1 score: {}\".format(f1))"
   ]
  },
  {
   "cell_type": "code",
   "execution_count": 38,
   "metadata": {},
   "outputs": [
    {
     "data": {
      "image/png": "[encoded data removed]",
      "text/plain": [
       "<Figure size 720x720 with 1 Axes>"
      ]
     },
     "metadata": {
      "needs_background": "light"
     },
     "output_type": "display_data"
    }
   ],
   "source": [
    "# visualizing the Score\n",
    "plt.rcParams['figure.figsize'] = (10,10)\n",
    "plt.rcParams['font.size'] = 20\n",
    "\n",
    "matrix = confusion_matrix(y_test, y_hat)\n",
    "class_names = ['video games', 'sports', 'science & technology']\n",
    "# Create pandas dataframe\n",
    "dataframe = pd.DataFrame(matrix,index=class_names, columns=class_names)\n",
    "\n",
    "# Create heatmap\n",
    "sns.heatmap(dataframe, annot=True, cbar=None, cmap=\"Blues\")\n",
    "plt.title(\"Confusion Matrix\"), plt.tight_layout()\n",
    "plt.ylabel(\"True Class\"), plt.xlabel(\"Predicted Class\")\n",
    "plt.show()"
   ]
  },
  {
   "cell_type": "markdown",
   "metadata": {},
   "source": [
    "1. Accuracy score for testing set is 0.7925\n",
    "2. Precision score for testing set 0.70\n",
    "3. Recall score for testing set is 0.61\n",
    "4. F1 score for testing set is 0.64"
   ]
  },
  {
   "cell_type": "markdown",
   "metadata": {},
   "source": [
    "### 3. Classifying Images"
   ]
  },
  {
   "cell_type": "code",
   "execution_count": 53,
   "metadata": {},
   "outputs": [],
   "source": [
    "from keras.datasets import mnist\n",
    "from keras.layers import Dense, Dropout, Flatten\n",
    "from keras.layers.convolutional import Conv2D, MaxPooling2D\n",
    "from keras.utils import np_utils\n",
    "from keras import backend as K"
   ]
  },
  {
   "cell_type": "code",
   "execution_count": 54,
   "metadata": {},
   "outputs": [],
   "source": [
    "# Set that the color channel value will be first\n",
    "K.set_image_data_format(\"channels_first\")\n",
    "\n",
    "# Set seed\n",
    "np.random.seed(0)\n",
    "\n",
    "# Set image information\n",
    "channels = 1\n",
    "height = 28\n",
    "width = 28\n",
    "\n",
    "# Load data and target from MNIST data\n",
    "(data_train, target_train), (data_test, target_test) = mnist.load_data()\n",
    "\n",
    "# Reshape training image data into features\n",
    "data_train = data_train.reshape(data_train.shape[0], channels, height, width)\n",
    "\n",
    "# Reshape test image data into features\n",
    "data_test = data_test.reshape(data_test.shape[0], channels, height, width)\n",
    "\n",
    "# Rescale pixel intensity to between 0 and 1\n",
    "features_train = data_train / 255\n",
    "features_test = data_test / 255"
   ]
  },
  {
   "cell_type": "code",
   "execution_count": 55,
   "metadata": {},
   "outputs": [],
   "source": [
    "# One-hot encode target\n",
    "target_train = np_utils.to_categorical(target_train)\n",
    "target_test = np_utils.to_categorical(target_test)\n",
    "number_of_classes = target_test.shape[1]"
   ]
  },
  {
   "cell_type": "code",
   "execution_count": 58,
   "metadata": {},
   "outputs": [
    {
     "data": {
      "text/plain": [
       "<keras.callbacks.callbacks.History at 0x281bdec4708>"
      ]
     },
     "execution_count": 58,
     "metadata": {},
     "output_type": "execute_result"
    }
   ],
   "source": [
    "# Start neural network\n",
    "network = Sequential()\n",
    "\n",
    "# Add convolutional layer with 64 filters, a 5x5 window, and ReLU activation function\n",
    "network.add(Conv2D(filters=64,\n",
    "                   kernel_size=(5, 5),\n",
    "                   input_shape=(channels, width, height),\n",
    "                   activation='relu'))\n",
    "\n",
    "# Add max pooling layer with a 2x2 window\n",
    "network.add(MaxPooling2D(pool_size=(2, 2)))\n",
    "\n",
    "# Add dropout layer\n",
    "network.add(Dropout(0.5))\n",
    "\n",
    "# Add layer to flatten input\n",
    "network.add(Flatten())\n",
    "\n",
    "# # Add fully connected layer of 128 units with a ReLU activation function\n",
    "network.add(Dense(128, activation=\"relu\"))\n",
    "\n",
    "# Add dropout layer\n",
    "network.add(Dropout(0.5))\n",
    "\n",
    "# Add fully connected layer with a softmax activation function\n",
    "network.add(Dense(number_of_classes, activation=\"softmax\"))\n",
    "\n",
    "# Compile neural network\n",
    "network.compile(loss=\"categorical_crossentropy\", # Cross-entropy\n",
    "                optimizer=\"rmsprop\", # Root Mean Square Propagation\n",
    "                metrics=[\"accuracy\"]) # Accuracy performance metric\n",
    "\n",
    "# Train neural network\n",
    "network.fit(features_train, # Features\n",
    "            target_train, # Target\n",
    "            epochs=2, # Number of epochs\n",
    "            verbose=0, # Don't print description after each epoch\n",
    "            batch_size=1000, # Number of observations per batch\n",
    "            validation_data=(features_test, target_test)) # Data for evaluation\n"
   ]
  },
  {
   "cell_type": "code",
   "execution_count": 59,
   "metadata": {},
   "outputs": [
    {
     "name": "stdout",
     "output_type": "stream",
     "text": [
      "Training Accuracy: 0.9738\n",
      "Testing Accuracy: 0.9741\n"
     ]
    }
   ],
   "source": [
    "loss, accuracy = network.evaluate(features_train, target_train, verbose=False)\n",
    "print(\"Training Accuracy: {:.4f}\".format(accuracy))\n",
    "loss, accuracy = network.evaluate(features_test, target_test, verbose=False)\n",
    "print(\"Testing Accuracy: {:.4f}\".format(accuracy))"
   ]
  },
  {
   "cell_type": "markdown",
   "metadata": {},
   "source": [
    "Training Accuracy for image classifier is .9738, while testing accuracy is .9741"
   ]
  },
  {
   "cell_type": "code",
   "execution_count": null,
   "metadata": {},
   "outputs": [],
   "source": []
  }
 ],
 "metadata": {
  "kernelspec": {
   "display_name": "Python 3",
   "language": "python",
   "name": "python3"
  },
  "language_info": {
   "codemirror_mode": {
    "name": "ipython",
    "version": 3
   },
   "file_extension": ".py",
   "mimetype": "text/x-python",
   "name": "python",
   "nbconvert_exporter": "python",
   "pygments_lexer": "ipython3",
   "version": "3.7.9"
  }
 },
 "nbformat": 4,
 "nbformat_minor": 4
}
