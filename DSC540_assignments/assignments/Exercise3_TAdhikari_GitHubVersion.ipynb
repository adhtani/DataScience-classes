{
 "cells": [
  {
   "cell_type": "markdown",
   "metadata": {},
   "source": [
    "### Exercise: Week 5 & 6\n",
    "\n",
    "#### DSC 540\n",
    "\n",
    "Taniya Adhikari 01/24/2020"
   ]
  },
  {
   "cell_type": "code",
   "execution_count": 2,
   "metadata": {},
   "outputs": [],
   "source": [
    "from bs4 import BeautifulSoup as BS\n",
    "import pandas as pd\n",
    "import requests\n",
    "\n",
    "import numpy as np \n",
    "import matplotlib.pyplot as plt \n",
    "%matplotlib inline\n"
   ]
  },
  {
   "cell_type": "markdown",
   "metadata": {},
   "source": [
    "### 1. Data Wrangling with Python: Activity 7, page 207"
   ]
  },
  {
   "cell_type": "markdown",
   "metadata": {},
   "source": [
    "**Using requests library to read the source code for the webpage and creating an object**  \n",
    "    **1. Inspect Element of the Webpage**  \n",
    "    **2. Read the Page Using bs4**"
   ]
  },
  {
   "cell_type": "code",
   "execution_count": 3,
   "metadata": {},
   "outputs": [],
   "source": [
    "url = requests.get('https://en.wikipedia.org/wiki/List_of_countries_by_GDP_(nominal)').text\n",
    "soup = BS(url,'html.parser')"
   ]
  },
  {
   "cell_type": "markdown",
   "metadata": {},
   "source": [
    "**3. Find the table structure you will need to deal with (how many tables there are?)**"
   ]
  },
  {
   "cell_type": "code",
   "execution_count": 4,
   "metadata": {},
   "outputs": [
    {
     "name": "stdout",
     "output_type": "stream",
     "text": [
      "Total number of tables are 10 \n"
     ]
    }
   ],
   "source": [
    "# finds all the tables in the webpage\n",
    "num_tables = soup.find_all(\"table\") \n",
    "print(\"Total number of tables are {} \".format(len(num_tables)))"
   ]
  },
  {
   "cell_type": "markdown",
   "metadata": {},
   "source": [
    "**4. Finding right table using bs4**"
   ]
  },
  {
   "cell_type": "code",
   "execution_count": 5,
   "metadata": {},
   "outputs": [
    {
     "name": "stdout",
     "output_type": "stream",
     "text": [
      "<class 'bs4.element.Tag'>\n"
     ]
    }
   ],
   "source": [
    "# finds tables with class\n",
    "table = soup.find('table',{'class':'wikitable'})\n",
    "print(type(table))"
   ]
  },
  {
   "cell_type": "markdown",
   "metadata": {},
   "source": [
    "**5. Separate the source names and their corresponding data**"
   ]
  },
  {
   "cell_type": "code",
   "execution_count": 6,
   "metadata": {},
   "outputs": [
    {
     "name": "stdout",
     "output_type": "stream",
     "text": [
      "3\n"
     ]
    }
   ],
   "source": [
    "# finds sources under <tr> tag and creates a list for <td>\n",
    "sources = table.tbody.findAll('tr', recursive=False)[0] \n",
    "sources_list = [td for td in sources.findAll('td')]\n",
    "print(len(sources_list))\n"
   ]
  },
  {
   "cell_type": "markdown",
   "metadata": {},
   "source": [
    "**6. Get the source names from the list of sources you have created**"
   ]
  },
  {
   "cell_type": "code",
   "execution_count": 7,
   "metadata": {},
   "outputs": [
    {
     "name": "stdout",
     "output_type": "stream",
     "text": [
      "['International Monetary Fund', 'World Bank', 'United Nations']\n"
     ]
    }
   ],
   "source": [
    "# creates a list with source names\n",
    "source_names = [source.findAll('a')[0].getText() for source in sources_list] \n",
    "print(source_names)"
   ]
  },
  {
   "cell_type": "markdown",
   "metadata": {},
   "source": [
    "**7. Separate the header and data from the data that you separated before for the first source only, and then create a DataFrame using that**"
   ]
  },
  {
   "cell_type": "code",
   "execution_count": 8,
   "metadata": {},
   "outputs": [],
   "source": [
    "# finds in table body elements with <tr> tag\n",
    "dt = table.tbody.findAll('tr', recursive=False)[1].findAll('td', recursive=False)\n",
    "\n",
    "# creates a list of tables\n",
    "tables = [] \n",
    "for td in dt: \n",
    "    tables.append(td.findAll('table'))"
   ]
  },
  {
   "cell_type": "code",
   "execution_count": 11,
   "metadata": {},
   "outputs": [
    {
     "data": {
      "text/plain": [
       "<tr>\n",
       "<th data-sort-type=\"number\" style=\"width:2em;\">Rank</th>\n",
       "<th>Country/Territory</th>\n",
       "<th>GDP<br/>(US$million)\n",
       "</th></tr>"
      ]
     },
     "execution_count": 11,
     "metadata": {},
     "output_type": "execute_result"
    }
   ],
   "source": [
    "# seperates header and data into two separate variables\n",
    "headers_1 = tables[0][0].findAll('tbody')[0].findAll('tr')[0]\n",
    "\n",
    "data_1 = tables[0][0].findAll('tbody')[0].findAll('tr')[1:]\n",
    "\n",
    "headers_1"
   ]
  },
  {
   "cell_type": "code",
   "execution_count": 12,
   "metadata": {},
   "outputs": [
    {
     "data": {
      "text/plain": [
       "['Rank', 'Country/Territory', 'GDP(US$million)']"
      ]
     },
     "execution_count": 12,
     "metadata": {},
     "output_type": "execute_result"
    }
   ],
   "source": [
    "# list with table 1 headers\n",
    "df1_header = [th.getText().strip() for th in headers_1.findAll('th')]\n",
    "df1_header"
   ]
  },
  {
   "cell_type": "code",
   "execution_count": 13,
   "metadata": {},
   "outputs": [],
   "source": [
    "# # list with table 1 data\n",
    "df1_data = [[td.getText().strip() for td in tr.findAll('td')] for tr in data_1]\n",
    "del df1_data[0]"
   ]
  },
  {
   "cell_type": "code",
   "execution_count": 14,
   "metadata": {},
   "outputs": [
    {
     "data": {
      "text/html": [
       "<div>\n",
       "<style scoped>\n",
       "    .dataframe tbody tr th:only-of-type {\n",
       "        vertical-align: middle;\n",
       "    }\n",
       "\n",
       "    .dataframe tbody tr th {\n",
       "        vertical-align: top;\n",
       "    }\n",
       "\n",
       "    .dataframe thead th {\n",
       "        text-align: right;\n",
       "    }\n",
       "</style>\n",
       "<table border=\"1\" class=\"dataframe\">\n",
       "  <thead>\n",
       "    <tr style=\"text-align: right;\">\n",
       "      <th></th>\n",
       "      <th>Rank</th>\n",
       "      <th>Country/Territory</th>\n",
       "      <th>GDP(US$million)</th>\n",
       "    </tr>\n",
       "  </thead>\n",
       "  <tbody>\n",
       "    <tr>\n",
       "      <th>0</th>\n",
       "      <td>1</td>\n",
       "      <td>United States</td>\n",
       "      <td>20,807,269</td>\n",
       "    </tr>\n",
       "    <tr>\n",
       "      <th>1</th>\n",
       "      <td>2</td>\n",
       "      <td>China[n 2][n 3]</td>\n",
       "      <td>14,860,775</td>\n",
       "    </tr>\n",
       "    <tr>\n",
       "      <th>2</th>\n",
       "      <td>3</td>\n",
       "      <td>Japan</td>\n",
       "      <td>4,910,580</td>\n",
       "    </tr>\n",
       "    <tr>\n",
       "      <th>3</th>\n",
       "      <td>4</td>\n",
       "      <td>Germany</td>\n",
       "      <td>3,780,553</td>\n",
       "    </tr>\n",
       "    <tr>\n",
       "      <th>4</th>\n",
       "      <td>5</td>\n",
       "      <td>United Kingdom</td>\n",
       "      <td>2,638,296</td>\n",
       "    </tr>\n",
       "  </tbody>\n",
       "</table>\n",
       "</div>"
      ],
      "text/plain": [
       "  Rank Country/Territory GDP(US$million)\n",
       "0    1     United States      20,807,269\n",
       "1    2   China[n 2][n 3]      14,860,775\n",
       "2    3             Japan       4,910,580\n",
       "3    4           Germany       3,780,553\n",
       "4    5    United Kingdom       2,638,296"
      ]
     },
     "execution_count": 14,
     "metadata": {},
     "output_type": "execute_result"
    }
   ],
   "source": [
    "df1 = pd.DataFrame(df1_data, columns=df1_header)\n",
    "df1.head(5)"
   ]
  },
  {
   "cell_type": "markdown",
   "metadata": {},
   "source": [
    "**Table 1: International Monetary Fund**"
   ]
  },
  {
   "cell_type": "markdown",
   "metadata": {},
   "source": [
    "**8. Repeat the last task for the other two data sources**"
   ]
  },
  {
   "cell_type": "code",
   "execution_count": 15,
   "metadata": {},
   "outputs": [],
   "source": [
    "# table 2 data\n",
    "# seperates header and data into two separate variables\n",
    "headers_2 = tables[1][0].findAll('tbody')[0].findAll('tr')[0]\n",
    "data_2 = tables[1][0].findAll('tbody')[0].findAll('tr')[1:]"
   ]
  },
  {
   "cell_type": "code",
   "execution_count": 16,
   "metadata": {},
   "outputs": [],
   "source": [
    "# list with table 1 headers\n",
    "df2_header = [th.getText().strip() for th in headers_2.findAll('th')]\n",
    "\n",
    "# # list with table 1 data\n",
    "df2_data = [[td.getText().strip() for td in tr.findAll('td')] for tr in data_2]\n",
    "del df2_data[0]"
   ]
  },
  {
   "cell_type": "code",
   "execution_count": 17,
   "metadata": {},
   "outputs": [
    {
     "data": {
      "text/html": [
       "<div>\n",
       "<style scoped>\n",
       "    .dataframe tbody tr th:only-of-type {\n",
       "        vertical-align: middle;\n",
       "    }\n",
       "\n",
       "    .dataframe tbody tr th {\n",
       "        vertical-align: top;\n",
       "    }\n",
       "\n",
       "    .dataframe thead th {\n",
       "        text-align: right;\n",
       "    }\n",
       "</style>\n",
       "<table border=\"1\" class=\"dataframe\">\n",
       "  <thead>\n",
       "    <tr style=\"text-align: right;\">\n",
       "      <th></th>\n",
       "      <th>Rank</th>\n",
       "      <th>Country/Territory</th>\n",
       "      <th>GDP(US$million)</th>\n",
       "    </tr>\n",
       "  </thead>\n",
       "  <tbody>\n",
       "    <tr>\n",
       "      <th>0</th>\n",
       "      <td>1</td>\n",
       "      <td>United States</td>\n",
       "      <td>21,427,700</td>\n",
       "    </tr>\n",
       "    <tr>\n",
       "      <th>1</th>\n",
       "      <td>2</td>\n",
       "      <td>China[n 9]</td>\n",
       "      <td>14,342,903</td>\n",
       "    </tr>\n",
       "    <tr>\n",
       "      <th>2</th>\n",
       "      <td>3</td>\n",
       "      <td>Japan</td>\n",
       "      <td>5,081,770</td>\n",
       "    </tr>\n",
       "    <tr>\n",
       "      <th>3</th>\n",
       "      <td>4</td>\n",
       "      <td>Germany</td>\n",
       "      <td>3,845,630</td>\n",
       "    </tr>\n",
       "    <tr>\n",
       "      <th>4</th>\n",
       "      <td>5</td>\n",
       "      <td>India</td>\n",
       "      <td>2,875,142</td>\n",
       "    </tr>\n",
       "  </tbody>\n",
       "</table>\n",
       "</div>"
      ],
      "text/plain": [
       "  Rank Country/Territory GDP(US$million)\n",
       "0    1     United States      21,427,700\n",
       "1    2        China[n 9]      14,342,903\n",
       "2    3             Japan       5,081,770\n",
       "3    4           Germany       3,845,630\n",
       "4    5             India       2,875,142"
      ]
     },
     "execution_count": 17,
     "metadata": {},
     "output_type": "execute_result"
    }
   ],
   "source": [
    "df2 = pd.DataFrame(df2_data, columns=df2_header)\n",
    "df2.head(5)"
   ]
  },
  {
   "cell_type": "markdown",
   "metadata": {},
   "source": [
    "**Table 2: World Bank**"
   ]
  },
  {
   "cell_type": "code",
   "execution_count": 18,
   "metadata": {},
   "outputs": [],
   "source": [
    "# table 3 data\n",
    "# seperates header and data into two separate variables\n",
    "headers_3 = tables[2][0].findAll('tbody')[0].findAll('tr')[0]\n",
    "data_3 = tables[2][0].findAll('tbody')[0].findAll('tr')[1:]"
   ]
  },
  {
   "cell_type": "code",
   "execution_count": 19,
   "metadata": {},
   "outputs": [],
   "source": [
    "# list with table 1 headers\n",
    "df3_header = [th.getText().strip() for th in headers_3.findAll('th')]\n",
    "\n",
    "# list with table 1 data\n",
    "df3_data = [[td.getText().strip() for td in tr.findAll('td')] for tr in data_3]\n",
    "del df3_data[0]"
   ]
  },
  {
   "cell_type": "code",
   "execution_count": 20,
   "metadata": {},
   "outputs": [
    {
     "data": {
      "text/html": [
       "<div>\n",
       "<style scoped>\n",
       "    .dataframe tbody tr th:only-of-type {\n",
       "        vertical-align: middle;\n",
       "    }\n",
       "\n",
       "    .dataframe tbody tr th {\n",
       "        vertical-align: top;\n",
       "    }\n",
       "\n",
       "    .dataframe thead th {\n",
       "        text-align: right;\n",
       "    }\n",
       "</style>\n",
       "<table border=\"1\" class=\"dataframe\">\n",
       "  <thead>\n",
       "    <tr style=\"text-align: right;\">\n",
       "      <th></th>\n",
       "      <th>Rank</th>\n",
       "      <th>Country/Territory</th>\n",
       "      <th>GDP(US$million)</th>\n",
       "    </tr>\n",
       "  </thead>\n",
       "  <tbody>\n",
       "    <tr>\n",
       "      <th>0</th>\n",
       "      <td>1</td>\n",
       "      <td>United States</td>\n",
       "      <td>21,433,226</td>\n",
       "    </tr>\n",
       "    <tr>\n",
       "      <th>1</th>\n",
       "      <td>2</td>\n",
       "      <td>China[n 9]</td>\n",
       "      <td>14,342,933</td>\n",
       "    </tr>\n",
       "    <tr>\n",
       "      <th>2</th>\n",
       "      <td>3</td>\n",
       "      <td>Japan</td>\n",
       "      <td>5,082,465</td>\n",
       "    </tr>\n",
       "    <tr>\n",
       "      <th>3</th>\n",
       "      <td>4</td>\n",
       "      <td>Germany</td>\n",
       "      <td>3,861,123</td>\n",
       "    </tr>\n",
       "    <tr>\n",
       "      <th>4</th>\n",
       "      <td>5</td>\n",
       "      <td>India</td>\n",
       "      <td>2,891,582</td>\n",
       "    </tr>\n",
       "  </tbody>\n",
       "</table>\n",
       "</div>"
      ],
      "text/plain": [
       "  Rank Country/Territory GDP(US$million)\n",
       "0    1     United States      21,433,226\n",
       "1    2        China[n 9]      14,342,933\n",
       "2    3             Japan       5,082,465\n",
       "3    4           Germany       3,861,123\n",
       "4    5             India       2,891,582"
      ]
     },
     "execution_count": 20,
     "metadata": {},
     "output_type": "execute_result"
    }
   ],
   "source": [
    "df3 = pd.DataFrame(df3_data, columns=df3_header)\n",
    "df3.head(5)"
   ]
  },
  {
   "cell_type": "markdown",
   "metadata": {},
   "source": [
    "### 2. Data Wrangling with Python: Activity 8, page 233"
   ]
  },
  {
   "cell_type": "markdown",
   "metadata": {},
   "source": [
    "**1. Read the visit_data.csv file.**"
   ]
  },
  {
   "cell_type": "code",
   "execution_count": 21,
   "metadata": {},
   "outputs": [
    {
     "data": {
      "text/html": [
       "<div>\n",
       "<style scoped>\n",
       "    .dataframe tbody tr th:only-of-type {\n",
       "        vertical-align: middle;\n",
       "    }\n",
       "\n",
       "    .dataframe tbody tr th {\n",
       "        vertical-align: top;\n",
       "    }\n",
       "\n",
       "    .dataframe thead th {\n",
       "        text-align: right;\n",
       "    }\n",
       "</style>\n",
       "<table border=\"1\" class=\"dataframe\">\n",
       "  <thead>\n",
       "    <tr style=\"text-align: right;\">\n",
       "      <th></th>\n",
       "      <th>id</th>\n",
       "      <th>first_name</th>\n",
       "      <th>last_name</th>\n",
       "      <th>email</th>\n",
       "      <th>gender</th>\n",
       "      <th>ip_address</th>\n",
       "      <th>visit</th>\n",
       "    </tr>\n",
       "  </thead>\n",
       "  <tbody>\n",
       "    <tr>\n",
       "      <th>0</th>\n",
       "      <td>1</td>\n",
       "      <td>Sonny</td>\n",
       "      <td>Dahl</td>\n",
       "      <td>sdahl0@mysql.com</td>\n",
       "      <td>Male</td>\n",
       "      <td>135.36.96.183</td>\n",
       "      <td>1225.0</td>\n",
       "    </tr>\n",
       "    <tr>\n",
       "      <th>1</th>\n",
       "      <td>2</td>\n",
       "      <td>NaN</td>\n",
       "      <td>NaN</td>\n",
       "      <td>dhoovart1@hud.gov</td>\n",
       "      <td>NaN</td>\n",
       "      <td>237.165.194.143</td>\n",
       "      <td>919.0</td>\n",
       "    </tr>\n",
       "    <tr>\n",
       "      <th>2</th>\n",
       "      <td>3</td>\n",
       "      <td>Gar</td>\n",
       "      <td>Armal</td>\n",
       "      <td>garmal2@technorati.com</td>\n",
       "      <td>NaN</td>\n",
       "      <td>166.43.137.224</td>\n",
       "      <td>271.0</td>\n",
       "    </tr>\n",
       "    <tr>\n",
       "      <th>3</th>\n",
       "      <td>4</td>\n",
       "      <td>Chiarra</td>\n",
       "      <td>Nulty</td>\n",
       "      <td>cnulty3@newyorker.com</td>\n",
       "      <td>NaN</td>\n",
       "      <td>139.98.137.108</td>\n",
       "      <td>1002.0</td>\n",
       "    </tr>\n",
       "    <tr>\n",
       "      <th>4</th>\n",
       "      <td>5</td>\n",
       "      <td>NaN</td>\n",
       "      <td>NaN</td>\n",
       "      <td>sleaver4@elegantthemes.com</td>\n",
       "      <td>NaN</td>\n",
       "      <td>46.117.117.27</td>\n",
       "      <td>2434.0</td>\n",
       "    </tr>\n",
       "  </tbody>\n",
       "</table>\n",
       "</div>"
      ],
      "text/plain": [
       "   id first_name last_name                       email gender  \\\n",
       "0   1      Sonny      Dahl            sdahl0@mysql.com   Male   \n",
       "1   2        NaN       NaN           dhoovart1@hud.gov    NaN   \n",
       "2   3        Gar     Armal      garmal2@technorati.com    NaN   \n",
       "3   4    Chiarra     Nulty       cnulty3@newyorker.com    NaN   \n",
       "4   5        NaN       NaN  sleaver4@elegantthemes.com    NaN   \n",
       "\n",
       "        ip_address   visit  \n",
       "0    135.36.96.183  1225.0  \n",
       "1  237.165.194.143   919.0  \n",
       "2   166.43.137.224   271.0  \n",
       "3   139.98.137.108  1002.0  \n",
       "4    46.117.117.27  2434.0  "
      ]
     },
     "execution_count": 21,
     "metadata": {},
     "output_type": "execute_result"
    }
   ],
   "source": [
    "df4 = pd.read_csv(\"visit_data.csv\")\n",
    "df4.head(5)"
   ]
  },
  {
   "cell_type": "code",
   "execution_count": 297,
   "metadata": {},
   "outputs": [
    {
     "data": {
      "text/plain": [
       "(1000, 7)"
      ]
     },
     "execution_count": 297,
     "metadata": {},
     "output_type": "execute_result"
    }
   ],
   "source": [
    "original_size = df4.shape\n",
    "original_size"
   ]
  },
  {
   "cell_type": "markdown",
   "metadata": {},
   "source": [
    "**2. Check for duplicates.**"
   ]
  },
  {
   "cell_type": "code",
   "execution_count": 298,
   "metadata": {},
   "outputs": [
    {
     "name": "stdout",
     "output_type": "stream",
     "text": [
      "First name is duplicated - True\n",
      "Last name is duplicated - True\n",
      "email is duplicated - False\n"
     ]
    }
   ],
   "source": [
    "print(\"First name is duplicated - {}\".format(any(df4.first_name.duplicated())))\n",
    "print(\"Last name is duplicated - {}\".format(any(df4.last_name.duplicated())))\n",
    "print(\"email is duplicated - {}\".format(any(df4.email.duplicated())))"
   ]
  },
  {
   "cell_type": "code",
   "execution_count": 299,
   "metadata": {},
   "outputs": [
    {
     "name": "stdout",
     "output_type": "stream",
     "text": [
      "Number of duplicate rows based on firstname: 320\n",
      "Number of duplicate rows based on lastname: 299\n",
      "Number of duplicate rows based on fullname: 295\n",
      "Number of duplicate rows based on email: 0\n"
     ]
    }
   ],
   "source": [
    "duplicate_firstname = df4[df4.duplicated('first_name')] \n",
    "print(\"Number of duplicate rows based on firstname: {}\".format(duplicate_firstname.shape[0]))\n",
    "\n",
    "duplicate_lastname = df4[df4.duplicated('last_name')] \n",
    "print(\"Number of duplicate rows based on lastname: {}\".format(duplicate_lastname.shape[0]))\n",
    "\n",
    "duplicate_fullname = df4[df4.duplicated(['first_name', 'last_name'])]\n",
    "print(\"Number of duplicate rows based on fullname: {}\".format(duplicate_fullname.shape[0]))\n",
    "\n",
    "duplicate_email = df4[df4.duplicated('email')] \n",
    "print(\"Number of duplicate rows based on email: {}\".format(duplicate_email.shape[0]))"
   ]
  },
  {
   "cell_type": "markdown",
   "metadata": {},
   "source": [
    "**3. Check if any essential column contains NaN.**"
   ]
  },
  {
   "cell_type": "code",
   "execution_count": 300,
   "metadata": {},
   "outputs": [
    {
     "name": "stdout",
     "output_type": "stream",
     "text": [
      "The column Email contains NaN: False\n",
      "The column IP Address contains NaN: False\n",
      "The column Visit contains NaN: True\n"
     ]
    }
   ],
   "source": [
    "print(\"The column Email contains NaN: {}\".format(any(df4.email.isnull())))\n",
    "print(\"The column IP Address contains NaN: {}\".format(any(df4.ip_address.isnull())))\n",
    "print(\"The column Visit contains NaN: {}\".format(any(df4.visit.isnull())))"
   ]
  },
  {
   "cell_type": "code",
   "execution_count": 301,
   "metadata": {},
   "outputs": [
    {
     "name": "stdout",
     "output_type": "stream",
     "text": [
      "Number of missing values in email column 0\n",
      "Number of missing values in ip_address column 0\n",
      "Number of missing values in visit column 26\n"
     ]
    }
   ],
   "source": [
    "missing_email = df4['email'].isnull().sum()\n",
    "print('Number of missing values in email column {}'.format(missing_email))\n",
    "\n",
    "missing_ipaddress = df4['ip_address'].isnull().sum()\n",
    "print('Number of missing values in ip_address column {}'.format(missing_ipaddress))\n",
    "\n",
    "missing_visit = df4['visit'].isnull().sum()\n",
    "print('Number of missing values in visit column {}'.format(missing_visit))"
   ]
  },
  {
   "cell_type": "markdown",
   "metadata": {},
   "source": [
    "**4. Get rid of the outliers.**"
   ]
  },
  {
   "cell_type": "code",
   "execution_count": 302,
   "metadata": {},
   "outputs": [
    {
     "data": {
      "text/plain": [
       "(974, 7)"
      ]
     },
     "execution_count": 302,
     "metadata": {},
     "output_type": "execute_result"
    }
   ],
   "source": [
    "df4 = df4.dropna(subset=['visit'])\n",
    "new_size = df4.shape\n",
    "new_size"
   ]
  },
  {
   "cell_type": "markdown",
   "metadata": {},
   "source": [
    "**5. Report the size difference.**"
   ]
  },
  {
   "cell_type": "code",
   "execution_count": 303,
   "metadata": {},
   "outputs": [
    {
     "name": "stdout",
     "output_type": "stream",
     "text": [
      "The original dataframe had 1000 records\n",
      "The new dataframe has 974 records\n"
     ]
    }
   ],
   "source": [
    "print(\"The original dataframe had {} records\".format(original_size[0]))\n",
    "print(\"The new dataframe has {} records\".format(new_size[0]))"
   ]
  },
  {
   "cell_type": "markdown",
   "metadata": {},
   "source": [
    "**6. Create a box plot to check for outliers.**"
   ]
  },
  {
   "cell_type": "code",
   "execution_count": 304,
   "metadata": {},
   "outputs": [
    {
     "data": {
      "image/png": "[encoded data removed]",
      "text/plain": [
       "<Figure size 432x288 with 1 Axes>"
      ]
     },
     "metadata": {
      "needs_background": "light"
     },
     "output_type": "display_data"
    }
   ],
   "source": [
    "plt.boxplot(df4.visit)\n",
    "plt.show()"
   ]
  },
  {
   "cell_type": "markdown",
   "metadata": {},
   "source": [
    "**7. Get rid of any outliers.**"
   ]
  },
  {
   "cell_type": "markdown",
   "metadata": {},
   "source": [
    "Number of values below 100 and above 2900 are outliers because of extreme values"
   ]
  },
  {
   "cell_type": "code",
   "execution_count": 305,
   "metadata": {},
   "outputs": [
    {
     "data": {
      "text/plain": [
       "(923, 7)"
      ]
     },
     "execution_count": 305,
     "metadata": {},
     "output_type": "execute_result"
    }
   ],
   "source": [
    "new_df = df4[(df4['visit'] <= 2900) & (df4['visit'] >= 100)]\n",
    "\n",
    "new_df.shape"
   ]
  },
  {
   "cell_type": "markdown",
   "metadata": {},
   "source": [
    "### 3. Insert data into a SQL Lite database – create a table with the following data (Hint: Python for Data Analysis page 191):\n",
    "####    a. Name, Address, City, State, Zip, Phone Number\n",
    "####    b. Add at least 10 rows of data and submit your code with a query generating your results."
   ]
  },
  {
   "cell_type": "code",
   "execution_count": 259,
   "metadata": {},
   "outputs": [
    {
     "data": {
      "text/plain": [
       "<sqlite3.Cursor at 0x282e2531e30>"
      ]
     },
     "execution_count": 259,
     "metadata": {},
     "output_type": "execute_result"
    }
   ],
   "source": [
    "import sqlite3\n",
    "\n",
    "query = '''CREATE TABLE Client\n",
    "         (NAME           TEXT    NOT NULL,\n",
    "         ADDRESS         VARCHAR(50),\n",
    "         CITY            TEXT     NOT NULL,\n",
    "         STATE           TEXT     NOT NULL,\n",
    "         ZIP             INT,\n",
    "         PHONE_NUMBER    VARCHAR(10));'''\n",
    "\n",
    "con = sqlite3.connect('client_info.sqlite')\n",
    "con.execute(query)"
   ]
  },
  {
   "cell_type": "code",
   "execution_count": 265,
   "metadata": {},
   "outputs": [],
   "source": [
    "data = [('Josephine Darakjy', '4 B Blue Ridge Blvd', 'Brighton', 'MI', 48116, '810-292-9388'),\n",
    "        ('Abel Maclead', '37275 St  Rt 17m M', 'Middle Island', 'NY', 11953, '631-335-3414'),\n",
    "        ('Lenna Paprocki', '639 Main St', 'Anchorage', 'AK', 99501, '907-385-4412'),\n",
    "        ('Donette Foller', '34 Center St', 'Hamilton', 'OH', 45011, '513-570-1893'),\n",
    "        ('Simona Morasca', '3 Mcauley Dr', 'Ashland', 'OH', 44805, '419-503-2484'),\n",
    "        ('Mitsue Tollner', '7 Eads St', 'Chicago', 'IL', 60632, '773-573-6914'),\n",
    "        ('Leota Dilliard', '7 W Jackson Blvd', 'San Jose', 'CA', 95111, '408-752-3500'),\n",
    "        ('Sage Wieser', '5 Boston Ave #88', 'Sioux Falls', 'SD', 57105, '605-414-2147'),\n",
    "        ('Kris Marrier', '228 Runamuck Pl #2808', 'Baltimore', 'MD', 21224, '410-655-8723'),\n",
    "        ('Minna Amigon', '2371 Jerrold Ave', 'Kulpsville', 'PA', 19443, '215-874-1229')]"
   ]
  },
  {
   "cell_type": "code",
   "execution_count": 267,
   "metadata": {},
   "outputs": [],
   "source": [
    "stmt = \"INSERT INTO Client VALUES(?, ?, ?, ?,?,?)\""
   ]
  },
  {
   "cell_type": "code",
   "execution_count": 268,
   "metadata": {},
   "outputs": [],
   "source": [
    "con.executemany(stmt, data)\n",
    "con.commit()"
   ]
  },
  {
   "cell_type": "code",
   "execution_count": 272,
   "metadata": {},
   "outputs": [],
   "source": [
    "import sqlalchemy as sqla"
   ]
  },
  {
   "cell_type": "code",
   "execution_count": 273,
   "metadata": {},
   "outputs": [
    {
     "data": {
      "text/html": [
       "<div>\n",
       "<style scoped>\n",
       "    .dataframe tbody tr th:only-of-type {\n",
       "        vertical-align: middle;\n",
       "    }\n",
       "\n",
       "    .dataframe tbody tr th {\n",
       "        vertical-align: top;\n",
       "    }\n",
       "\n",
       "    .dataframe thead th {\n",
       "        text-align: right;\n",
       "    }\n",
       "</style>\n",
       "<table border=\"1\" class=\"dataframe\">\n",
       "  <thead>\n",
       "    <tr style=\"text-align: right;\">\n",
       "      <th></th>\n",
       "      <th>NAME</th>\n",
       "      <th>ADDRESS</th>\n",
       "      <th>CITY</th>\n",
       "      <th>STATE</th>\n",
       "      <th>ZIP</th>\n",
       "      <th>PHONE_NUMBER</th>\n",
       "    </tr>\n",
       "  </thead>\n",
       "  <tbody>\n",
       "    <tr>\n",
       "      <th>0</th>\n",
       "      <td>Josephine Darakjy</td>\n",
       "      <td>4 B Blue Ridge Blvd</td>\n",
       "      <td>Brighton</td>\n",
       "      <td>MI</td>\n",
       "      <td>48116</td>\n",
       "      <td>810-292-9388</td>\n",
       "    </tr>\n",
       "    <tr>\n",
       "      <th>1</th>\n",
       "      <td>Abel Maclead</td>\n",
       "      <td>37275 St  Rt 17m M</td>\n",
       "      <td>Middle Island</td>\n",
       "      <td>NY</td>\n",
       "      <td>11953</td>\n",
       "      <td>631-335-3414</td>\n",
       "    </tr>\n",
       "    <tr>\n",
       "      <th>2</th>\n",
       "      <td>Lenna Paprocki</td>\n",
       "      <td>639 Main St</td>\n",
       "      <td>Anchorage</td>\n",
       "      <td>AK</td>\n",
       "      <td>99501</td>\n",
       "      <td>907-385-4412</td>\n",
       "    </tr>\n",
       "    <tr>\n",
       "      <th>3</th>\n",
       "      <td>Donette Foller</td>\n",
       "      <td>34 Center St</td>\n",
       "      <td>Hamilton</td>\n",
       "      <td>OH</td>\n",
       "      <td>45011</td>\n",
       "      <td>513-570-1893</td>\n",
       "    </tr>\n",
       "    <tr>\n",
       "      <th>4</th>\n",
       "      <td>Simona Morasca</td>\n",
       "      <td>3 Mcauley Dr</td>\n",
       "      <td>Ashland</td>\n",
       "      <td>OH</td>\n",
       "      <td>44805</td>\n",
       "      <td>419-503-2484</td>\n",
       "    </tr>\n",
       "    <tr>\n",
       "      <th>5</th>\n",
       "      <td>Mitsue Tollner</td>\n",
       "      <td>7 Eads St</td>\n",
       "      <td>Chicago</td>\n",
       "      <td>IL</td>\n",
       "      <td>60632</td>\n",
       "      <td>773-573-6914</td>\n",
       "    </tr>\n",
       "    <tr>\n",
       "      <th>6</th>\n",
       "      <td>Leota Dilliard</td>\n",
       "      <td>7 W Jackson Blvd</td>\n",
       "      <td>San Jose</td>\n",
       "      <td>CA</td>\n",
       "      <td>95111</td>\n",
       "      <td>408-752-3500</td>\n",
       "    </tr>\n",
       "    <tr>\n",
       "      <th>7</th>\n",
       "      <td>Sage Wieser</td>\n",
       "      <td>5 Boston Ave #88</td>\n",
       "      <td>Sioux Falls</td>\n",
       "      <td>SD</td>\n",
       "      <td>57105</td>\n",
       "      <td>605-414-2147</td>\n",
       "    </tr>\n",
       "    <tr>\n",
       "      <th>8</th>\n",
       "      <td>Kris Marrier</td>\n",
       "      <td>228 Runamuck Pl #2808</td>\n",
       "      <td>Baltimore</td>\n",
       "      <td>MD</td>\n",
       "      <td>21224</td>\n",
       "      <td>410-655-8723</td>\n",
       "    </tr>\n",
       "    <tr>\n",
       "      <th>9</th>\n",
       "      <td>Minna Amigon</td>\n",
       "      <td>2371 Jerrold Ave</td>\n",
       "      <td>Kulpsville</td>\n",
       "      <td>PA</td>\n",
       "      <td>19443</td>\n",
       "      <td>215-874-1229</td>\n",
       "    </tr>\n",
       "  </tbody>\n",
       "</table>\n",
       "</div>"
      ],
      "text/plain": [
       "                NAME                ADDRESS           CITY STATE    ZIP  \\\n",
       "0  Josephine Darakjy    4 B Blue Ridge Blvd       Brighton    MI  48116   \n",
       "1       Abel Maclead     37275 St  Rt 17m M  Middle Island    NY  11953   \n",
       "2     Lenna Paprocki            639 Main St      Anchorage    AK  99501   \n",
       "3     Donette Foller           34 Center St       Hamilton    OH  45011   \n",
       "4     Simona Morasca           3 Mcauley Dr        Ashland    OH  44805   \n",
       "5     Mitsue Tollner              7 Eads St        Chicago    IL  60632   \n",
       "6     Leota Dilliard       7 W Jackson Blvd       San Jose    CA  95111   \n",
       "7        Sage Wieser       5 Boston Ave #88    Sioux Falls    SD  57105   \n",
       "8       Kris Marrier  228 Runamuck Pl #2808      Baltimore    MD  21224   \n",
       "9       Minna Amigon       2371 Jerrold Ave     Kulpsville    PA  19443   \n",
       "\n",
       "   PHONE_NUMBER  \n",
       "0  810-292-9388  \n",
       "1  631-335-3414  \n",
       "2  907-385-4412  \n",
       "3  513-570-1893  \n",
       "4  419-503-2484  \n",
       "5  773-573-6914  \n",
       "6  408-752-3500  \n",
       "7  605-414-2147  \n",
       "8  410-655-8723  \n",
       "9  215-874-1229  "
      ]
     },
     "execution_count": 273,
     "metadata": {},
     "output_type": "execute_result"
    }
   ],
   "source": [
    "db = sqla.create_engine('sqlite:///client_info.sqlite')\n",
    "pd.read_sql('select * from Client', db)"
   ]
  }
 ],
 "metadata": {
  "kernelspec": {
   "display_name": "Python 3",
   "language": "python",
   "name": "python3"
  },
  "language_info": {
   "codemirror_mode": {
    "name": "ipython",
    "version": 3
   },
   "file_extension": ".py",
   "mimetype": "text/x-python",
   "name": "python",
   "nbconvert_exporter": "python",
   "pygments_lexer": "ipython3",
   "version": "3.8.3"
  }
 },
 "nbformat": 4,
 "nbformat_minor": 4
}
