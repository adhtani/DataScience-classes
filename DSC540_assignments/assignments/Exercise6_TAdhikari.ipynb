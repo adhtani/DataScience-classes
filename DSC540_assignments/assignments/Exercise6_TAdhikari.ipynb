{
 "cells": [
  {
   "cell_type": "markdown",
   "metadata": {},
   "source": [
    "### Exercise: Week 11 & 12\n",
    "\n",
    "#### DSC 540\n",
    "\n",
    "Taniya Adhikari 03/06/2020"
   ]
  },
  {
   "cell_type": "markdown",
   "metadata": {},
   "source": [
    "### 1. Data Wrangling with Python: Activity 11, page 320"
   ]
  },
  {
   "cell_type": "markdown",
   "metadata": {},
   "source": [
    "Connect to petsDB and check whether the connection has been successful. "
   ]
  },
  {
   "cell_type": "code",
   "execution_count": 23,
   "metadata": {},
   "outputs": [],
   "source": [
    "import sqlite3"
   ]
  },
  {
   "cell_type": "code",
   "execution_count": 24,
   "metadata": {},
   "outputs": [],
   "source": [
    "conn = sqlite3.connect(\"petsdb\")"
   ]
  },
  {
   "cell_type": "code",
   "execution_count": 25,
   "metadata": {},
   "outputs": [],
   "source": [
    "def is_opened(conn):  # checks connection to the pets database\n",
    "    try: \n",
    "        conn.execute(\"SELECT * FROM persons LIMIT 1\") \n",
    "        return True \n",
    "    except sqlite3.ProgrammingError as e: \n",
    "        print(\"Connection closed {}\".format(e)) \n",
    "        return False"
   ]
  },
  {
   "cell_type": "code",
   "execution_count": 26,
   "metadata": {},
   "outputs": [
    {
     "name": "stdout",
     "output_type": "stream",
     "text": [
      "True\n"
     ]
    }
   ],
   "source": [
    "print(is_opened(conn))"
   ]
  },
  {
   "cell_type": "code",
   "execution_count": 27,
   "metadata": {},
   "outputs": [],
   "source": [
    "conn.close()"
   ]
  },
  {
   "cell_type": "markdown",
   "metadata": {},
   "source": [
    "Find the different age groups in the persons database. "
   ]
  },
  {
   "cell_type": "code",
   "execution_count": 28,
   "metadata": {},
   "outputs": [],
   "source": [
    "conn = sqlite3.connect(\"petsdb\") \n",
    "c = conn.cursor()"
   ]
  },
  {
   "cell_type": "code",
   "execution_count": 29,
   "metadata": {},
   "outputs": [
    {
     "data": {
      "text/plain": [
       "[(1, 'Erica', None, 22, 'south port', 2345678),\n",
       " (2, 'Jordi', None, 73, 'east port', 123456),\n",
       " (3, 'Chasity', None, 70, 'new port', 76856785),\n",
       " (4, 'Gregg', None, 31, 'new port', 76856785),\n",
       " (5, 'Tony', 'Lindgren', 7, 'west port', 2345678),\n",
       " (6, 'Cary', None, 73, 'new port', 76856785),\n",
       " (7, 'Gabe', 'Thompson', 54, 'new port', 9756543),\n",
       " (8, 'Francisca', None, 14, 'west port', 123456),\n",
       " (9, 'Katelyn', 'Torphy', 49, 'east port', 9756543),\n",
       " (10, 'Raleigh', None, 68, 'new port', 2345678),\n",
       " (11, 'Maria', None, 42, 'west port', 123456),\n",
       " (12, 'Mariane', None, 62, 'south port', 9756543),\n",
       " (13, 'Mona', None, 44, 'south port', 76856785),\n",
       " (14, 'Kayla', None, 36, 'south port', 2345678),\n",
       " (15, 'Karlie', None, 35, 'west port', 123456),\n",
       " (16, 'Morris', None, 71, 'west port', 76856785),\n",
       " (17, 'Sandy', None, 23, 'east port', 2345678),\n",
       " (18, 'Hector', None, 63, 'east port', 9756543),\n",
       " (19, 'Hiram', None, 52, 'west port', 2345678),\n",
       " (20, 'Tressa', None, 59, 'new port', 123456),\n",
       " (21, 'Berry', None, 22, 'south port', 2345678),\n",
       " (22, 'Pearline', None, 73, 'new port', 9756543),\n",
       " (23, 'Maynard', None, 25, 'east port', 123456),\n",
       " (24, 'Dorian', None, 40, 'east port', 123456),\n",
       " (25, 'Mylene', None, 5, 'east port', 76856785),\n",
       " (26, 'Lafayette', None, 34, 'new port', 2345678),\n",
       " (27, 'Friedrich', 'Wunsch', 48, 'east port', 9756543),\n",
       " (28, 'Domenica', 'Lakin', 13, 'west port', 76856785),\n",
       " (29, 'Tara', None, 39, 'west port', 123456),\n",
       " (30, 'Destiny', None, 18, 'south port', 2345678),\n",
       " (31, 'Lesly', None, 31, 'west port', 123456),\n",
       " (32, 'Perry', None, 19, 'south port', 76856785),\n",
       " (33, 'Keyon', 'Upton', 51, 'south port', 123456),\n",
       " (34, 'Jacquelyn', 'Bradtke', 54, 'south port', 123456),\n",
       " (35, 'Maritza', None, 73, 'east port', 9756543),\n",
       " (36, 'Ivory', 'Sawayn', 8, 'south port', 76856785),\n",
       " (37, 'Grant', None, 61, 'east port', 76856785),\n",
       " (38, 'Salma', 'Terry', 71, 'west port', 123456),\n",
       " (39, 'Laury', None, 17, 'east port', 9756543),\n",
       " (40, 'Name', None, 52, 'east port', 9756543),\n",
       " (41, 'Estefania', None, 32, 'new port', 76856785),\n",
       " (42, 'Destiney', None, 65, 'west port', 2345678),\n",
       " (43, 'Jaquelin', None, 73, 'west port', 9756543),\n",
       " (44, 'Brenda', 'Murray', 62, 'south port', 2345678),\n",
       " (45, 'Alfonzo', None, 16, 'east port', 2345678),\n",
       " (46, 'Lisandro', None, 11, 'new port', 76856785),\n",
       " (47, 'Lurline', 'Becker', 24, 'west port', 76856785),\n",
       " (48, 'Timmothy', 'Tillman', 12, 'new port', 76856785),\n",
       " (49, 'Priscilla', None, 65, 'east port', 76856785),\n",
       " (50, 'Elenora', None, 11, 'new port', 76856785),\n",
       " (51, 'Wendell', 'Sauer', 39, 'south port', 76856785),\n",
       " (52, 'Rudolph', None, 14, 'east port', 76856785),\n",
       " (53, 'Gabriella', 'Kertzmann', 30, 'south port', 76856785),\n",
       " (54, 'Citlalli', 'Pollich', 18, 'west port', 2345678),\n",
       " (55, 'Dax', 'Romaguera', 23, 'west port', 123456),\n",
       " (56, 'Ona', None, 35, 'east port', 9756543),\n",
       " (57, 'Rebeca', None, 50, 'new port', 76856785),\n",
       " (58, 'Lou', 'Bradtke', 71, 'south port', 2345678),\n",
       " (59, 'Sigurd', None, 12, 'west port', 76856785),\n",
       " (60, 'Nicklaus', 'Purdy', 72, 'new port', 2345678),\n",
       " (61, 'Destiney', 'Sauer', 24, 'west port', 2345678),\n",
       " (62, 'Cassidy', 'Crona', 18, 'east port', 123456),\n",
       " (63, 'Alice', None, 8, 'west port', 76856785),\n",
       " (64, 'Dane', None, 24, 'west port', 9756543),\n",
       " (65, 'Judge', None, 17, 'south port', 76856785),\n",
       " (66, 'Allene', None, 9, 'new port', 9756543),\n",
       " (67, 'Jalen', None, 33, 'new port', 2345678),\n",
       " (68, 'Aniyah', 'Grant', 27, 'new port', 9756543),\n",
       " (69, 'Ashton', 'Schaden', 25, 'west port', 2345678),\n",
       " (70, 'Myron', None, 36, 'new port', 9756543),\n",
       " (71, 'Presley', 'Gleason', 58, 'new port', 9756543),\n",
       " (72, 'Ephraim', 'Kihn', 67, 'south port', 123456),\n",
       " (73, 'Travon', None, 16, 'south port', 2345678),\n",
       " (74, 'Shayna', None, 60, 'new port', 2345678),\n",
       " (75, 'Myah', None, 14, 'east port', 2345678),\n",
       " (76, 'Sammy', 'Franecki', 53, 'south port', 76856785),\n",
       " (77, 'Ebba', 'Kihn', 34, 'west port', 2345678),\n",
       " (78, 'Leilani', 'Gislason', 53, 'south port', 123456),\n",
       " (79, 'Isabel', 'Beier', 74, 'west port', 2345678),\n",
       " (80, 'Jo', 'DuBuque', 68, 'west port', 76856785),\n",
       " (81, 'Angel', 'Mraz', 37, 'west port', 123456),\n",
       " (82, 'Letha', None, 44, 'new port', 9756543),\n",
       " (83, 'Lily', 'Hegmann', 12, 'east port', 123456),\n",
       " (84, 'Felton', None, 74, 'east port', 2345678),\n",
       " (85, 'London', None, 66, 'east port', 9756543),\n",
       " (86, 'Koby', None, 31, 'west port', 9756543),\n",
       " (87, 'Golden', None, 35, 'east port', 76856785),\n",
       " (88, 'Elfrieda', 'Nikolaus', 36, 'west port', 2345678),\n",
       " (89, 'Anissa', None, 8, 'south port', 76856785),\n",
       " (90, 'Mathew', 'Luettgen', 71, 'east port', 2345678),\n",
       " (91, 'Sid', None, 22, 'west port', 123456),\n",
       " (92, 'Micheal', 'Schuppe', 6, 'west port', 9756543),\n",
       " (93, 'Joanie', 'Cassin', 68, 'new port', 76856785),\n",
       " (94, 'Jerad', 'Pfeffer', 74, 'west port', 123456),\n",
       " (95, 'Benjamin', 'Lowe', 51, 'south port', 9756543),\n",
       " (96, 'Ernesto', None, 69, 'east port', 9756543),\n",
       " (97, 'Josianne', None, 14, 'west port', 76856785),\n",
       " (98, 'Hilma', 'Waelchi', 48, 'east port', 9756543),\n",
       " (99, 'Otilia', 'Gleason', 66, 'new port', 9756543),\n",
       " (100, 'Adrian', 'Schinner', 5, 'south port', 76856785)]"
      ]
     },
     "execution_count": 29,
     "metadata": {},
     "output_type": "execute_result"
    }
   ],
   "source": [
    "c.execute('''SELECT * FROM persons''').fetchall()"
   ]
  },
  {
   "cell_type": "code",
   "execution_count": 30,
   "metadata": {},
   "outputs": [
    {
     "name": "stdout",
     "output_type": "stream",
     "text": [
      "We have 2 people aged 5\n",
      "We have 1 people aged 6\n",
      "We have 1 people aged 7\n",
      "We have 3 people aged 8\n",
      "We have 1 people aged 9\n",
      "We have 2 people aged 11\n",
      "We have 3 people aged 12\n",
      "We have 1 people aged 13\n",
      "We have 4 people aged 14\n",
      "We have 2 people aged 16\n",
      "We have 2 people aged 17\n",
      "We have 3 people aged 18\n",
      "We have 1 people aged 19\n",
      "We have 3 people aged 22\n",
      "We have 2 people aged 23\n",
      "We have 3 people aged 24\n",
      "We have 2 people aged 25\n",
      "We have 1 people aged 27\n",
      "We have 1 people aged 30\n",
      "We have 3 people aged 31\n",
      "We have 1 people aged 32\n",
      "We have 1 people aged 33\n",
      "We have 2 people aged 34\n",
      "We have 3 people aged 35\n",
      "We have 3 people aged 36\n",
      "We have 1 people aged 37\n",
      "We have 2 people aged 39\n",
      "We have 1 people aged 40\n",
      "We have 1 people aged 42\n",
      "We have 2 people aged 44\n",
      "We have 2 people aged 48\n",
      "We have 1 people aged 49\n",
      "We have 1 people aged 50\n",
      "We have 2 people aged 51\n",
      "We have 2 people aged 52\n",
      "We have 2 people aged 53\n",
      "We have 2 people aged 54\n",
      "We have 1 people aged 58\n",
      "We have 1 people aged 59\n",
      "We have 1 people aged 60\n",
      "We have 1 people aged 61\n",
      "We have 2 people aged 62\n",
      "We have 1 people aged 63\n",
      "We have 2 people aged 65\n",
      "We have 2 people aged 66\n",
      "We have 1 people aged 67\n",
      "We have 3 people aged 68\n",
      "We have 1 people aged 69\n",
      "We have 1 people aged 70\n",
      "We have 4 people aged 71\n",
      "We have 1 people aged 72\n",
      "We have 5 people aged 73\n",
      "We have 3 people aged 74\n"
     ]
    }
   ],
   "source": [
    "# groups by age and counts number of people in each age group\n",
    "for ppl, age in c.execute(\"SELECT count(*), age FROM persons GROUP BY age\"):\n",
    "    print(\"We have {} people aged {}\".format(ppl, age))\n"
   ]
  },
  {
   "cell_type": "markdown",
   "metadata": {},
   "source": [
    "Find the age group that has the maximum number of people. "
   ]
  },
  {
   "cell_type": "code",
   "execution_count": 31,
   "metadata": {},
   "outputs": [
    {
     "name": "stdout",
     "output_type": "stream",
     "text": [
      "Maximum number of people in age group 73 is 5\n"
     ]
    }
   ],
   "source": [
    "# groups by age and sort order in descending order.\n",
    "for ppl, age in c.execute( \"SELECT count(*), age FROM persons GROUP BY age ORDER BY count(*) DESC\"): \n",
    "    print(\"Maximum number of people in age group {} is {}\".format(age, ppl)) \n",
    "    break  # breaks the loop after highest number"
   ]
  },
  {
   "cell_type": "markdown",
   "metadata": {},
   "source": [
    "Find the people who do not have a last name. "
   ]
  },
  {
   "cell_type": "code",
   "execution_count": 32,
   "metadata": {},
   "outputs": [
    {
     "name": "stdout",
     "output_type": "stream",
     "text": [
      "Number of people who do not have last name is (60,)\n"
     ]
    }
   ],
   "source": [
    "result = c.execute(\"SELECT count(*) FROM persons WHERE last_name IS null\") # only fetch the null values for Last names\n",
    "for row in result: \n",
    "    print(\"Number of people who do not have last name is {}\".format(row))"
   ]
  },
  {
   "cell_type": "markdown",
   "metadata": {},
   "source": [
    "Find out how many people have more than one pet. "
   ]
  },
  {
   "cell_type": "code",
   "execution_count": 33,
   "metadata": {},
   "outputs": [
    {
     "name": "stdout",
     "output_type": "stream",
     "text": [
      "43 People has more than one pets\n"
     ]
    }
   ],
   "source": [
    "result = c.execute(\"SELECT count(*) FROM (SELECT count(owner_id) FROM pets GROUP BY owner_id HAVING count(owner_id) >1)\")\n",
    "for row in result: \n",
    "    print(\"{} People has more than one pets\".format(row[0]))"
   ]
  },
  {
   "cell_type": "markdown",
   "metadata": {},
   "source": [
    "Find out how many pets have received treatment. "
   ]
  },
  {
   "cell_type": "code",
   "execution_count": 34,
   "metadata": {},
   "outputs": [
    {
     "name": "stdout",
     "output_type": "stream",
     "text": [
      "(36,)\n"
     ]
    }
   ],
   "source": [
    "result = c.execute(\"SELECT count(*) FROM pets WHERE treatment_done=1\") \n",
    "for row in result: \n",
    "    print(row)"
   ]
  },
  {
   "cell_type": "markdown",
   "metadata": {},
   "source": [
    "Find out how many pets have received treatment and the type of pet is known."
   ]
  },
  {
   "cell_type": "code",
   "execution_count": 35,
   "metadata": {},
   "outputs": [
    {
     "name": "stdout",
     "output_type": "stream",
     "text": [
      "(16,)\n"
     ]
    }
   ],
   "source": [
    "result = c.execute(\"SELECT count(*) FROM pets WHERE treatment_done=1 AND pet_type IS NOT null\") \n",
    "for row in result: \n",
    "    print(row)"
   ]
  },
  {
   "cell_type": "markdown",
   "metadata": {},
   "source": [
    "Find out how many pets are from the city called east port. "
   ]
  },
  {
   "cell_type": "code",
   "execution_count": 36,
   "metadata": {},
   "outputs": [
    {
     "name": "stdout",
     "output_type": "stream",
     "text": [
      "(49,)\n"
     ]
    }
   ],
   "source": [
    "result = c.execute(\"SELECT count(*) FROM pets JOIN persons ON pets.owner_id = persons.id WHERE persons.city='east port'\") \n",
    "for row in result:\n",
    "    print(row)\n"
   ]
  },
  {
   "cell_type": "markdown",
   "metadata": {},
   "source": [
    "Find out how many pets are from the city called east port and who received a treatment."
   ]
  },
  {
   "cell_type": "code",
   "execution_count": 37,
   "metadata": {},
   "outputs": [
    {
     "name": "stdout",
     "output_type": "stream",
     "text": [
      "(11,)\n"
     ]
    }
   ],
   "source": [
    "result = c.execute(\"SELECT count(*) FROM pets JOIN persons ON pets.owner_id = persons.id WHERE persons.city='east port' AND pets.treatment_done=1\") \n",
    "for row in result:\n",
    "    print(row)"
   ]
  }
 ],
 "metadata": {
  "kernelspec": {
   "display_name": "Python 3",
   "language": "python",
   "name": "python3"
  },
  "language_info": {
   "codemirror_mode": {
    "name": "ipython",
    "version": 3
   },
   "file_extension": ".py",
   "mimetype": "text/x-python",
   "name": "python",
   "nbconvert_exporter": "python",
   "pygments_lexer": "ipython3",
   "version": "3.7.9"
  }
 },
 "nbformat": 4,
 "nbformat_minor": 4
}
