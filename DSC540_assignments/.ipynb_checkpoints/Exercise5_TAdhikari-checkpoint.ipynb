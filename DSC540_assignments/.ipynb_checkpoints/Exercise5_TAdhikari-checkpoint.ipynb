{
 "cells": [
  {
   "cell_type": "markdown",
   "metadata": {},
   "source": [
    "### Exercise: Week 9 & 10\n",
    "\n",
    "#### DSC 540\n",
    "\n",
    "Taniya Adhikari 02/26/2020"
   ]
  },
  {
   "cell_type": "markdown",
   "metadata": {},
   "source": [
    "### 1. Data Wrangling with Python: Activity 9, page 294"
   ]
  },
  {
   "cell_type": "markdown",
   "metadata": {},
   "source": [
    "#### Import the necessary libraries, including regex and beautifulsoup. "
   ]
  },
  {
   "cell_type": "code",
   "execution_count": 170,
   "metadata": {},
   "outputs": [],
   "source": [
    "from bs4 import BeautifulSoup as BS\n",
    "import pandas as pd\n",
    "import requests\n",
    "\n",
    "import numpy as np \n",
    "import matplotlib.pyplot as plt\n",
    "import seaborn as sns\n",
    "import urllib.request, urllib.parse, urllib.error\n",
    "import requests\n",
    "import ssl\n",
    "import re\n",
    "\n",
    "%matplotlib inline"
   ]
  },
  {
   "cell_type": "markdown",
   "metadata": {},
   "source": [
    "#### Check the SSL certificate."
   ]
  },
  {
   "cell_type": "code",
   "execution_count": 8,
   "metadata": {},
   "outputs": [],
   "source": [
    "# ignore SSL certificate errors \n",
    "ctx = ssl.create_default_context() \n",
    "ctx.check_hostname = False \n",
    "ctx.verify_mode = ssl.CERT_NONE"
   ]
  },
  {
   "cell_type": "markdown",
   "metadata": {},
   "source": [
    "#### Read the HTML from the URL. "
   ]
  },
  {
   "cell_type": "code",
   "execution_count": 41,
   "metadata": {},
   "outputs": [],
   "source": [
    "url = 'https://www.gutenberg.org/browse/scores/top'\n",
    "results = requests.get(url)"
   ]
  },
  {
   "cell_type": "markdown",
   "metadata": {},
   "source": [
    "#### Write a small function to check the status of the web request."
   ]
  },
  {
   "cell_type": "code",
   "execution_count": 42,
   "metadata": {},
   "outputs": [],
   "source": [
    "def check(results):\n",
    "    if results.status_code ==200:\n",
    "        print(\"Succesfully received the response\")\n",
    "        return 1\n",
    "    else:\n",
    "        print(\"Failed to retreive\")\n",
    "        return 0"
   ]
  },
  {
   "cell_type": "code",
   "execution_count": 43,
   "metadata": {},
   "outputs": [
    {
     "name": "stdout",
     "output_type": "stream",
     "text": [
      "Succesfully received the response\n"
     ]
    },
    {
     "data": {
      "text/plain": [
       "1"
      ]
     },
     "execution_count": 43,
     "metadata": {},
     "output_type": "execute_result"
    }
   ],
   "source": [
    "check(results)"
   ]
  },
  {
   "cell_type": "markdown",
   "metadata": {},
   "source": [
    "#### Decode the response and pass this on to BeautifulSoup for HTML parsing. "
   ]
  },
  {
   "cell_type": "code",
   "execution_count": 44,
   "metadata": {},
   "outputs": [],
   "source": [
    "contents = results.content.decode(results.encoding)\n",
    "soup = BS(contents, 'html.parser')"
   ]
  },
  {
   "cell_type": "markdown",
   "metadata": {},
   "source": [
    "#### Find all the href tags and store them in the list of links. Check what the list looks like – print the first 30 elements. "
   ]
  },
  {
   "cell_type": "code",
   "execution_count": 45,
   "metadata": {},
   "outputs": [],
   "source": [
    "links = [] \n",
    "# Find all the href tags\n",
    "for link in soup.find_all('a'): \n",
    "    links.append(link.get('href'))\n"
   ]
  },
  {
   "cell_type": "code",
   "execution_count": 46,
   "metadata": {},
   "outputs": [
    {
     "name": "stdout",
     "output_type": "stream",
     "text": [
      "['/', '/about/', '/about/', '/policy/collection_development.html', '/about/contact_information.html', '/about/background/', '/policy/permission.html', '/policy/privacy_policy.html', '/policy/terms_of_use.html', '/ebooks/', '/ebooks/', '/ebooks/bookshelf/', '/browse/scores/top', '/ebooks/offline_catalogs.html', '/help/', '/help/', '/help/copyright.html', '/help/errata.html', '/help/file_formats.html', '/help/faq.html', '/policy/', '/help/public_domain_ebook_submission.html', '/help/submitting_your_own_work.html', '/help/mobile.html', '/attic/', '/donate/', '/donate/', '#books-last1', '#authors-last1', '#books-last7']\n"
     ]
    }
   ],
   "source": [
    "print(links[:30])"
   ]
  },
  {
   "cell_type": "markdown",
   "metadata": {},
   "source": [
    "#### Use a regular expression to find the numeric digits in these links. These are the file numbers for the top 100 eBooks."
   ]
  },
  {
   "cell_type": "code",
   "execution_count": 54,
   "metadata": {},
   "outputs": [
    {
     "name": "stdout",
     "output_type": "stream",
     "text": [
      "['/ebooks/84', '/ebooks/1342', '/ebooks/1080', '/ebooks/11', '/ebooks/64317', '/ebooks/25344', '/ebooks/5200', '/ebooks/76', '/ebooks/844', '/ebooks/98', '/ebooks/46', '/ebooks/43', '/ebooks/2542', '/ebooks/2701', '/ebooks/1260', '/ebooks/1661', '/ebooks/1250', '/ebooks/2852', '/ebooks/174', '/ebooks/219', '/ebooks/160', '/ebooks/74', '/ebooks/1952', '/ebooks/1400', '/ebooks/408', '/ebooks/64634', '/ebooks/120', '/ebooks/23', '/ebooks/19942', '/ebooks/1232', '/ebooks/345', '/ebooks/16', '/ebooks/64631', '/ebooks/205', '/ebooks/55', '/ebooks/1497', '/ebooks/64630', '/ebooks/16328', '/ebooks/215', '/ebooks/730', '/ebooks/64632', '/ebooks/514', '/ebooks/57775', '/ebooks/2591', '/ebooks/158', '/ebooks/37134', '/ebooks/64629', '/ebooks/4300', '/ebooks/42324', '/ebooks/45', '/ebooks/3207', '/ebooks/2554', '/ebooks/2600', '/ebooks/64626', '/ebooks/2814', '/ebooks/244', '/ebooks/1184', '/ebooks/5740', '/ebooks/64628', '/ebooks/135', '/ebooks/768', '/ebooks/64635', '/ebooks/42108', '/ebooks/3825', '/ebooks/36', '/ebooks/64636', '/ebooks/10741', '/ebooks/1727', '/ebooks/64624', '/ebooks/58585', '/ebooks/203', '/ebooks/20203', '/ebooks/6130', '/ebooks/6133', '/ebooks/2097', '/ebooks/64625', '/ebooks/113', '/ebooks/236', '/ebooks/1001', '/ebooks/64627', '/ebooks/140', '/ebooks/2500', '/ebooks/1934', '/ebooks/829', '/ebooks/64623', '/ebooks/15399', '/ebooks/41', '/ebooks/996', '/ebooks/19033', '/ebooks/43453', '/ebooks/7370', '/ebooks/3725', '/ebooks/35', '/ebooks/2148', '/ebooks/11030', '/ebooks/1998', '/ebooks/161', '/ebooks/3600', '/ebooks/4517', '/ebooks/61']\n"
     ]
    }
   ],
   "source": [
    "ebooks_num = []\n",
    "for i in range(33,133): \n",
    "    link=links[i] \n",
    "    link=link.strip()\n",
    "    ebooks_num.append(link)\n",
    "\n",
    "print(ebooks_num)"
   ]
  },
  {
   "cell_type": "markdown",
   "metadata": {},
   "source": [
    "#### Initialize the empty list to hold the file numbers over an appropriate range and use regex to find the numeric digits in the link href string. Use the findall method. "
   ]
  },
  {
   "cell_type": "code",
   "execution_count": 55,
   "metadata": {},
   "outputs": [],
   "source": [
    "num = []\n",
    "for i in range(33,133): \n",
    "    link=links[i] \n",
    "    link=link.strip()\n",
    "    \n",
    "    # find numeric digit from link\n",
    "    n=re.findall('[0-9]+',link) \n",
    "    if len(n)==1: \n",
    "        num.append(int(n[0]))"
   ]
  },
  {
   "cell_type": "code",
   "execution_count": 56,
   "metadata": {},
   "outputs": [
    {
     "name": "stdout",
     "output_type": "stream",
     "text": [
      "[84, 1342, 1080, 11, 64317, 25344, 5200, 76, 844, 98, 46, 43, 2542, 2701, 1260, 1661, 1250, 2852, 174, 219, 160, 74, 1952, 1400, 408, 64634, 120, 23, 19942, 1232, 345, 16, 64631, 205, 55, 1497, 64630, 16328, 215, 730, 64632, 514, 57775, 2591, 158, 37134, 64629, 4300, 42324, 45, 3207, 2554, 2600, 64626, 2814, 244, 1184, 5740, 64628, 135, 768, 64635, 42108, 3825, 36, 64636, 10741, 1727, 64624, 58585, 203, 20203, 6130, 6133, 2097, 64625, 113, 236, 1001, 64627, 140, 2500, 1934, 829, 64623, 15399, 41, 996, 19033, 43453, 7370, 3725, 35, 2148, 11030, 1998, 161, 3600, 4517, 61]\n"
     ]
    }
   ],
   "source": [
    "print(num)"
   ]
  },
  {
   "cell_type": "markdown",
   "metadata": {},
   "source": [
    "#### What does the soup object's text look like? Use the .text method and print only the first 2,000 characters (do not print the whole thing, as it is too long)."
   ]
  },
  {
   "cell_type": "code",
   "execution_count": 62,
   "metadata": {},
   "outputs": [
    {
     "name": "stdout",
     "output_type": "stream",
     "text": [
      "\n",
      "\n",
      "\n",
      "\n",
      "Top 100 | Project Gutenberg\n",
      "\n",
      "\n",
      "\n",
      "\n",
      "\n",
      "\n",
      "\n",
      "\n",
      "\n",
      "\n",
      "\n",
      "\n",
      "\n",
      "\n",
      "\n",
      "\n",
      "\n",
      "\n",
      "\n",
      "\n",
      "\n",
      "\n",
      "\n",
      "\n",
      "\n",
      "\n",
      "\n",
      "Menu▾\n",
      "\n",
      "\n",
      "\n",
      "About\n",
      "          ▾\n",
      "\n",
      "▾\n",
      "\n",
      "\n",
      "About Project Gutenberg\n",
      "Collection Development\n",
      "Contact Us\n",
      "History & Philosophy\n",
      "Permissions & License\n",
      "Privacy Policy\n",
      "Terms of Use\n",
      "\n",
      "\n",
      "\n",
      "Search and Browse\n",
      "      \t  ▾\n",
      "\n",
      "▾\n",
      "\n",
      "\n",
      "Book Search\n",
      "Bookshelves\n",
      "Frequently Downloaded\n",
      "Offline Catalogs\n",
      "\n",
      "\n",
      "\n",
      "Help\n",
      "          ▾\n",
      "\n",
      "▾\n",
      "\n",
      "\n",
      "All help topics →\n",
      "Copyright Procedures\n",
      "Errata, Fixes and Bug Reports\n",
      "File Formats\n",
      "Frequently Asked Questions\n",
      "Policies →\n",
      "Public Domain eBook Submission\n",
      "Submitting Your Own Work\n",
      "Tablets, Phones and eReaders\n",
      "The Attic →\n",
      "\n",
      "\n",
      "Donate\n",
      "\n",
      "\n",
      "\n",
      "\n",
      "\n",
      "\n",
      "\n",
      "\n",
      "\n",
      "\n",
      "Donation\n",
      "\n",
      "\n",
      "\n",
      "\n",
      "\n",
      "\n",
      "\n",
      "Frequently Viewed or Downloaded\n",
      "These listings are based on the number of times each eBook gets downloaded.\n",
      "      Multiple downloads from the same Internet address on the same day count as one download, and addresses that download more than 100 eBooks in a day are considered robots and are not counted.\n",
      "\n",
      "Downloaded Books\n",
      "2021-02-26195869\n",
      "last 7 days1441494\n",
      "last 30 days5886888\n",
      "\n",
      "\n",
      "\n",
      "Top 100 EBooks yesterday\n",
      "Top 100 Authors yesterday\n",
      "Top 100 EBooks last 7 days\n",
      "Top 100 Authors last 7 days\n",
      "Top 100 EBooks last 30 days\n",
      "Top 100 Authors last 30 days\n",
      "\n",
      "\n",
      "Top 100 EBooks yesterday\n",
      "\n",
      "Frankenstein; Or, The Modern Prometheus by Mary Wollstonecraft Shelley (3703)\n",
      "Pride and Prejudice by Jane Austen (2313)\n",
      "A Modest Proposal by Jonathan Swift (1224)\n",
      "Alice's Adventures in Wonderland by Lewis Carroll (1171)\n",
      "The Great Gatsby by F. Scott  Fitzgerald (1110)\n",
      "The Scarlet Letter by Nathaniel Hawthorne (991)\n",
      "Metamorphosis by Franz Kafka (980)\n",
      "Adventures of Huckleberry Finn by Mark Twain (954)\n",
      "The Importance of Being Earnest: A Trivial Comedy for Serious People by Oscar Wilde (951)\n",
      "A Tale of Two Cities by Charles Dickens (935)\n",
      "A Christmas Carol in Prose; Being a Ghost Story of Christmas by Charles Dickens (928)\n",
      "The Strange Case of Dr. Jekyll and Mr. Hyde by Robert Louis Stevenson (876)\n",
      "Et dukkehjem. English by Henrik Ibsen (858)\n",
      "Moby Dick; Or, The Whale by Herman Melville (841)\n",
      "Jane Eyre: An Autobiography by Charlo\n"
     ]
    }
   ],
   "source": [
    "print(soup.text[:2000])"
   ]
  },
  {
   "cell_type": "markdown",
   "metadata": {},
   "source": [
    "#### Search in the extracted text (using a regular expression) from the soup object to find the names of the top 100 eBooks (yesterday's ranking)."
   ]
  },
  {
   "cell_type": "code",
   "execution_count": 83,
   "metadata": {},
   "outputs": [],
   "source": [
    "ebooks_names = []"
   ]
  },
  {
   "cell_type": "markdown",
   "metadata": {},
   "source": [
    "#### Create a starting index. It should point at the text Top 100 Ebooks yesterday. Use the splitlines method of soup.text. It splits the lines of text of the soup object. "
   ]
  },
  {
   "cell_type": "code",
   "execution_count": 84,
   "metadata": {},
   "outputs": [],
   "source": [
    "index = soup.text.splitlines().index('Top 100 EBooks yesterday')"
   ]
  },
  {
   "cell_type": "code",
   "execution_count": 85,
   "metadata": {},
   "outputs": [
    {
     "data": {
      "text/plain": [
       "113"
      ]
     },
     "execution_count": 85,
     "metadata": {},
     "output_type": "execute_result"
    }
   ],
   "source": [
    "index"
   ]
  },
  {
   "cell_type": "markdown",
   "metadata": {},
   "source": [
    "#### Loop 1-100 to add the strings of the next 100 lines to this temporary list. Hint: use the splitlines method. "
   ]
  },
  {
   "cell_type": "code",
   "execution_count": 86,
   "metadata": {},
   "outputs": [],
   "source": [
    "for i in range(8,108):\n",
    "    ebooks_names.append(soup.text.splitlines()[index+2+i])"
   ]
  },
  {
   "cell_type": "code",
   "execution_count": 87,
   "metadata": {},
   "outputs": [
    {
     "data": {
      "text/plain": [
       "['Frankenstein; Or, The Modern Prometheus by Mary Wollstonecraft Shelley (3703)',\n",
       " 'Pride and Prejudice by Jane Austen (2313)',\n",
       " 'A Modest Proposal by Jonathan Swift (1224)',\n",
       " \"Alice's Adventures in Wonderland by Lewis Carroll (1171)\",\n",
       " 'The Great Gatsby by F. Scott  Fitzgerald (1110)',\n",
       " 'The Scarlet Letter by Nathaniel Hawthorne (991)',\n",
       " 'Metamorphosis by Franz Kafka (980)',\n",
       " 'Adventures of Huckleberry Finn by Mark Twain (954)',\n",
       " 'The Importance of Being Earnest: A Trivial Comedy for Serious People by Oscar Wilde (951)',\n",
       " 'A Tale of Two Cities by Charles Dickens (935)',\n",
       " 'A Christmas Carol in Prose; Being a Ghost Story of Christmas by Charles Dickens (928)',\n",
       " 'The Strange Case of Dr. Jekyll and Mr. Hyde by Robert Louis Stevenson (876)',\n",
       " 'Et dukkehjem. English by Henrik Ibsen (858)',\n",
       " 'Moby Dick; Or, The Whale by Herman Melville (841)',\n",
       " 'Jane Eyre: An Autobiography by Charlotte Brontë (804)',\n",
       " 'The Adventures of Sherlock Holmes by Arthur Conan Doyle (744)',\n",
       " 'Anthem by Ayn Rand (740)',\n",
       " 'The Hound of the Baskervilles by Arthur Conan Doyle (730)',\n",
       " 'The Picture of Dorian Gray by Oscar Wilde (727)',\n",
       " 'Heart of Darkness by Joseph Conrad (642)']"
      ]
     },
     "execution_count": 87,
     "metadata": {},
     "output_type": "execute_result"
    }
   ],
   "source": [
    "ebooks_names[:20]"
   ]
  },
  {
   "cell_type": "markdown",
   "metadata": {},
   "source": [
    "#### Use a regular expression to extract only text from the name strings and append it to an empty list. Use match and span to find the indices and use them."
   ]
  },
  {
   "cell_type": "code",
   "execution_count": 94,
   "metadata": {},
   "outputs": [],
   "source": [
    "book_titles=[]\n",
    "for i in range(100):\n",
    "    id1,id2=re.match('^[a-zA-Z ]*',ebooks_names[i]).span()\n",
    "    book_titles.append(ebooks_names[i][id1:id2])"
   ]
  },
  {
   "cell_type": "code",
   "execution_count": 95,
   "metadata": {},
   "outputs": [
    {
     "name": "stdout",
     "output_type": "stream",
     "text": [
      "Frankenstein\n",
      "Pride and Prejudice by Jane Austen \n",
      "A Modest Proposal by Jonathan Swift \n",
      "Alice\n",
      "The Great Gatsby by F\n",
      "The Scarlet Letter by Nathaniel Hawthorne \n",
      "Metamorphosis by Franz Kafka \n",
      "Adventures of Huckleberry Finn by Mark Twain \n",
      "The Importance of Being Earnest\n",
      "A Tale of Two Cities by Charles Dickens \n",
      "A Christmas Carol in Prose\n",
      "The Strange Case of Dr\n",
      "Et dukkehjem\n",
      "Moby Dick\n",
      "Jane Eyre\n",
      "The Adventures of Sherlock Holmes by Arthur Conan Doyle \n",
      "Anthem by Ayn Rand \n",
      "The Hound of the Baskervilles by Arthur Conan Doyle \n",
      "The Picture of Dorian Gray by Oscar Wilde \n",
      "Heart of Darkness by Joseph Conrad \n",
      "The Awakening\n",
      "The Adventures of Tom Sawyer\n",
      "The Yellow Wallpaper by Charlotte Perkins Gilman \n",
      "Great Expectations by Charles Dickens \n",
      "The Souls of Black Folk by W\n",
      "Labyrinth by Helen R\n",
      "Treasure Island by Robert Louis Stevenson \n",
      "Narrative of the Life of Frederick Douglass\n",
      "Candide by Voltaire \n",
      "Il Principe\n",
      "Dracula by Bram Stoker \n",
      "Peter Pan by J\n",
      "Let the Ants Try by Frederik Pohl \n",
      "Walden\n",
      "The Wonderful Wizard of Oz by L\n",
      "The Republic by Plato \n",
      "Against the Stone Beasts by James Blish \n",
      "Beowulf\n",
      "The Call of the Wild by Jack London \n",
      "Oliver Twist by Charles Dickens \n",
      "Cargo to Callisto by Jerome Bixby \n",
      "Little Women by Louisa May Alcott \n",
      "Le jardin des supplices by Octave Mirbeau \n",
      "Grimms\n",
      "Emma by Jane Austen \n",
      "The Elements of Style by William Strunk \n",
      "Sticks and Stones\n",
      "Ulysses by James Joyce \n",
      "Frankenstein\n",
      "Anne of Green Gables by L\n",
      "Leviathan by Thomas Hobbes \n",
      "Prestuplenie i nakazanie\n",
      "War and Peace by graf Leo Tolstoy \n",
      "Abury\n",
      "Dubliners by James Joyce \n",
      "A Study in Scarlet by Arthur Conan Doyle \n",
      "The Count of Monte Cristo\n",
      "Tractatus Logico\n",
      "Narratives of Colored Americans \n",
      "Les Mis\n",
      "Wuthering Heights by Emily Bront\n",
      "Frank Merriwell\n",
      "The Slang Dictionary\n",
      "Pygmalion by Bernard Shaw \n",
      "The War of the Worlds by H\n",
      "Rip Van Winkle by Washington Irving \n",
      "The Essays of Arthur Schopenhauer\n",
      "The Odyssey by Homer \n",
      "Lady Into Hell\n",
      "The Prophet by Kahlil Gibran \n",
      "Uncle Tom\n",
      "Autobiography of Benjamin Franklin by Benjamin Franklin \n",
      "The Iliad by Homer \n",
      "Ars\n",
      "The Sign of the Four by Arthur Conan Doyle \n",
      "Sidewinders From Sirius by Fox B\n",
      "The Secret Garden by Frances Hodgson Burnett \n",
      "The Jungle Book by Rudyard Kipling \n",
      "Divine Comedy\n",
      "Athletics and Games of the Ancient Greeks by Edward M\n",
      "The Jungle by Upton Sinclair \n",
      "Siddhartha by Hermann Hesse \n",
      "Songs of Innocence\n",
      "Gulliver\n",
      "The Diamond Sutra \n",
      "The Interesting Narrative of the Life of Olaudah Equiano\n",
      "The Legend of Sleepy Hollow by Washington Irving \n",
      "Don Quixote by Miguel de Cervantes Saavedra \n",
      "Alice\n",
      "A Pickle for the Knowing Ones by Timothy Dexter \n",
      "Second Treatise of Government by John Locke \n",
      "Famous Men of the Middle Ages by John H\n",
      "The Time Machine by H\n",
      "The Works of Edgar Allan Poe \n",
      "Incidents in the Life of a Slave Girl\n",
      "Also sprach Zarathustra\n",
      "Sense and Sensibility by Jane Austen \n",
      "Essays of Michel de Montaigne \n",
      "Ethan Frome by Edith Wharton \n",
      "Manifest der Kommunistischen Partei\n"
     ]
    }
   ],
   "source": [
    "for i in book_titles:\n",
    "    print(i)"
   ]
  },
  {
   "cell_type": "markdown",
   "metadata": {},
   "source": [
    "### 2. Data Wrangling with Python: Activity 10, page 295"
   ]
  },
  {
   "cell_type": "code",
   "execution_count": 96,
   "metadata": {},
   "outputs": [],
   "source": [
    "import json"
   ]
  },
  {
   "cell_type": "markdown",
   "metadata": {},
   "source": [
    "#### Obtain a key and store it in JSON as APIkeys.json. Open the APIkeys.json file."
   ]
  },
  {
   "cell_type": "code",
   "execution_count": 103,
   "metadata": {},
   "outputs": [],
   "source": [
    "def get_keys(path):\n",
    "    with open(path) as f:\n",
    "        return json.load(f)\n",
    "    \n",
    "keys = get_keys(\"APIkeys.json\")"
   ]
  },
  {
   "cell_type": "markdown",
   "metadata": {},
   "source": [
    "#### Assign the OMDb portal (http://www.omdbapi.com/?) as a string to a variable. "
   ]
  },
  {
   "cell_type": "code",
   "execution_count": 105,
   "metadata": {},
   "outputs": [],
   "source": [
    "serviceurl = 'http://www.omdbapi.com/?i=tt3896198'"
   ]
  },
  {
   "cell_type": "markdown",
   "metadata": {},
   "source": [
    "#### Create a variable called apikey with the last portion of the URL (&apikey=secretapikey), where secretapikey is your own API key. "
   ]
  },
  {
   "cell_type": "code",
   "execution_count": 106,
   "metadata": {},
   "outputs": [],
   "source": [
    "API_Key = keys['API_Key']\n",
    "apikey = '&apikey=' + API_Key"
   ]
  },
  {
   "cell_type": "markdown",
   "metadata": {},
   "source": [
    "#### Load the secret API key (you have to get one from the OMDb website and use that; it has a daily limit of 1,000) from a JSON file stored in the same folder in a variable, by using json.loads. "
   ]
  },
  {
   "cell_type": "code",
   "execution_count": 108,
   "metadata": {},
   "outputs": [],
   "source": [
    "url = serviceurl + apikey"
   ]
  },
  {
   "cell_type": "code",
   "execution_count": 110,
   "metadata": {},
   "outputs": [],
   "source": [
    "response = urllib.request.urlopen(url)\n",
    "data = response.read().decode(\"utf-8\")\n",
    "json_data = json.loads(data)"
   ]
  },
  {
   "cell_type": "markdown",
   "metadata": {},
   "source": [
    "#### Write a utility function called print_json to print the movie data from a JSON file (which we will get from the portal). "
   ]
  },
  {
   "cell_type": "code",
   "execution_count": 121,
   "metadata": {},
   "outputs": [],
   "source": [
    "def print_json(json_data):\n",
    "    list_keys=['Title', 'Year', 'Rated', 'Released', 'Runtime', 'Genre', 'Director', 'Writer', \n",
    "               'Actors', 'Plot', 'Language', 'Country', 'Awards', 'Ratings', \n",
    "               'Metascore', 'imdbRating', 'imdbVotes', 'imdbID']\n",
    "    print(\"-\"*50)\n",
    "    for k in list_keys:\n",
    "        if k in list(json_data.keys()):\n",
    "            print(f\"{k}: {json_data[k]}\")\n",
    "    print(\"-\"*50)"
   ]
  },
  {
   "cell_type": "markdown",
   "metadata": {},
   "source": [
    "#### Write a utility function to download a poster of the movie based on the information from the JSON dataset and save it in your local folder. Use the os module. The poster data is stored in the JSON key Poster. Use the Python command to open a file and write the poster data. Close the file after you're done. This function will save the poster data as an image file."
   ]
  },
  {
   "cell_type": "code",
   "execution_count": 128,
   "metadata": {},
   "outputs": [],
   "source": [
    "def save_poster(json_data): \n",
    "    import os \n",
    "    title = json_data['Title'] \n",
    "    poster_url = json_data['Poster'] \n",
    "    \n",
    "    # Splits the poster url and pick up the last string as file extension\n",
    "    poster_file_ext = poster_url.split('.')[-1] \n",
    "    \n",
    "    # image file from web \n",
    "    poster = urllib.request.urlopen(poster_url).read() \n",
    "    location=os.getcwd() + '\\\\' + 'posters' + '\\\\' \n",
    "    \n",
    "    if not os.path.isdir(location):\n",
    "        os.mkdir(location)\n",
    "    \n",
    "    file = location + str(title) +'.' + poster_file_ext\n",
    "    f=open(file,'wb')\n",
    "    f.write(poster)\n",
    "    f.close()"
   ]
  },
  {
   "cell_type": "markdown",
   "metadata": {},
   "source": [
    "#### Write a utility function called search_movie to search for a movie by its name, print the downloaded JSON data, and save the movie poster in the local folder. Use a try-except loop for this. Use the previously created serviceurl and apikey variables. You have to pass on a dictionary with a key, t, and the movie name as the corresponding value to the urllib.parse.urlencode() function and then add the serviceurl and apikey to the output of the function to construct the full URL. This URL will be used to access the data. The JSON data has a key called Response. If it is True, that means the read was successful. Check this before processing the data. If it's not successful, then print the JSON key Error, which will contain the appropriate error message returned by the movie database.\n"
   ]
  },
  {
   "cell_type": "code",
   "execution_count": 129,
   "metadata": {},
   "outputs": [],
   "source": [
    "def search_movie(title):\n",
    "    try:\n",
    "        url = serviceurl + urllib.parse.urlencode({'t': str(title)})+apikey\n",
    "        print(f'Retrieving the data of \"{title}\" now... ')\n",
    "        print(url)\n",
    "        response = urllib.request.urlopen(url)\n",
    "        data = response.read()\n",
    "        json_data=json.loads(data)\n",
    "        \n",
    "        if json_data['Response']=='True':\n",
    "            print_json(json_data)\n",
    "            \n",
    "            if json_data['Poster']!='N/A':\n",
    "                save_poster(json_data)\n",
    "        else:\n",
    "            print(\"Error encountered: \",json_data['Error'])\n",
    "    \n",
    "    except urllib.error.URLError as e:\n",
    "        print(f\"ERROR: {e.reason}\")"
   ]
  },
  {
   "cell_type": "markdown",
   "metadata": {},
   "source": [
    "#### Test the search_movie function by entering Titanic."
   ]
  },
  {
   "cell_type": "code",
   "execution_count": 130,
   "metadata": {},
   "outputs": [
    {
     "name": "stdout",
     "output_type": "stream",
     "text": [
      "Retrieving the data of \"Titanic\" now... \n",
      "http://www.omdbapi.com/?i=tt3896198&t=Titanic&apikey=e9bf0834\n",
      "--------------------------------------------------\n",
      "Title: Titanic\n",
      "Year: 1997\n",
      "Rated: PG-13\n",
      "Released: 19 Dec 1997\n",
      "Runtime: 194 min\n",
      "Genre: Drama, Romance\n",
      "Director: James Cameron\n",
      "Writer: James Cameron\n",
      "Actors: Leonardo DiCaprio, Kate Winslet, Billy Zane, Kathy Bates\n",
      "Plot: A seventeen-year-old aristocrat falls in love with a kind but poor artist aboard the luxurious, ill-fated R.M.S. Titanic.\n",
      "Language: English, Swedish, Italian, French\n",
      "Country: USA, Mexico\n",
      "Awards: Won 11 Oscars. Another 112 wins & 83 nominations.\n",
      "Ratings: [{'Source': 'Internet Movie Database', 'Value': '7.8/10'}, {'Source': 'Rotten Tomatoes', 'Value': '89%'}, {'Source': 'Metacritic', 'Value': '75/100'}]\n",
      "Metascore: 75\n",
      "imdbRating: 7.8\n",
      "imdbVotes: 1,048,704\n",
      "imdbID: tt0120338\n",
      "--------------------------------------------------\n"
     ]
    }
   ],
   "source": [
    "search_movie(\"Titanic\")"
   ]
  },
  {
   "cell_type": "markdown",
   "metadata": {},
   "source": [
    "#### Test the search_movie function by entering \"Random_error\" (obviously, this will not be found, and you should be able to check whether your error catching code is working properly)."
   ]
  },
  {
   "cell_type": "code",
   "execution_count": 131,
   "metadata": {},
   "outputs": [
    {
     "name": "stdout",
     "output_type": "stream",
     "text": [
      "Retrieving the data of \"Random_error\" now... \n",
      "http://www.omdbapi.com/?i=tt3896198&t=Random_error&apikey=e9bf0834\n",
      "Error encountered:  Movie not found!\n"
     ]
    }
   ],
   "source": [
    "search_movie(\"Random_error\")"
   ]
  },
  {
   "cell_type": "markdown",
   "metadata": {},
   "source": [
    "### 3. Connect to the Twitter API and do a simple data pull"
   ]
  },
  {
   "cell_type": "code",
   "execution_count": 142,
   "metadata": {},
   "outputs": [],
   "source": [
    "import twitter"
   ]
  },
  {
   "cell_type": "code",
   "execution_count": 143,
   "metadata": {},
   "outputs": [],
   "source": [
    "def get_keys(path):\n",
    "    with open(path) as f:\n",
    "        return json.load(f)\n",
    "    \n",
    "apikey = get_keys(\"twitter_apikeys.json\")\n",
    "keysecret = get_keys(\"twitter_keysecret.json\")\n",
    "token = get_keys(\"twitter_token.json\")\n",
    "tokensecret = get_keys(\"twitter_tokensecret.json\")"
   ]
  },
  {
   "cell_type": "code",
   "execution_count": 144,
   "metadata": {},
   "outputs": [],
   "source": [
    "API_Key = apikey['API_Key']\n",
    "API_Key_Secret = keysecret['API_Key_Secret']\n",
    "Access_Token = token['Access_Token']\n",
    "Access_Token_Secret = tokensecret['Access_Token_Secret']"
   ]
  },
  {
   "cell_type": "code",
   "execution_count": 145,
   "metadata": {},
   "outputs": [],
   "source": [
    "api = twitter.Api(consumer_key=API_Key,\n",
    "                  consumer_secret=API_Key_Secret,\n",
    "                  access_token_key=Access_Token,\n",
    "                  access_token_secret=Access_Token_Secret)"
   ]
  },
  {
   "cell_type": "code",
   "execution_count": 146,
   "metadata": {},
   "outputs": [
    {
     "name": "stdout",
     "output_type": "stream",
     "text": [
      "{\"created_at\": \"Thu Feb 18 04:53:48 +0000 2021\", \"default_profile\": true, \"default_profile_image\": true, \"id\": 1362263974432051200, \"id_str\": \"1362263974432051200\", \"name\": \"Taniya Dutta Adhikari\", \"profile_background_color\": \"F5F8FA\", \"profile_image_url\": \"http://abs.twimg.com/sticky/default_profile_images/default_profile_normal.png\", \"profile_image_url_https\": \"https://abs.twimg.com/sticky/default_profile_images/default_profile_normal.png\", \"profile_link_color\": \"1DA1F2\", \"profile_sidebar_border_color\": \"C0DEED\", \"profile_sidebar_fill_color\": \"DDEEF6\", \"profile_text_color\": \"333333\", \"profile_use_background_image\": true, \"screen_name\": \"AdhikariTaniya\"}\n"
     ]
    }
   ],
   "source": [
    "print(api.VerifyCredentials())"
   ]
  },
  {
   "cell_type": "code",
   "execution_count": 147,
   "metadata": {},
   "outputs": [],
   "source": [
    "my_uni = api.GetSearch(term='Bellevue University', since=2020-10-1, count=10)"
   ]
  },
  {
   "cell_type": "code",
   "execution_count": 148,
   "metadata": {},
   "outputs": [
    {
     "data": {
      "text/plain": [
       "[Status(ID=1365812621409193984, ScreenName=benrothke, Created=Sat Feb 27 23:54:39 +0000 2021, Text='RT @RSAConference: You can catch @RonW123, Cybersecurity Professor, Bellevue University, as a co-presenter of the May 19 session, \"ComPriSe…'),\n",
       " Status(ID=1365779887852687360, ScreenName=AshlynMacdonal1, Created=Sat Feb 27 21:44:34 +0000 2021, Text='RT @dakotastate_wbb: 🚨GAMEDAY!!!🚨\\n\\nNSAA Championship Game\\n\\n One more.. THE TROJAN WAY 🏀⚔️😈\\n\\n#TCMentality | #BeUncommon | #NoExcuses\\n \\n🆚: Be…'),\n",
       " Status(ID=1365757620074782721, ScreenName=cierabritain, Created=Sat Feb 27 20:16:05 +0000 2021, Text='RT @SterlingCSports: GAMEDAY! @SterlingWsoccer is starting the spring with a home matchup against Bellevue University today at 12PM! Watch…'),\n",
       " Status(ID=1365751822489706496, ScreenName=SterlingCSports, Created=Sat Feb 27 19:53:03 +0000 2021, Text=\"Women's Soccer - Lost 3-0 to Bellevue University. #SwordsUp #KCACscores\"),\n",
       " Status(ID=1365745218704793602, ScreenName=CoachVincent2, Created=Sat Feb 27 19:26:49 +0000 2021, Text='RT @dakotastate_wbb: 🚨GAMEDAY!!!🚨\\n\\nNSAA Championship Game\\n\\n One more.. THE TROJAN WAY 🏀⚔️😈\\n\\n#TCMentality | #BeUncommon | #NoExcuses\\n \\n🆚: Be…'),\n",
       " Status(ID=1365735278619557891, ScreenName=warrenfishjr, Created=Sat Feb 27 18:47:19 +0000 2021, Text='RT @RSAConference: You can catch @RonW123, Cybersecurity Professor, Bellevue University, as a co-presenter of the May 19 session, \"ComPriSe…'),\n",
       " Status(ID=1365719773607317504, ScreenName=SterlingCLife, Created=Sat Feb 27 17:45:42 +0000 2021, Text='RT @SterlingCSports: GAMEDAY! @SterlingWsoccer is starting the spring with a home matchup against Bellevue University today at 12PM! Watch…'),\n",
       " Status(ID=1365714413152518145, ScreenName=SterlingCSports, Created=Sat Feb 27 17:24:24 +0000 2021, Text='GAMEDAY! @SterlingWsoccer is starting the spring with a home matchup against Bellevue University today at 12PM! Wat… https://t.co/ZmRSnK7eo8'),\n",
       " Status(ID=1365712958861541382, ScreenName=BigCat_54, Created=Sat Feb 27 17:18:37 +0000 2021, Text='RT @dakotastate_wbb: 🚨GAMEDAY!!!🚨\\n\\nNSAA Championship Game\\n\\n One more.. THE TROJAN WAY 🏀⚔️😈\\n\\n#TCMentality | #BeUncommon | #NoExcuses\\n \\n🆚: Be…'),\n",
       " Status(ID=1365703551494868992, ScreenName=DSUAthletics, Created=Sat Feb 27 16:41:14 +0000 2021, Text='RT @dakotastate_wbb: 🚨GAMEDAY!!!🚨\\n\\nNSAA Championship Game\\n\\n One more.. THE TROJAN WAY 🏀⚔️😈\\n\\n#TCMentality | #BeUncommon | #NoExcuses\\n \\n🆚: Be…')]"
      ]
     },
     "execution_count": 148,
     "metadata": {},
     "output_type": "execute_result"
    }
   ],
   "source": [
    "my_uni"
   ]
  },
  {
   "cell_type": "markdown",
   "metadata": {},
   "source": [
    "### 4. Using one of the datasets provided in Weeks 7 & 8, or a dataset of your own, choose 3 of the following visualizations to complete. You must submit via PDF along with your code. You are free to use Matplotlib, Seaborn or another package if you prefer."
   ]
  },
  {
   "cell_type": "code",
   "execution_count": 156,
   "metadata": {},
   "outputs": [],
   "source": [
    "df = pd.read_csv('candyhierarchy2017.csv',encoding = \"ISO-8859-1\")"
   ]
  },
  {
   "cell_type": "code",
   "execution_count": 152,
   "metadata": {},
   "outputs": [
    {
     "data": {
      "text/html": [
       "<div>\n",
       "<style scoped>\n",
       "    .dataframe tbody tr th:only-of-type {\n",
       "        vertical-align: middle;\n",
       "    }\n",
       "\n",
       "    .dataframe tbody tr th {\n",
       "        vertical-align: top;\n",
       "    }\n",
       "\n",
       "    .dataframe thead th {\n",
       "        text-align: right;\n",
       "    }\n",
       "</style>\n",
       "<table border=\"1\" class=\"dataframe\">\n",
       "  <thead>\n",
       "    <tr style=\"text-align: right;\">\n",
       "      <th></th>\n",
       "      <th>Internal ID</th>\n",
       "      <th>Q12: MEDIA [Daily Dish]</th>\n",
       "      <th>Q12: MEDIA [Science]</th>\n",
       "      <th>Q12: MEDIA [ESPN]</th>\n",
       "      <th>Q12: MEDIA [Yahoo]</th>\n",
       "    </tr>\n",
       "  </thead>\n",
       "  <tbody>\n",
       "    <tr>\n",
       "      <th>count</th>\n",
       "      <td>2.460000e+03</td>\n",
       "      <td>85.0</td>\n",
       "      <td>1362.0</td>\n",
       "      <td>99.0</td>\n",
       "      <td>67.0</td>\n",
       "    </tr>\n",
       "    <tr>\n",
       "      <th>mean</th>\n",
       "      <td>9.028016e+07</td>\n",
       "      <td>1.0</td>\n",
       "      <td>1.0</td>\n",
       "      <td>1.0</td>\n",
       "      <td>1.0</td>\n",
       "    </tr>\n",
       "    <tr>\n",
       "      <th>std</th>\n",
       "      <td>7.435532e+03</td>\n",
       "      <td>0.0</td>\n",
       "      <td>0.0</td>\n",
       "      <td>0.0</td>\n",
       "      <td>0.0</td>\n",
       "    </tr>\n",
       "    <tr>\n",
       "      <th>min</th>\n",
       "      <td>9.025877e+07</td>\n",
       "      <td>1.0</td>\n",
       "      <td>1.0</td>\n",
       "      <td>1.0</td>\n",
       "      <td>1.0</td>\n",
       "    </tr>\n",
       "    <tr>\n",
       "      <th>25%</th>\n",
       "      <td>9.027520e+07</td>\n",
       "      <td>1.0</td>\n",
       "      <td>1.0</td>\n",
       "      <td>1.0</td>\n",
       "      <td>1.0</td>\n",
       "    </tr>\n",
       "    <tr>\n",
       "      <th>50%</th>\n",
       "      <td>9.027780e+07</td>\n",
       "      <td>1.0</td>\n",
       "      <td>1.0</td>\n",
       "      <td>1.0</td>\n",
       "      <td>1.0</td>\n",
       "    </tr>\n",
       "    <tr>\n",
       "      <th>75%</th>\n",
       "      <td>9.028242e+07</td>\n",
       "      <td>1.0</td>\n",
       "      <td>1.0</td>\n",
       "      <td>1.0</td>\n",
       "      <td>1.0</td>\n",
       "    </tr>\n",
       "    <tr>\n",
       "      <th>max</th>\n",
       "      <td>9.031480e+07</td>\n",
       "      <td>1.0</td>\n",
       "      <td>1.0</td>\n",
       "      <td>1.0</td>\n",
       "      <td>1.0</td>\n",
       "    </tr>\n",
       "  </tbody>\n",
       "</table>\n",
       "</div>"
      ],
      "text/plain": [
       "        Internal ID  Q12: MEDIA [Daily Dish]  Q12: MEDIA [Science]  \\\n",
       "count  2.460000e+03                     85.0                1362.0   \n",
       "mean   9.028016e+07                      1.0                   1.0   \n",
       "std    7.435532e+03                      0.0                   0.0   \n",
       "min    9.025877e+07                      1.0                   1.0   \n",
       "25%    9.027520e+07                      1.0                   1.0   \n",
       "50%    9.027780e+07                      1.0                   1.0   \n",
       "75%    9.028242e+07                      1.0                   1.0   \n",
       "max    9.031480e+07                      1.0                   1.0   \n",
       "\n",
       "       Q12: MEDIA [ESPN]  Q12: MEDIA [Yahoo]  \n",
       "count               99.0                67.0  \n",
       "mean                 1.0                 1.0  \n",
       "std                  0.0                 0.0  \n",
       "min                  1.0                 1.0  \n",
       "25%                  1.0                 1.0  \n",
       "50%                  1.0                 1.0  \n",
       "75%                  1.0                 1.0  \n",
       "max                  1.0                 1.0  "
      ]
     },
     "execution_count": 152,
     "metadata": {},
     "output_type": "execute_result"
    }
   ],
   "source": [
    "df.describe()"
   ]
  },
  {
   "cell_type": "code",
   "execution_count": 153,
   "metadata": {},
   "outputs": [
    {
     "data": {
      "text/html": [
       "<div>\n",
       "<style scoped>\n",
       "    .dataframe tbody tr th:only-of-type {\n",
       "        vertical-align: middle;\n",
       "    }\n",
       "\n",
       "    .dataframe tbody tr th {\n",
       "        vertical-align: top;\n",
       "    }\n",
       "\n",
       "    .dataframe thead th {\n",
       "        text-align: right;\n",
       "    }\n",
       "</style>\n",
       "<table border=\"1\" class=\"dataframe\">\n",
       "  <thead>\n",
       "    <tr style=\"text-align: right;\">\n",
       "      <th></th>\n",
       "      <th>Q1: GOING OUT?</th>\n",
       "      <th>Q2: GENDER</th>\n",
       "      <th>Q3: AGE</th>\n",
       "      <th>Q4: COUNTRY</th>\n",
       "      <th>Q5: STATE, PROVINCE, COUNTY, ETC</th>\n",
       "      <th>Q6 | 100 Grand Bar</th>\n",
       "      <th>Q6 | Anonymous brown globs that come in black and orange wrappers\\t(a.k.a. Mary Janes)</th>\n",
       "      <th>Q6 | Any full-sized candy bar</th>\n",
       "      <th>Q6 | Black Jacks</th>\n",
       "      <th>Q6 | Bonkers (the candy)</th>\n",
       "      <th>...</th>\n",
       "      <th>Q6 | White Bread</th>\n",
       "      <th>Q6 | Whole Wheat anything</th>\n",
       "      <th>Q6 | York Peppermint Patties</th>\n",
       "      <th>Q7: JOY OTHER</th>\n",
       "      <th>Q8: DESPAIR OTHER</th>\n",
       "      <th>Q9: OTHER COMMENTS</th>\n",
       "      <th>Q10: DRESS</th>\n",
       "      <th>Unnamed: 113</th>\n",
       "      <th>Q11: DAY</th>\n",
       "      <th>Click Coordinates (x, y)</th>\n",
       "    </tr>\n",
       "  </thead>\n",
       "  <tbody>\n",
       "    <tr>\n",
       "      <th>count</th>\n",
       "      <td>2350</td>\n",
       "      <td>2419</td>\n",
       "      <td>2376</td>\n",
       "      <td>2396</td>\n",
       "      <td>2360</td>\n",
       "      <td>1713</td>\n",
       "      <td>1726</td>\n",
       "      <td>1788</td>\n",
       "      <td>1502</td>\n",
       "      <td>1468</td>\n",
       "      <td>...</td>\n",
       "      <td>1703</td>\n",
       "      <td>1713</td>\n",
       "      <td>1755</td>\n",
       "      <td>911</td>\n",
       "      <td>717</td>\n",
       "      <td>386</td>\n",
       "      <td>1716</td>\n",
       "      <td>9</td>\n",
       "      <td>1735</td>\n",
       "      <td>1605</td>\n",
       "    </tr>\n",
       "    <tr>\n",
       "      <th>unique</th>\n",
       "      <td>2</td>\n",
       "      <td>4</td>\n",
       "      <td>106</td>\n",
       "      <td>128</td>\n",
       "      <td>511</td>\n",
       "      <td>3</td>\n",
       "      <td>3</td>\n",
       "      <td>3</td>\n",
       "      <td>3</td>\n",
       "      <td>3</td>\n",
       "      <td>...</td>\n",
       "      <td>3</td>\n",
       "      <td>3</td>\n",
       "      <td>3</td>\n",
       "      <td>867</td>\n",
       "      <td>685</td>\n",
       "      <td>385</td>\n",
       "      <td>2</td>\n",
       "      <td>1</td>\n",
       "      <td>2</td>\n",
       "      <td>952</td>\n",
       "    </tr>\n",
       "    <tr>\n",
       "      <th>top</th>\n",
       "      <td>No</td>\n",
       "      <td>Male</td>\n",
       "      <td>40</td>\n",
       "      <td>USA</td>\n",
       "      <td>California</td>\n",
       "      <td>JOY</td>\n",
       "      <td>DESPAIR</td>\n",
       "      <td>JOY</td>\n",
       "      <td>DESPAIR</td>\n",
       "      <td>MEH</td>\n",
       "      <td>...</td>\n",
       "      <td>DESPAIR</td>\n",
       "      <td>DESPAIR</td>\n",
       "      <td>JOY</td>\n",
       "      <td>Beer</td>\n",
       "      <td>Trump</td>\n",
       "      <td>nom nom nom!</td>\n",
       "      <td>White and gold</td>\n",
       "      <td>dress (https://survey.ubc.ca/media/assets/user...</td>\n",
       "      <td>Friday</td>\n",
       "      <td>(77, 24)</td>\n",
       "    </tr>\n",
       "    <tr>\n",
       "      <th>freq</th>\n",
       "      <td>2038</td>\n",
       "      <td>1467</td>\n",
       "      <td>92</td>\n",
       "      <td>699</td>\n",
       "      <td>132</td>\n",
       "      <td>873</td>\n",
       "      <td>1089</td>\n",
       "      <td>1559</td>\n",
       "      <td>793</td>\n",
       "      <td>857</td>\n",
       "      <td>...</td>\n",
       "      <td>1455</td>\n",
       "      <td>1289</td>\n",
       "      <td>1105</td>\n",
       "      <td>10</td>\n",
       "      <td>7</td>\n",
       "      <td>2</td>\n",
       "      <td>1081</td>\n",
       "      <td>9</td>\n",
       "      <td>1091</td>\n",
       "      <td>9</td>\n",
       "    </tr>\n",
       "  </tbody>\n",
       "</table>\n",
       "<p>4 rows × 115 columns</p>\n",
       "</div>"
      ],
      "text/plain": [
       "       Q1: GOING OUT? Q2: GENDER Q3: AGE Q4: COUNTRY  \\\n",
       "count            2350       2419    2376        2396   \n",
       "unique              2          4     106         128   \n",
       "top                No       Male      40         USA   \n",
       "freq             2038       1467      92         699   \n",
       "\n",
       "       Q5: STATE, PROVINCE, COUNTY, ETC Q6 | 100 Grand Bar  \\\n",
       "count                              2360               1713   \n",
       "unique                              511                  3   \n",
       "top                          California                JOY   \n",
       "freq                                132                873   \n",
       "\n",
       "       Q6 | Anonymous brown globs that come in black and orange wrappers\\t(a.k.a. Mary Janes)  \\\n",
       "count                                                1726                                       \n",
       "unique                                                  3                                       \n",
       "top                                               DESPAIR                                       \n",
       "freq                                                 1089                                       \n",
       "\n",
       "       Q6 | Any full-sized candy bar Q6 | Black Jacks  \\\n",
       "count                           1788             1502   \n",
       "unique                             3                3   \n",
       "top                              JOY          DESPAIR   \n",
       "freq                            1559              793   \n",
       "\n",
       "       Q6 | Bonkers (the candy)  ... Q6 | White Bread  \\\n",
       "count                      1468  ...             1703   \n",
       "unique                        3  ...                3   \n",
       "top                         MEH  ...          DESPAIR   \n",
       "freq                        857  ...             1455   \n",
       "\n",
       "       Q6 | Whole Wheat anything Q6 | York Peppermint Patties Q7: JOY OTHER  \\\n",
       "count                       1713                         1755           911   \n",
       "unique                         3                            3           867   \n",
       "top                      DESPAIR                          JOY          Beer   \n",
       "freq                        1289                         1105            10   \n",
       "\n",
       "       Q8: DESPAIR OTHER Q9: OTHER COMMENTS      Q10: DRESS  \\\n",
       "count                717                386            1716   \n",
       "unique               685                385               2   \n",
       "top                Trump       nom nom nom!  White and gold   \n",
       "freq                   7                  2            1081   \n",
       "\n",
       "                                             Unnamed: 113 Q11: DAY  \\\n",
       "count                                                   9     1735   \n",
       "unique                                                  1        2   \n",
       "top     dress (https://survey.ubc.ca/media/assets/user...   Friday   \n",
       "freq                                                    9     1091   \n",
       "\n",
       "       Click Coordinates (x, y)  \n",
       "count                      1605  \n",
       "unique                      952  \n",
       "top                    (77, 24)  \n",
       "freq                          9  \n",
       "\n",
       "[4 rows x 115 columns]"
      ]
     },
     "execution_count": 153,
     "metadata": {},
     "output_type": "execute_result"
    }
   ],
   "source": [
    "df.describe(include=['O'])"
   ]
  },
  {
   "cell_type": "markdown",
   "metadata": {},
   "source": [
    "**Pie Chart**"
   ]
  },
  {
   "cell_type": "code",
   "execution_count": 188,
   "metadata": {},
   "outputs": [
    {
     "data": {
      "image/png": "[encoded data removed]",
      "text/plain": [
       "<Figure size 504x504 with 1 Axes>"
      ]
     },
     "metadata": {},
     "output_type": "display_data"
    }
   ],
   "source": [
    "# set figure size\n",
    "plt.rcParams['figure.figsize'] = (7,7)\n",
    "\n",
    "df['Q6 | York Peppermint Patties'].value_counts().plot(kind='pie', autopct='%1.1f%%')\n",
    "plt.title(\"Pecentage of responses for York Peppermint Patties\")\n",
    "plt.show()"
   ]
  },
  {
   "cell_type": "markdown",
   "metadata": {},
   "source": [
    "**Bar Plot**"
   ]
  },
  {
   "cell_type": "code",
   "execution_count": 189,
   "metadata": {},
   "outputs": [
    {
     "data": {
      "image/png": "[encoded data removed]",
      "text/plain": [
       "<Figure size 504x360 with 1 Axes>"
      ]
     },
     "metadata": {
      "needs_background": "light"
     },
     "output_type": "display_data"
    }
   ],
   "source": [
    "# set figure size\n",
    "plt.rcParams['figure.figsize'] = (7,5)\n",
    "\n",
    "sns.barplot(x=df['Q6 | Kit Kat'].value_counts().index, y=df['Q6 | Kit Kat'].value_counts())\n",
    "plt.title(\"Likeliness of Kit Kat\")\n",
    "plt.show()"
   ]
  },
  {
   "cell_type": "markdown",
   "metadata": {},
   "source": [
    "**Line Chart**"
   ]
  },
  {
   "cell_type": "code",
   "execution_count": 190,
   "metadata": {},
   "outputs": [
    {
     "data": {
      "image/png": "[encoded data removed]",
      "text/plain": [
       "<Figure size 504x360 with 1 Axes>"
      ]
     },
     "metadata": {
      "needs_background": "light"
     },
     "output_type": "display_data"
    }
   ],
   "source": [
    "# set figure size\n",
    "plt.rcParams['figure.figsize'] = (7,5)\n",
    "\n",
    "sns.lineplot(x=df['Q6 | Cadbury Creme Eggs'].value_counts().index, y=df['Q6 | Kit Kat'].value_counts())\n",
    "plt.title(\"Likeliness Cadbury Creme Eggs\")\n",
    "plt.show()"
   ]
  }
 ],
 "metadata": {
  "kernelspec": {
   "display_name": "Python 3",
   "language": "python",
   "name": "python3"
  },
  "language_info": {
   "codemirror_mode": {
    "name": "ipython",
    "version": 3
   },
   "file_extension": ".py",
   "mimetype": "text/x-python",
   "name": "python",
   "nbconvert_exporter": "python",
   "pygments_lexer": "ipython3",
   "version": "3.7.9"
  }
 },
 "nbformat": 4,
 "nbformat_minor": 4
}
