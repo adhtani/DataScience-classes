{
 "cells": [
  {
   "cell_type": "markdown",
   "metadata": {},
   "source": [
    "## Assignment 10\n",
    "\n",
    "#### DSC650\n",
    "Taniya Adhikari"
   ]
  },
  {
   "cell_type": "markdown",
   "metadata": {},
   "source": [
    "### Assignment 10.1a"
   ]
  },
  {
   "cell_type": "code",
   "execution_count": 1,
   "metadata": {},
   "outputs": [],
   "source": [
    "import re\n",
    "from string import punctuation"
   ]
  },
  {
   "cell_type": "code",
   "execution_count": 2,
   "metadata": {},
   "outputs": [],
   "source": [
    "def tokenize(sentence, split = \" \"):\n",
    "    \n",
    "    # removes punctuation\n",
    "    pattern = r'[^A-Za-z ]'\n",
    "    regex = re.compile(pattern)\n",
    "    sentence = regex.sub(' ', sentence)\n",
    "    sentence = sentence.replace(\"\\n\", \"\")\n",
    "    \n",
    "    \n",
    "    # Convert string to lower case\n",
    "    sentence = sentence.lower()\n",
    "    \n",
    "    #removes duplicate spaces\n",
    "    sentence = re.sub(' +', ' ', sentence)\n",
    "    \n",
    "    \n",
    "    # remove whitespace\n",
    "    sentence = sentence.strip()\n",
    "    \n",
    "    # Split by spaces\n",
    "    tokens = sentence.split(split)\n",
    "    return tokens"
   ]
  },
  {
   "cell_type": "code",
   "execution_count": 3,
   "metadata": {},
   "outputs": [],
   "source": [
    "s = \"\"\"\n",
    "She stared at it, and rubbed her eyes, and stared at it again.\n",
    "\n",
    "\"Well! I never!\" she said at last. \"And me thinking it was a pot of gold! \n",
    "I must have been dreaming. But this is luck! Silver is far less trouble—easier \n",
    "to mind, and not so easy stolen. Them gold pieces would have been the death o' me, \n",
    "and with this great lump of silver—\"\n",
    "\n",
    "\"\"\""
   ]
  },
  {
   "cell_type": "code",
   "execution_count": 4,
   "metadata": {},
   "outputs": [
    {
     "name": "stdout",
     "output_type": "stream",
     "text": [
      "['she', 'stared', 'at', 'it', 'and', 'rubbed', 'her', 'eyes', 'and', 'stared', 'at', 'it', 'again', 'well', 'i', 'never', 'she', 'said', 'at', 'last', 'and', 'me', 'thinking', 'it', 'was', 'a', 'pot', 'of', 'gold', 'i', 'must', 'have', 'been', 'dreaming', 'but', 'this', 'is', 'luck', 'silver', 'is', 'far', 'less', 'trouble', 'easier', 'to', 'mind', 'and', 'not', 'so', 'easy', 'stolen', 'them', 'gold', 'pieces', 'would', 'have', 'been', 'the', 'death', 'o', 'me', 'and', 'with', 'this', 'great', 'lump', 'of', 'silver']\n"
     ]
    }
   ],
   "source": [
    "tokens = tokenize(s)\n",
    "print(tokens)"
   ]
  },
  {
   "cell_type": "markdown",
   "metadata": {},
   "source": [
    "### Assignment 10.1b"
   ]
  },
  {
   "cell_type": "code",
   "execution_count": 5,
   "metadata": {},
   "outputs": [
    {
     "name": "stdout",
     "output_type": "stream",
     "text": [
      "['she stared', 'stared at', 'at it', 'it and', 'and rubbed', 'rubbed her', 'her eyes', 'eyes and', 'and stared', 'stared at', 'at it', 'it again', 'again well', 'well i', 'i never', 'never she', 'she said', 'said at', 'at last', 'last and', 'and me', 'me thinking', 'thinking it', 'it was', 'was a', 'a pot', 'pot of', 'of gold', 'gold i', 'i must', 'must have', 'have been', 'been dreaming', 'dreaming but', 'but this', 'this is', 'is luck', 'luck silver', 'silver is', 'is far', 'far less', 'less trouble', 'trouble easier', 'easier to', 'to mind', 'mind and', 'and not', 'not so', 'so easy', 'easy stolen', 'stolen them', 'them gold', 'gold pieces', 'pieces would', 'would have', 'have been', 'been the', 'the death', 'death o', 'o me', 'me and', 'and with', 'with this', 'this great', 'great lump', 'lump of', 'of silver', 'silver']\n"
     ]
    }
   ],
   "source": [
    "def ngram(tokens, n):\n",
    "    ngrams = []\n",
    " \n",
    "    for num in range(0, len(tokens)):\n",
    "        ngram = ' '.join(tokens[num:num + n])\n",
    "        ngrams.append(ngram)\n",
    " \n",
    "    return ngrams\n",
    "\n",
    "print(ngram(tokens, 2))"
   ]
  },
  {
   "cell_type": "markdown",
   "metadata": {},
   "source": [
    "### Assignment 10.1c"
   ]
  },
  {
   "cell_type": "code",
   "execution_count": 6,
   "metadata": {},
   "outputs": [],
   "source": [
    "import numpy as np\n",
    "def one_hot_encode(tokens, num_words):\n",
    "    token_index = {}\n",
    "    for word in tokens:\n",
    "        if word not in token_index:\n",
    "            token_index[word] = len(token_index) + 1\n",
    "            \n",
    "    results = np.zeros(shape=(num_words,max(token_index.values()) + 1))\n",
    "    for j, word in enumerate(tokens):\n",
    "        index = token_index.get(word)\n",
    "        results[j, index] = 1.\n",
    "    return results"
   ]
  },
  {
   "cell_type": "code",
   "execution_count": 7,
   "metadata": {},
   "outputs": [
    {
     "data": {
      "text/plain": [
       "array([[0., 1., 0., ..., 0., 0., 0.],\n",
       "       [0., 0., 1., ..., 0., 0., 0.],\n",
       "       [0., 0., 0., ..., 0., 0., 0.],\n",
       "       ...,\n",
       "       [0., 0., 0., ..., 0., 0., 1.],\n",
       "       [0., 0., 0., ..., 0., 0., 0.],\n",
       "       [0., 0., 0., ..., 0., 0., 0.]])"
      ]
     },
     "execution_count": 7,
     "metadata": {},
     "output_type": "execute_result"
    }
   ],
   "source": [
    "one_hot_encode(tokens, len(tokens))"
   ]
  },
  {
   "cell_type": "markdown",
   "metadata": {},
   "source": [
    "### Assignment 10.2"
   ]
  },
  {
   "cell_type": "code",
   "execution_count": 8,
   "metadata": {},
   "outputs": [
    {
     "name": "stderr",
     "output_type": "stream",
     "text": [
      "Using TensorFlow backend.\n"
     ]
    }
   ],
   "source": [
    "import pandas as pd\n",
    "import matplotlib.pyplot as plt\n",
    "import tensorflow\n",
    "\n",
    "from tensorflow import keras\n",
    "from keras import models, layers, losses, optimizers\n",
    "from keras.models import Sequential\n",
    "from keras.layers import Embedding, Flatten, Dense\n",
    "from keras.preprocessing.text import Tokenizer\n",
    "from keras.preprocessing.sequence import pad_sequences"
   ]
  },
  {
   "cell_type": "code",
   "execution_count": 9,
   "metadata": {},
   "outputs": [],
   "source": [
    "import os\n",
    "from pathlib import Path\n",
    "import shutil, random"
   ]
  },
  {
   "cell_type": "code",
   "execution_count": 10,
   "metadata": {},
   "outputs": [
    {
     "data": {
      "text/plain": [
       "WindowsPath('C:/Users/bibek/Documents/GitHub/dsc650')"
      ]
     },
     "execution_count": 10,
     "metadata": {},
     "output_type": "execute_result"
    }
   ],
   "source": [
    "current_dir = Path(os.getcwd()).absolute()\n",
    "current_dir = Path(current_dir).parents[2]\n",
    "current_dir"
   ]
  },
  {
   "cell_type": "code",
   "execution_count": 11,
   "metadata": {},
   "outputs": [
    {
     "data": {
      "text/plain": [
       "WindowsPath('C:/Users/bibek/Documents/GitHub/dsc650/data/external/imdb/aclImdb')"
      ]
     },
     "execution_count": 11,
     "metadata": {},
     "output_type": "execute_result"
    }
   ],
   "source": [
    "data_dir = current_dir.joinpath('data')\n",
    "external_dir = data_dir.joinpath('external')\n",
    "imdb_dir = external_dir.joinpath('imdb')\n",
    "base_dir = imdb_dir.joinpath(\"aclImdb\")\n",
    "base_dir"
   ]
  },
  {
   "cell_type": "code",
   "execution_count": 12,
   "metadata": {},
   "outputs": [],
   "source": [
    "train_dir = base_dir.joinpath(\"train\")\n",
    "test_dir = base_dir.joinpath(\"test\")"
   ]
  },
  {
   "cell_type": "code",
   "execution_count": 13,
   "metadata": {},
   "outputs": [],
   "source": [
    "def data_set(directory):\n",
    "    labels = []\n",
    "    texts = []\n",
    "    for label_type in ['neg', 'pos']:\n",
    "        dir_name = os.path.join(directory, label_type)\n",
    "        for root, dirs, files in os.walk(dir_name):\n",
    "            for file in files:\n",
    "                current_path = Path(root).joinpath(file)\n",
    "                with open(current_path, encoding=\"utf8\") as f:\n",
    "                    review = f.read()\n",
    "                    texts.append(review)\n",
    "                    f.close()\n",
    "                    if label_type == 'neg':\n",
    "                        labels.append(0)\n",
    "                    else:\n",
    "                        labels.append(1)\n",
    "    return texts, labels\n",
    "           \n",
    "    "
   ]
  },
  {
   "cell_type": "code",
   "execution_count": 14,
   "metadata": {},
   "outputs": [],
   "source": [
    "X_train, Y_train = data_set(train_dir)\n",
    "X_test, Y_test = data_set(test_dir)"
   ]
  },
  {
   "cell_type": "code",
   "execution_count": 15,
   "metadata": {},
   "outputs": [
    {
     "data": {
      "text/plain": [
       "(\"Story of a man who has unnatural feelings for a pig. Starts out with a opening scene that is a terrific example of absurd comedy. A formal orchestra audience is turned into an insane, violent mob by the crazy chantings of it's singers. Unfortunately it stays absurd the WHOLE time with no general narrative eventually making it just too off putting. Even those from the era should be turned off. The cryptic dialogue would make Shakespeare seem easy to a third grader. On a technical level it's better than you might think with some good cinematography by future great Vilmos Zsigmond. Future stars Sally Kirkland and Frederic Forrest can be seen briefly.\",\n",
       " 0)"
      ]
     },
     "execution_count": 15,
     "metadata": {},
     "output_type": "execute_result"
    }
   ],
   "source": [
    "X_train[0], Y_train[0]"
   ]
  },
  {
   "cell_type": "code",
   "execution_count": 16,
   "metadata": {},
   "outputs": [
    {
     "data": {
      "text/plain": [
       "(\"Once again Mr. Costner has dragged out a movie for far longer than necessary. Aside from the terrific sea rescue sequences, of which there are very few I just did not care about any of the characters. Most of us have ghosts in the closet, and Costner's character are realized early on, and then forgotten until much later, by which time I did not care. The character we should really care about is a very cocky, overconfident Ashton Kutcher. The problem is he comes off as kid who thinks he's better than anyone else around him and shows no signs of a cluttered closet. His only obstacle appears to be winning over Costner. Finally when we are well past the half way point of this stinker, Costner tells us all about Kutcher's ghosts. We are told why Kutcher is driven to be the best with no prior inkling or foreshadowing. No magic here, it was all I could do to keep from turning it off an hour in.\",\n",
       " 0)"
      ]
     },
     "execution_count": 16,
     "metadata": {},
     "output_type": "execute_result"
    }
   ],
   "source": [
    "X_test[0], Y_test[0]"
   ]
  },
  {
   "cell_type": "code",
   "execution_count": 17,
   "metadata": {},
   "outputs": [],
   "source": [
    "def preprocess_data(review):\n",
    "    # removes punctuation\n",
    "    pattern = r'[^A-Za-z ]'\n",
    "    regex = re.compile(pattern)\n",
    "    review = regex.sub(' ', review)\n",
    "    review = review.replace(\"\\n\", \"\") \n",
    "    \n",
    "    # Convert string to lower case\n",
    "    review = review.lower()\n",
    "    #removes duplicate spaces\n",
    "    review = re.sub(' +', ' ', review)\n",
    "    # remove whitespace\n",
    "    review = review.strip()\n",
    "    \n",
    "    return review"
   ]
  },
  {
   "cell_type": "code",
   "execution_count": 18,
   "metadata": {},
   "outputs": [],
   "source": [
    "X_train = [preprocess_data(review) for review in X_train]\n",
    "X_test = [preprocess_data(review) for review in X_test]"
   ]
  },
  {
   "cell_type": "code",
   "execution_count": 19,
   "metadata": {},
   "outputs": [
    {
     "data": {
      "text/plain": [
       "25000"
      ]
     },
     "execution_count": 19,
     "metadata": {},
     "output_type": "execute_result"
    }
   ],
   "source": [
    "len(X_train)"
   ]
  },
  {
   "cell_type": "markdown",
   "metadata": {},
   "source": [
    "#### Tokenizing"
   ]
  },
  {
   "cell_type": "code",
   "execution_count": 20,
   "metadata": {},
   "outputs": [
    {
     "name": "stdout",
     "output_type": "stream",
     "text": [
      "Found 73272 unique tokens.\n"
     ]
    }
   ],
   "source": [
    "max_words = 10000\n",
    "tokenizer = Tokenizer(num_words = max_words)\n",
    "tokenizer.fit_on_texts(X_train)\n",
    "sequences = tokenizer.texts_to_sequences(X_train)\n",
    "word_index = tokenizer.word_index\n",
    "print('Found %s unique tokens.' % len(word_index))"
   ]
  },
  {
   "cell_type": "code",
   "execution_count": 21,
   "metadata": {},
   "outputs": [
    {
     "name": "stdout",
     "output_type": "stream",
     "text": [
      "Shape of data tensor: (25000, 2234)\n",
      "Shape of label tensor: (25000,)\n"
     ]
    }
   ],
   "source": [
    "max_len = max([len(x) for x in sequences])\n",
    "data = pad_sequences(sequences, maxlen=max_len)\n",
    "labels = np.asarray(Y_train)\n",
    "\n",
    "print('Shape of data tensor:', data.shape)\n",
    "print('Shape of label tensor:', labels.shape)"
   ]
  },
  {
   "cell_type": "code",
   "execution_count": 22,
   "metadata": {},
   "outputs": [],
   "source": [
    "indices = np.arange(data.shape[0])\n",
    "np.random.shuffle(indices)\n",
    "data = data[indices]\n",
    "labels = labels[indices]"
   ]
  },
  {
   "cell_type": "code",
   "execution_count": 23,
   "metadata": {},
   "outputs": [],
   "source": [
    "# Split the data into training and validation sets\n",
    "X_train = data[500:]\n",
    "Y_train = labels[500:]\n",
    "\n",
    "X_val = data[:500]\n",
    "Y_val = labels[:500]"
   ]
  },
  {
   "cell_type": "markdown",
   "metadata": {},
   "source": [
    "#### Training the Model"
   ]
  },
  {
   "cell_type": "code",
   "execution_count": 24,
   "metadata": {},
   "outputs": [
    {
     "name": "stdout",
     "output_type": "stream",
     "text": [
      "Model: \"sequential_1\"\n",
      "_________________________________________________________________\n",
      "Layer (type)                 Output Shape              Param #   \n",
      "=================================================================\n",
      "embedding_1 (Embedding)      (None, 2234, 100)         1000000   \n",
      "_________________________________________________________________\n",
      "flatten_1 (Flatten)          (None, 223400)            0         \n",
      "_________________________________________________________________\n",
      "dense_1 (Dense)              (None, 32)                7148832   \n",
      "_________________________________________________________________\n",
      "dense_2 (Dense)              (None, 1)                 33        \n",
      "=================================================================\n",
      "Total params: 8,148,865\n",
      "Trainable params: 8,148,865\n",
      "Non-trainable params: 0\n",
      "_________________________________________________________________\n"
     ]
    }
   ],
   "source": [
    "embedding_dim = 100\n",
    "\n",
    "model = Sequential()\n",
    "model.add(Embedding(max_words, \n",
    "                    embedding_dim, \n",
    "                    input_length=max_len))\n",
    "model.add(Flatten())\n",
    "model.add(Dense(32, activation='relu'))\n",
    "model.add(Dense(1, activation='sigmoid'))\n",
    "model.summary()"
   ]
  },
  {
   "cell_type": "code",
   "execution_count": 25,
   "metadata": {},
   "outputs": [
    {
     "name": "stderr",
     "output_type": "stream",
     "text": [
      "C:\\Users\\bibek\\anaconda3\\envs\\dsc650\\lib\\site-packages\\tensorflow_core\\python\\framework\\indexed_slices.py:433: UserWarning: Converting sparse IndexedSlices to a dense Tensor of unknown shape. This may consume a large amount of memory.\n",
      "  \"Converting sparse IndexedSlices to a dense Tensor of unknown shape. \"\n"
     ]
    },
    {
     "name": "stdout",
     "output_type": "stream",
     "text": [
      "Train on 24500 samples, validate on 500 samples\n",
      "Epoch 1/10\n",
      "24500/24500 [==============================] - 51s 2ms/step - loss: 0.4495 - acc: 0.7946 - val_loss: 0.3443 - val_acc: 0.8600\n",
      "Epoch 2/10\n",
      "24500/24500 [==============================] - 53s 2ms/step - loss: 0.1559 - acc: 0.9409 - val_loss: 0.3847 - val_acc: 0.8720\n",
      "Epoch 3/10\n",
      "24500/24500 [==============================] - 55s 2ms/step - loss: 0.0419 - acc: 0.9859 - val_loss: 0.5166 - val_acc: 0.8620\n",
      "Epoch 4/10\n",
      "24500/24500 [==============================] - 54s 2ms/step - loss: 0.0125 - acc: 0.9959 - val_loss: 0.7283 - val_acc: 0.8760\n",
      "Epoch 5/10\n",
      "24500/24500 [==============================] - 52s 2ms/step - loss: 0.0169 - acc: 0.9962 - val_loss: 0.9751 - val_acc: 0.8400\n",
      "Epoch 6/10\n",
      "24500/24500 [==============================] - 52s 2ms/step - loss: 0.0090 - acc: 0.9985 - val_loss: 1.1550 - val_acc: 0.8600\n",
      "Epoch 7/10\n",
      "24500/24500 [==============================] - 52s 2ms/step - loss: 0.0104 - acc: 0.9980 - val_loss: 1.2676 - val_acc: 0.8500\n",
      "Epoch 8/10\n",
      "24500/24500 [==============================] - 52s 2ms/step - loss: 0.0036 - acc: 0.9991 - val_loss: 1.3762 - val_acc: 0.8600\n",
      "Epoch 9/10\n",
      "24500/24500 [==============================] - 52s 2ms/step - loss: 0.0114 - acc: 0.9986 - val_loss: 1.5495 - val_acc: 0.8500\n",
      "Epoch 10/10\n",
      "24500/24500 [==============================] - 52s 2ms/step - loss: 0.0016 - acc: 0.9996 - val_loss: 1.7535 - val_acc: 0.8280\n"
     ]
    }
   ],
   "source": [
    "model.compile(optimizer='rmsprop',\n",
    "              loss='binary_crossentropy',\n",
    "              metrics=['acc'])\n",
    "\n",
    "history = model.fit(X_train,Y_train,\n",
    "                    epochs=10,\n",
    "                    batch_size=32,\n",
    "                    validation_data=(X_val, Y_val))"
   ]
  },
  {
   "cell_type": "markdown",
   "metadata": {},
   "source": [
    "#### Evaluating the Model"
   ]
  },
  {
   "cell_type": "code",
   "execution_count": 26,
   "metadata": {},
   "outputs": [],
   "source": [
    "X_test = pad_sequences(sequences, maxlen=max_len)\n",
    "Y_test = np.asarray(labels)"
   ]
  },
  {
   "cell_type": "code",
   "execution_count": 27,
   "metadata": {},
   "outputs": [
    {
     "name": "stdout",
     "output_type": "stream",
     "text": [
      "25000/25000 [==============================] - 7s 279us/step\n"
     ]
    },
    {
     "data": {
      "text/plain": [
       "[13.71816395401001, 0.4968000054359436]"
      ]
     },
     "execution_count": 27,
     "metadata": {},
     "output_type": "execute_result"
    }
   ],
   "source": [
    "model.evaluate(X_test,Y_test)"
   ]
  },
  {
   "cell_type": "code",
   "execution_count": 28,
   "metadata": {},
   "outputs": [
    {
     "data": {
      "image/png": "[encoded data removed]",
      "text/plain": [
       "<Figure size 432x288 with 1 Axes>"
      ]
     },
     "metadata": {
      "needs_background": "light"
     },
     "output_type": "display_data"
    },
    {
     "data": {
      "image/png": "[encoded data removed]",
      "text/plain": [
       "<Figure size 432x288 with 1 Axes>"
      ]
     },
     "metadata": {
      "needs_background": "light"
     },
     "output_type": "display_data"
    }
   ],
   "source": [
    "history_dict = history.history\n",
    "\n",
    "acc = history_dict['acc']\n",
    "val_acc = history_dict['val_acc']\n",
    "loss_values = history_dict['loss']\n",
    "val_loss_values = history_dict['val_loss']\n",
    "epochs = range(1,len(acc) + 1)\n",
    "\n",
    "# Plotting metrics\n",
    "plt.plot(epochs, acc,  'bo', label = 'Training accuracy')\n",
    "plt.plot(epochs, val_acc, 'b', label = 'Validation accuracy')\n",
    "plt.title('Training and Validation Accuracy')\n",
    "plt.xlabel(\"Epochs\")\n",
    "plt.ylabel(\"Accuracy\")\n",
    "plt.legend()\n",
    "\n",
    "plt.figure()\n",
    "\n",
    "plt.plot(epochs, loss_values,  'bo', label = 'Training Loss')\n",
    "plt.plot(epochs, val_loss_values, 'b', label = 'Validation loss')\n",
    "plt.title('Training and Validation Loss')\n",
    "plt.xlabel(\"Epochs\")\n",
    "plt.ylabel(\"Loss\")\n",
    "plt.legend()\n",
    "\n",
    "plt.show()"
   ]
  },
  {
   "cell_type": "markdown",
   "metadata": {},
   "source": [
    "### Assignment 10.3"
   ]
  },
  {
   "cell_type": "code",
   "execution_count": 29,
   "metadata": {},
   "outputs": [],
   "source": [
    "from keras.layers import LSTM"
   ]
  },
  {
   "cell_type": "code",
   "execution_count": 30,
   "metadata": {},
   "outputs": [],
   "source": [
    "max_features = 10000\n",
    "model = Sequential()\n",
    "model.add(Embedding(max_words, \n",
    "                    embedding_dim, \n",
    "                    input_length=max_len))\n",
    "model.add(LSTM(32))\n",
    "model.add(Dense(1, activation='sigmoid'))\n"
   ]
  },
  {
   "cell_type": "code",
   "execution_count": 31,
   "metadata": {
    "scrolled": false
   },
   "outputs": [
    {
     "name": "stderr",
     "output_type": "stream",
     "text": [
      "C:\\Users\\bibek\\anaconda3\\envs\\dsc650\\lib\\site-packages\\tensorflow_core\\python\\framework\\indexed_slices.py:433: UserWarning: Converting sparse IndexedSlices to a dense Tensor of unknown shape. This may consume a large amount of memory.\n",
      "  \"Converting sparse IndexedSlices to a dense Tensor of unknown shape. \"\n"
     ]
    },
    {
     "name": "stdout",
     "output_type": "stream",
     "text": [
      "Train on 24500 samples, validate on 500 samples\n",
      "Epoch 1/10\n",
      "24500/24500 [==============================] - 495s 20ms/step - loss: 0.4544 - acc: 0.7927 - val_loss: 0.3596 - val_acc: 0.8620\n",
      "Epoch 2/10\n",
      "24500/24500 [==============================] - 466s 19ms/step - loss: 0.2797 - acc: 0.8907 - val_loss: 0.4469 - val_acc: 0.8580\n",
      "Epoch 3/10\n",
      "24500/24500 [==============================] - 470s 19ms/step - loss: 0.2318 - acc: 0.9129 - val_loss: 0.3020 - val_acc: 0.8900\n",
      "Epoch 4/10\n",
      "24500/24500 [==============================] - 449s 18ms/step - loss: 0.2031 - acc: 0.9251 - val_loss: 0.3877 - val_acc: 0.8680\n",
      "Epoch 5/10\n",
      "24500/24500 [==============================] - 474s 19ms/step - loss: 0.1830 - acc: 0.9338 - val_loss: 0.3534 - val_acc: 0.8840\n",
      "Epoch 6/10\n",
      "24500/24500 [==============================] - 474s 19ms/step - loss: 0.1638 - acc: 0.9401 - val_loss: 0.4127 - val_acc: 0.8740\n",
      "Epoch 7/10\n",
      "24500/24500 [==============================] - 505s 21ms/step - loss: 0.1491 - acc: 0.9473 - val_loss: 0.4494 - val_acc: 0.8680\n",
      "Epoch 8/10\n",
      "24500/24500 [==============================] - 506s 21ms/step - loss: 0.1447 - acc: 0.9498 - val_loss: 0.4349 - val_acc: 0.8740\n",
      "Epoch 9/10\n",
      "24500/24500 [==============================] - 467s 19ms/step - loss: 0.1198 - acc: 0.9573 - val_loss: 0.4533 - val_acc: 0.8640\n",
      "Epoch 10/10\n",
      "24500/24500 [==============================] - 514s 21ms/step - loss: 0.1140 - acc: 0.9622 - val_loss: 0.3792 - val_acc: 0.8820\n"
     ]
    }
   ],
   "source": [
    "model.compile(optimizer='rmsprop',\n",
    "              loss='binary_crossentropy',\n",
    "              metrics=['acc'])\n",
    "history = model.fit(X_train, Y_train,\n",
    "                    epochs=10,\n",
    "                    batch_size=128,\n",
    "                    validation_data=(X_val, Y_val))"
   ]
  },
  {
   "cell_type": "markdown",
   "metadata": {},
   "source": [
    "#### Model Evaluation"
   ]
  },
  {
   "cell_type": "code",
   "execution_count": 32,
   "metadata": {},
   "outputs": [
    {
     "name": "stdout",
     "output_type": "stream",
     "text": [
      "25000/25000 [==============================] - 139s 6ms/step\n"
     ]
    },
    {
     "data": {
      "text/plain": [
       "[2.317019919424057, 0.4965600073337555]"
      ]
     },
     "execution_count": 32,
     "metadata": {},
     "output_type": "execute_result"
    }
   ],
   "source": [
    "X_test = pad_sequences(sequences, maxlen=max_len)\n",
    "Y_test = np.asarray(labels)\n",
    "\n",
    "model.evaluate(X_test,Y_test)"
   ]
  },
  {
   "cell_type": "code",
   "execution_count": 33,
   "metadata": {},
   "outputs": [
    {
     "data": {
      "image/png": "[encoded data removed]",
      "text/plain": [
       "<Figure size 432x288 with 1 Axes>"
      ]
     },
     "metadata": {
      "needs_background": "light"
     },
     "output_type": "display_data"
    },
    {
     "data": {
      "image/png": "[encoded data removed]",
      "text/plain": [
       "<Figure size 432x288 with 1 Axes>"
      ]
     },
     "metadata": {
      "needs_background": "light"
     },
     "output_type": "display_data"
    }
   ],
   "source": [
    "history_dict = history.history\n",
    "\n",
    "acc = history_dict['acc']\n",
    "val_acc = history_dict['val_acc']\n",
    "loss_values = history_dict['loss']\n",
    "val_loss_values = history_dict['val_loss']\n",
    "epochs = range(1,len(acc) + 1)\n",
    "\n",
    "# Plotting metrics\n",
    "plt.plot(epochs, acc,  'bo', label = 'Training accuracy')\n",
    "plt.plot(epochs, val_acc, 'b', label = 'Validation accuracy')\n",
    "plt.title('Training and Validation Accuracy')\n",
    "plt.xlabel(\"Epochs\")\n",
    "plt.ylabel(\"Accuracy\")\n",
    "plt.legend()\n",
    "\n",
    "plt.figure()\n",
    "\n",
    "plt.plot(epochs, loss_values,  'bo', label = 'Training Loss')\n",
    "plt.plot(epochs, val_loss_values, 'b', label = 'Validation loss')\n",
    "plt.title('Training and Validation Loss')\n",
    "plt.xlabel(\"Epochs\")\n",
    "plt.ylabel(\"Loss\")\n",
    "plt.legend()\n",
    "\n",
    "plt.show()"
   ]
  },
  {
   "cell_type": "markdown",
   "metadata": {},
   "source": [
    "### Assignment 10.4"
   ]
  },
  {
   "cell_type": "code",
   "execution_count": 34,
   "metadata": {},
   "outputs": [],
   "source": [
    "from keras.models import Sequential\n",
    "from keras import layers\n",
    "from keras.optimizers import RMSprop"
   ]
  },
  {
   "cell_type": "code",
   "execution_count": 35,
   "metadata": {},
   "outputs": [
    {
     "name": "stdout",
     "output_type": "stream",
     "text": [
      "Model: \"sequential_3\"\n",
      "_________________________________________________________________\n",
      "Layer (type)                 Output Shape              Param #   \n",
      "=================================================================\n",
      "embedding_3 (Embedding)      (None, 2234, 100)         1000000   \n",
      "_________________________________________________________________\n",
      "conv1d_1 (Conv1D)            (None, 2228, 32)          22432     \n",
      "_________________________________________________________________\n",
      "max_pooling1d_1 (MaxPooling1 (None, 445, 32)           0         \n",
      "_________________________________________________________________\n",
      "conv1d_2 (Conv1D)            (None, 439, 32)           7200      \n",
      "_________________________________________________________________\n",
      "global_max_pooling1d_1 (Glob (None, 32)                0         \n",
      "_________________________________________________________________\n",
      "dense_4 (Dense)              (None, 1)                 33        \n",
      "=================================================================\n",
      "Total params: 1,029,665\n",
      "Trainable params: 1,029,665\n",
      "Non-trainable params: 0\n",
      "_________________________________________________________________\n"
     ]
    }
   ],
   "source": [
    "model = Sequential()\n",
    "model.add(Embedding(max_words, \n",
    "                    embedding_dim, \n",
    "                    input_length=max_len))\n",
    "model.add(layers.Conv1D(32, 7, activation='relu'))\n",
    "model.add(layers.MaxPooling1D(5))\n",
    "model.add(layers.Conv1D(32, 7, activation='relu'))\n",
    "model.add(layers.GlobalMaxPooling1D())\n",
    "model.add(layers.Dense(1, activation='sigmoid'))\n",
    "model.summary()"
   ]
  },
  {
   "cell_type": "code",
   "execution_count": 36,
   "metadata": {},
   "outputs": [
    {
     "name": "stderr",
     "output_type": "stream",
     "text": [
      "C:\\Users\\bibek\\anaconda3\\envs\\dsc650\\lib\\site-packages\\tensorflow_core\\python\\framework\\indexed_slices.py:433: UserWarning: Converting sparse IndexedSlices to a dense Tensor of unknown shape. This may consume a large amount of memory.\n",
      "  \"Converting sparse IndexedSlices to a dense Tensor of unknown shape. \"\n"
     ]
    },
    {
     "name": "stdout",
     "output_type": "stream",
     "text": [
      "Train on 24500 samples, validate on 500 samples\n",
      "Epoch 1/10\n",
      "24500/24500 [==============================] - 92s 4ms/step - loss: 0.6922 - acc: 0.5345 - val_loss: 0.6905 - val_acc: 0.5860\n",
      "Epoch 2/10\n",
      "24500/24500 [==============================] - 92s 4ms/step - loss: 0.6838 - acc: 0.6572 - val_loss: 0.6776 - val_acc: 0.7220\n",
      "Epoch 3/10\n",
      "24500/24500 [==============================] - 96s 4ms/step - loss: 0.6540 - acc: 0.7644 - val_loss: 0.6225 - val_acc: 0.7580\n",
      "Epoch 4/10\n",
      "24500/24500 [==============================] - 91s 4ms/step - loss: 0.5540 - acc: 0.8018 - val_loss: 0.5019 - val_acc: 0.7980\n",
      "Epoch 5/10\n",
      "24500/24500 [==============================] - 95s 4ms/step - loss: 0.4177 - acc: 0.8419 - val_loss: 0.4100 - val_acc: 0.8180\n",
      "Epoch 6/10\n",
      "24500/24500 [==============================] - 92s 4ms/step - loss: 0.3329 - acc: 0.8698 - val_loss: 0.3870 - val_acc: 0.8320\n",
      "Epoch 7/10\n",
      "24500/24500 [==============================] - 95s 4ms/step - loss: 0.2885 - acc: 0.8853 - val_loss: 0.3501 - val_acc: 0.8620\n",
      "Epoch 8/10\n",
      "24500/24500 [==============================] - 94s 4ms/step - loss: 0.2599 - acc: 0.8979 - val_loss: 0.3345 - val_acc: 0.8600\n",
      "Epoch 9/10\n",
      "24500/24500 [==============================] - 96s 4ms/step - loss: 0.2382 - acc: 0.9073 - val_loss: 0.3457 - val_acc: 0.8620\n",
      "Epoch 10/10\n",
      "24500/24500 [==============================] - 100s 4ms/step - loss: 0.2208 - acc: 0.9152 - val_loss: 0.3218 - val_acc: 0.8700\n"
     ]
    }
   ],
   "source": [
    "model.compile(optimizer=RMSprop(learning_rate=1e-4),\n",
    "              loss='binary_crossentropy',\n",
    "              metrics=['acc'])\n",
    "history = model.fit(X_train, Y_train,\n",
    "                    epochs=10,\n",
    "                    batch_size=128,\n",
    "                    validation_data=(X_val, Y_val))"
   ]
  },
  {
   "cell_type": "markdown",
   "metadata": {},
   "source": [
    "#### Model Evaluation"
   ]
  },
  {
   "cell_type": "code",
   "execution_count": 37,
   "metadata": {},
   "outputs": [
    {
     "name": "stdout",
     "output_type": "stream",
     "text": [
      "25000/25000 [==============================] - 19s 746us/step\n"
     ]
    },
    {
     "data": {
      "text/plain": [
       "[1.7728079881000518, 0.4962399899959564]"
      ]
     },
     "execution_count": 37,
     "metadata": {},
     "output_type": "execute_result"
    }
   ],
   "source": [
    "X_test = pad_sequences(sequences, maxlen=max_len)\n",
    "Y_test = np.asarray(labels)\n",
    "\n",
    "model.evaluate(X_test,Y_test)"
   ]
  },
  {
   "cell_type": "code",
   "execution_count": 38,
   "metadata": {},
   "outputs": [
    {
     "data": {
      "image/png": "[encoded data removed]",
      "text/plain": [
       "<Figure size 432x288 with 1 Axes>"
      ]
     },
     "metadata": {
      "needs_background": "light"
     },
     "output_type": "display_data"
    },
    {
     "data": {
      "image/png": "[encoded data removed]",
      "text/plain": [
       "<Figure size 432x288 with 1 Axes>"
      ]
     },
     "metadata": {
      "needs_background": "light"
     },
     "output_type": "display_data"
    }
   ],
   "source": [
    "history_dict = history.history\n",
    "\n",
    "acc = history_dict['acc']\n",
    "val_acc = history_dict['val_acc']\n",
    "loss_values = history_dict['loss']\n",
    "val_loss_values = history_dict['val_loss']\n",
    "epochs = range(1,len(acc) + 1)\n",
    "\n",
    "# Plotting metrics\n",
    "plt.plot(epochs, acc,  'bo', label = 'Training accuracy')\n",
    "plt.plot(epochs, val_acc, 'b', label = 'Validation accuracy')\n",
    "plt.title('Training and Validation Accuracy')\n",
    "plt.xlabel(\"Epochs\")\n",
    "plt.ylabel(\"Accuracy\")\n",
    "plt.legend()\n",
    "\n",
    "plt.figure()\n",
    "\n",
    "plt.plot(epochs, loss_values,  'bo', label = 'Training Loss')\n",
    "plt.plot(epochs, val_loss_values, 'b', label = 'Validation loss')\n",
    "plt.title('Training and Validation Loss')\n",
    "plt.xlabel(\"Epochs\")\n",
    "plt.ylabel(\"Loss\")\n",
    "plt.legend()\n",
    "\n",
    "plt.show()"
   ]
  },
  {
   "cell_type": "code",
   "execution_count": null,
   "metadata": {},
   "outputs": [],
   "source": []
  }
 ],
 "metadata": {
  "kernelspec": {
   "display_name": "Python 3",
   "language": "python",
   "name": "python3"
  },
  "language_info": {
   "codemirror_mode": {
    "name": "ipython",
    "version": 3
   },
   "file_extension": ".py",
   "mimetype": "text/x-python",
   "name": "python",
   "nbconvert_exporter": "python",
   "pygments_lexer": "ipython3",
   "version": "3.6.13"
  }
 },
 "nbformat": 4,
 "nbformat_minor": 4
}
