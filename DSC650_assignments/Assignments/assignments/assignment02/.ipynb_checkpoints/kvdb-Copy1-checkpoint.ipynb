{
 "cells": [
  {
   "cell_type": "markdown",
   "metadata": {},
   "source": [
    "## Assignment 2.1\n",
    "\n",
    "### DSC 650\n",
    "\n",
    "#### Taniya Adhikari 09/12/2021"
   ]
  },
  {
   "cell_type": "code",
   "execution_count": 1,
   "metadata": {},
   "outputs": [],
   "source": [
    "import json\n",
    "from pathlib import Path\n",
    "import os\n",
    "\n",
    "import pandas as pd\n",
    "import s3fs\n",
    "\n",
    "current_dir = Path(os.getcwd()).absolute()\n",
    "results_dir = current_dir.joinpath('results')\n",
    "kv_data_dir = results_dir.joinpath('kvdb')\n",
    "kv_data_dir.mkdir(parents=True, exist_ok=True)\n",
    "\n",
    "people_json = kv_data_dir.joinpath('people.json')\n",
    "visited_json = kv_data_dir.joinpath('visited.json')\n",
    "sites_json = kv_data_dir.joinpath('sites.json')\n",
    "measurements_json = kv_data_dir.joinpath('measurements.json')"
   ]
  },
  {
   "cell_type": "code",
   "execution_count": 265,
   "metadata": {},
   "outputs": [],
   "source": [
    "class KVDB(object):\n",
    "    def __init__(self, db_path):\n",
    "        self._db_path = Path(db_path)\n",
    "        self._db = {}\n",
    "        self._load_db()\n",
    "\n",
    "    def _load_db(self):\n",
    "        if self._db_path.exists():\n",
    "            with open(self._db_path) as f:\n",
    "                self._db = json.load(f)\n",
    "\n",
    "    def save(self):\n",
    "        with open(self._db_path, 'w') as f:\n",
    "            json.dump(self._db, f, indent=2)"
   ]
  },
  {
   "cell_type": "code",
   "execution_count": 384,
   "metadata": {},
   "outputs": [],
   "source": [
    "people_json = kv_data_dir.joinpath('people.json')\n",
    "visited_json = kv_data_dir.joinpath('visited.json')\n",
    "sites_json = kv_data_dir.joinpath('sites.json')\n",
    "measurements_json = kv_data_dir.joinpath('measurements.json')"
   ]
  },
  {
   "cell_type": "code",
   "execution_count": 385,
   "metadata": {},
   "outputs": [],
   "source": [
    "# Opening JSON file\n",
    "f2 = open(visited_json,)\n",
    "\n",
    "# returns JSON object as\n",
    "# a dictionary\n",
    "\n",
    "visits = json.load(f2)\n",
    "\n",
    "# Closing file\n",
    "f2.close()"
   ]
  },
  {
   "cell_type": "code",
   "execution_count": 386,
   "metadata": {},
   "outputs": [],
   "source": [
    "# Opening JSON file\n",
    "f3 = open(sites_json,)\n",
    "\n",
    "# returns JSON object as\n",
    "# a dictionary\n",
    "sites = json.load(f3)\n",
    " \n",
    "# Closing file\n",
    "f3.close()"
   ]
  },
  {
   "cell_type": "code",
   "execution_count": 2,
   "metadata": {},
   "outputs": [],
   "source": [
    "import json\n",
    " \n",
    "# Opening JSON file\n",
    "f1 = open(people_json,)\n",
    "\n",
    "# returns JSON object as\n",
    "# a dictionary\n",
    "persons = json.load(f1)\n",
    " \n",
    "# Closing file\n",
    "f1.close()"
   ]
  },
  {
   "cell_type": "code",
   "execution_count": 388,
   "metadata": {},
   "outputs": [],
   "source": [
    "# Opening JSON file\n",
    "f4 = open(measurements_json,)\n",
    "# returns JSON object as\n",
    "# a dictionary\n",
    "measurements = json.load(f4)\n",
    " \n",
    "# Closing file\n",
    "f4.close()"
   ]
  },
  {
   "cell_type": "code",
   "execution_count": 389,
   "metadata": {},
   "outputs": [],
   "source": [
    "for x in sites:\n",
    "    for y in visits:\n",
    "        if x == visits[y]['site_id']:\n",
    "            visits[y]['site']=sites[x]"
   ]
  },
  {
   "cell_type": "code",
   "execution_count": 390,
   "metadata": {},
   "outputs": [],
   "source": [
    "for (k2, v2) in visits.items():\n",
    "    newDict = dict()\n",
    "    list1 = []\n",
    "    for (k3, v3) in measurements.items():\n",
    "        if measurements[k3]['visit_id'] == visits[k2]['visit_id']:\n",
    "            newDict[k3] = v3\n",
    "            list1.append(newDict[k3])\n",
    "            visits[k2]['measurement']= list1"
   ]
  },
  {
   "cell_type": "code",
   "execution_count": 391,
   "metadata": {},
   "outputs": [
    {
     "name": "stdout",
     "output_type": "stream",
     "text": [
      "danforth {'person_id': 'danforth', 'personal_name': 'Frank', 'family_name': 'Danforth'}\n",
      "dyer {'person_id': 'dyer', 'personal_name': 'William', 'family_name': 'Dyer'}\n",
      "lake {'person_id': 'lake', 'personal_name': 'Anderson', 'family_name': 'Lake'}\n",
      "pb {'person_id': 'pb', 'personal_name': 'Frank', 'family_name': 'Pabodie'}\n",
      "roe {'person_id': 'roe', 'personal_name': 'Valentina', 'family_name': 'Roerich'}\n"
     ]
    }
   ],
   "source": [
    "for person in persons:\n",
    "    print(person, persons[person])"
   ]
  },
  {
   "cell_type": "code",
   "execution_count": 412,
   "metadata": {},
   "outputs": [],
   "source": [
    "l = []\n",
    "for person in persons:\n",
    "    for u in visits:\n",
    "        if person in visits[u]['measurement'][0]['person_id']:\n",
    "            d = persons[person]\n",
    "            try:\n",
    "                if visits[u] not in d['visits']:\n",
    "                    d['visits'].append(visits[u])\n",
    "            except:\n",
    "                d['visits'] = [visits[u]]\n",
    "    l.append(d)"
   ]
  },
  {
   "cell_type": "code",
   "execution_count": 414,
   "metadata": {},
   "outputs": [],
   "source": [
    "people = {}\n",
    "for u in l:\n",
    "    if u['person_id'] not in people:\n",
    "        people[u['person_id']] = u"
   ]
  },
  {
   "cell_type": "code",
   "execution_count": 416,
   "metadata": {},
   "outputs": [
    {
     "name": "stdout",
     "output_type": "stream",
     "text": [
      "roe {'person_id': 'roe', 'personal_name': 'Valentina', 'family_name': 'Roerich', 'visits': [{'visit_id': 844, 'site_id': 'DR-1', 'visit_date': '1932-03-22', 'site': {'site_id': 'DR-1', 'latitude': -49.85, 'longitude': -128.57}, 'measurement': [{'visit_id': 844, 'person_id': 'roe', 'quantity': 'rad', 'reading': 11.25}]}]} \n",
      "\n",
      "dyer {'person_id': 'dyer', 'personal_name': 'William', 'family_name': 'Dyer', 'visits': [{'visit_id': 622, 'site_id': 'DR-1', 'visit_date': '1927-02-10', 'site': {'site_id': 'DR-1', 'latitude': -49.85, 'longitude': -128.57}, 'measurement': [{'visit_id': 622, 'person_id': 'dyer', 'quantity': 'rad', 'reading': 7.8}, {'visit_id': 622, 'person_id': 'dyer', 'quantity': 'sal', 'reading': 0.09}]}, {'visit_id': 619, 'site_id': 'DR-1', 'visit_date': '1927-02-08', 'site': {'site_id': 'DR-1', 'latitude': -49.85, 'longitude': -128.57}, 'measurement': [{'visit_id': 619, 'person_id': 'dyer', 'quantity': 'rad', 'reading': 9.82}, {'visit_id': 619, 'person_id': 'dyer', 'quantity': 'sal', 'reading': 0.13}]}]} \n",
      "\n",
      "lake {'person_id': 'lake', 'personal_name': 'Anderson', 'family_name': 'Lake', 'visits': [{'visit_id': 837, 'site_id': 'MSK-4', 'visit_date': '1932-01-14', 'site': {'site_id': 'MSK-4', 'latitude': -48.87, 'longitude': -123.4}, 'measurement': [{'visit_id': 837, 'person_id': 'lake', 'quantity': 'rad', 'reading': 1.46}, {'visit_id': 837, 'person_id': 'lake', 'quantity': 'sal', 'reading': 0.21}, {'visit_id': 837, 'person_id': 'roe', 'quantity': 'sal', 'reading': 22.5}]}, {'visit_id': 734, 'site_id': 'DR-3', 'visit_date': '1930-01-07', 'site': {'site_id': 'DR-3', 'latitude': -47.15, 'longitude': -126.72}, 'measurement': [{'visit_id': 734, 'person_id': 'lake', 'quantity': 'sal', 'reading': 0.05}, {'visit_id': 734, 'person_id': 'pb', 'quantity': 'rad', 'reading': 8.41}, {'visit_id': 734, 'person_id': 'pb', 'quantity': 'temp', 'reading': -21.5}]}, {'visit_id': 752, 'site_id': 'DR-3', 'visit_date': nan, 'site': {'site_id': 'DR-3', 'latitude': -47.15, 'longitude': -126.72}, 'measurement': [{'visit_id': 752, 'person_id': 'lake', 'quantity': 'rad', 'reading': 2.19}, {'visit_id': 752, 'person_id': 'lake', 'quantity': 'sal', 'reading': 0.09}, {'visit_id': 752, 'person_id': 'lake', 'quantity': 'temp', 'reading': -16.0}, {'visit_id': 752, 'person_id': 'roe', 'quantity': 'sal', 'reading': 41.6}]}]} \n",
      "\n",
      "pb {'person_id': 'pb', 'personal_name': 'Frank', 'family_name': 'Pabodie', 'visits': [{'visit_id': 751, 'site_id': 'DR-3', 'visit_date': '1930-02-26', 'site': {'site_id': 'DR-3', 'latitude': -47.15, 'longitude': -126.72}, 'measurement': [{'visit_id': 751, 'person_id': 'pb', 'quantity': 'rad', 'reading': 4.35}, {'visit_id': 751, 'person_id': 'pb', 'quantity': 'temp', 'reading': -18.5}]}, {'visit_id': 735, 'site_id': 'DR-3', 'visit_date': '1930-01-12', 'site': {'site_id': 'DR-3', 'latitude': -47.15, 'longitude': -126.72}, 'measurement': [{'visit_id': 735, 'person_id': 'pb', 'quantity': 'rad', 'reading': 7.22}, {'visit_id': 735, 'person_id': 'pb', 'quantity': 'sal', 'reading': 0.06}, {'visit_id': 735, 'person_id': 'pb', 'quantity': 'temp', 'reading': -26.0}]}]} \n",
      "\n"
     ]
    }
   ],
   "source": [
    "for u in people:\n",
    "    print(u, people[u],'\\n')"
   ]
  }
 ],
 "metadata": {
  "kernelspec": {
   "display_name": "Python 3",
   "language": "python",
   "name": "python3"
  },
  "language_info": {
   "codemirror_mode": {
    "name": "ipython",
    "version": 3
   },
   "file_extension": ".py",
   "mimetype": "text/x-python",
   "name": "python",
   "nbconvert_exporter": "python",
   "pygments_lexer": "ipython3",
   "version": "3.6.10"
  }
 },
 "nbformat": 4,
 "nbformat_minor": 4
}
