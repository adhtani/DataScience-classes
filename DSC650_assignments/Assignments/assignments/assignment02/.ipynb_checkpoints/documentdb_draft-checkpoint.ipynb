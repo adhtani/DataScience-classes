{
 "cells": [
  {
   "cell_type": "code",
   "execution_count": 1,
   "metadata": {},
   "outputs": [],
   "source": [
    "import json\n",
    "from pathlib import Path\n",
    "from py_linq import Enumerable\n",
    "import os\n",
    "\n",
    "import pandas as pd\n",
    "import s3fs\n",
    "\n",
    "current_dir = Path(os.getcwd()).absolute()\n",
    "results_dir = current_dir.joinpath('results')\n",
    "kv_data_dir = results_dir.joinpath('kvdb')\n",
    "kv_data_dir.mkdir(parents=True, exist_ok=True)\n",
    "\n",
    "people_json = kv_data_dir.joinpath('people.json')\n",
    "visited_json = kv_data_dir.joinpath('visited.json')\n",
    "sites_json = kv_data_dir.joinpath('sites.json')\n",
    "measurements_json = kv_data_dir.joinpath('measurements.json')"
   ]
  },
  {
   "cell_type": "code",
   "execution_count": 2,
   "metadata": {},
   "outputs": [],
   "source": [
    "# Opening JSON file\n",
    "f2 = open(visited_json,)\n",
    "\n",
    "# returns JSON object as\n",
    "# a dictionary\n",
    "\n",
    "visits = json.load(f2)\n",
    "\n",
    "# Closing file\n",
    "f2.close()"
   ]
  },
  {
   "cell_type": "code",
   "execution_count": 3,
   "metadata": {},
   "outputs": [],
   "source": [
    "# Opening JSON file\n",
    "f3 = open(sites_json,)\n",
    "\n",
    "# returns JSON object as\n",
    "# a dictionary\n",
    "sites = json.load(f3)\n",
    " \n",
    "# Closing file\n",
    "f3.close()"
   ]
  },
  {
   "cell_type": "code",
   "execution_count": 4,
   "metadata": {},
   "outputs": [],
   "source": [
    "import json\n",
    " \n",
    "# Opening JSON file\n",
    "f1 = open(people_json,)\n",
    "\n",
    "# returns JSON object as\n",
    "# a dictionary\n",
    "persons = json.load(f1)\n",
    " \n",
    "# Closing file\n",
    "f1.close()"
   ]
  },
  {
   "cell_type": "code",
   "execution_count": 5,
   "metadata": {},
   "outputs": [],
   "source": [
    "# Opening JSON file\n",
    "f4 = open(measurements_json,)\n",
    "# returns JSON object as\n",
    "# a dictionary\n",
    "measurements = json.load(f4)\n",
    " \n",
    "# Closing file\n",
    "f4.close()"
   ]
  },
  {
   "cell_type": "code",
   "execution_count": 6,
   "metadata": {},
   "outputs": [],
   "source": [
    "def get_measurements(x, measurements):\n",
    "    x_measurement = []\n",
    "    for i in measurements:\n",
    "        if x in measurements[i]['person_id']:\n",
    "            x_measurement.append(measurements[i])\n",
    "    \n",
    "    return x_measurement"
   ]
  },
  {
   "cell_type": "code",
   "execution_count": 7,
   "metadata": {},
   "outputs": [],
   "source": [
    "def get_visitsLambda(x_measurement, visits, sites):\n",
    "    uniqueVisitIds = Enumerable(x_measurement).select(lambda m: m['visit_id']).distinct().to_list()\n",
    "    #print(uniqueVisitIds)\n",
    "    allFoundVisits = []\n",
    "    for vid in uniqueVisitIds:\n",
    "        foundVisit = []\n",
    "        for visit in visits:\n",
    "            visit_id = visits[visit]['visit_id']\n",
    "            if(visit_id == vid):\n",
    "                foundVisit.append(visits[visit])\n",
    "                break   \n",
    "        if len(foundVisit):\n",
    "            site_id = foundVisit[0]['site_id']\n",
    "            foundVisit[0]['site'] = get_sites(site_id, sites)         \n",
    "            measurementList = Enumerable(x_measurement).where(lambda m: m['visit_id'] == foundVisit[0]['visit_id']).to_list()\n",
    "            foundVisit[0]['measurement'] = measurementList\n",
    "            allFoundVisits.append(foundVisit[0])\n",
    "    return allFoundVisits"
   ]
  },
  {
   "cell_type": "code",
   "execution_count": 8,
   "metadata": {},
   "outputs": [],
   "source": [
    "def get_visits(x_measurement, visits, sites):\n",
    "    uniqueVisitIds = []\n",
    "    for m in x_measurement:\n",
    "        visit_id = m['visit_id']\n",
    "        if(visit_id not in uniqueVisitIds):\n",
    "            uniqueVisitIds.append(visit_id)\n",
    "            \n",
    "    allFoundVisits = []\n",
    "    for vid in uniqueVisitIds:\n",
    "        foundVisit = []\n",
    "        for visit in visits:\n",
    "            visit_id = visits[visit]['visit_id']\n",
    "            if(visit_id == vid):\n",
    "                foundVisit.append(visits[visit])\n",
    "                #print(visits[visit])\n",
    "                break\n",
    "        if len(foundVisit):\n",
    "            #print(foundVisit[0]['site_id'])\n",
    "            site_id = foundVisit[0]['site_id']\n",
    "            foundVisit[0]['site'] = get_sites(site_id, sites)\n",
    "            measurementList = []\n",
    "            for m in x_measurement:\n",
    "                visit_id = m['visit_id']\n",
    "                if(foundVisit[0]['visit_id'] == visit_id):\n",
    "                    measurementList.append(m)\n",
    "            foundVisit[0]['measurement'] = measurementList\n",
    "            allFoundVisits.append(foundVisit[0])\n",
    "    return allFoundVisits"
   ]
  },
  {
   "cell_type": "code",
   "execution_count": 9,
   "metadata": {},
   "outputs": [],
   "source": [
    "def get_sites(x, sites):\n",
    "    if x in sites.keys():\n",
    "        return sites[x]"
   ]
  },
  {
   "cell_type": "code",
   "execution_count": 10,
   "metadata": {
    "scrolled": true
   },
   "outputs": [
    {
     "name": "stdout",
     "output_type": "stream",
     "text": [
      "{'person_id': 'danforth', 'personal_name': 'Frank', 'family_name': 'Danforth', 'visits': []}\n",
      "{'person_id': 'dyer', 'personal_name': 'William', 'family_name': 'Dyer', 'visits': [{'visit_id': 619, 'site_id': 'DR-1', 'visit_date': '1927-02-08', 'site': {'site_id': 'DR-1', 'latitude': -49.85, 'longitude': -128.57}, 'measurement': [{'visit_id': 619, 'person_id': 'dyer', 'quantity': 'rad', 'reading': 9.82}, {'visit_id': 619, 'person_id': 'dyer', 'quantity': 'sal', 'reading': 0.13}]}, {'visit_id': 622, 'site_id': 'DR-1', 'visit_date': '1927-02-10', 'site': {'site_id': 'DR-1', 'latitude': -49.85, 'longitude': -128.57}, 'measurement': [{'visit_id': 622, 'person_id': 'dyer', 'quantity': 'rad', 'reading': 7.8}, {'visit_id': 622, 'person_id': 'dyer', 'quantity': 'sal', 'reading': 0.09}]}]}\n",
      "{'person_id': 'lake', 'personal_name': 'Anderson', 'family_name': 'Lake', 'visits': [{'visit_id': 734, 'site_id': 'DR-3', 'visit_date': '1930-01-07', 'site': {'site_id': 'DR-3', 'latitude': -47.15, 'longitude': -126.72}, 'measurement': [{'visit_id': 734, 'person_id': 'lake', 'quantity': 'sal', 'reading': 0.05}]}, {'visit_id': 752, 'site_id': 'DR-3', 'visit_date': '', 'site': {'site_id': 'DR-3', 'latitude': -47.15, 'longitude': -126.72}, 'measurement': [{'visit_id': 752, 'person_id': 'lake', 'quantity': 'rad', 'reading': 2.19}, {'visit_id': 752, 'person_id': 'lake', 'quantity': 'sal', 'reading': 0.09}, {'visit_id': 752, 'person_id': 'lake', 'quantity': 'temp', 'reading': -16.0}]}, {'visit_id': 837, 'site_id': 'MSK-4', 'visit_date': '1932-01-14', 'site': {'site_id': 'MSK-4', 'latitude': -48.87, 'longitude': -123.4}, 'measurement': [{'visit_id': 837, 'person_id': 'lake', 'quantity': 'rad', 'reading': 1.46}, {'visit_id': 837, 'person_id': 'lake', 'quantity': 'sal', 'reading': 0.21}]}]}\n",
      "{'person_id': 'pb', 'personal_name': 'Frank', 'family_name': 'Pabodie', 'visits': [{'visit_id': 734, 'site_id': 'DR-3', 'visit_date': '1930-01-07', 'site': {'site_id': 'DR-3', 'latitude': -47.15, 'longitude': -126.72}, 'measurement': [{'visit_id': 734, 'person_id': 'pb', 'quantity': 'rad', 'reading': 8.41}, {'visit_id': 734, 'person_id': 'pb', 'quantity': 'temp', 'reading': -21.5}]}, {'visit_id': 735, 'site_id': 'DR-3', 'visit_date': '1930-01-12', 'site': {'site_id': 'DR-3', 'latitude': -47.15, 'longitude': -126.72}, 'measurement': [{'visit_id': 735, 'person_id': 'pb', 'quantity': 'rad', 'reading': 7.22}, {'visit_id': 735, 'person_id': 'pb', 'quantity': 'sal', 'reading': 0.06}, {'visit_id': 735, 'person_id': 'pb', 'quantity': 'temp', 'reading': -26.0}]}, {'visit_id': 751, 'site_id': 'DR-3', 'visit_date': '1930-02-26', 'site': {'site_id': 'DR-3', 'latitude': -47.15, 'longitude': -126.72}, 'measurement': [{'visit_id': 751, 'person_id': 'pb', 'quantity': 'rad', 'reading': 4.35}, {'visit_id': 751, 'person_id': 'pb', 'quantity': 'temp', 'reading': -18.5}]}]}\n",
      "{'person_id': 'roe', 'personal_name': 'Valentina', 'family_name': 'Roerich', 'visits': [{'visit_id': 752, 'site_id': 'DR-3', 'visit_date': '', 'site': {'site_id': 'DR-3', 'latitude': -47.15, 'longitude': -126.72}, 'measurement': [{'visit_id': 752, 'person_id': 'roe', 'quantity': 'sal', 'reading': 41.6}]}, {'visit_id': 837, 'site_id': 'MSK-4', 'visit_date': '1932-01-14', 'site': {'site_id': 'MSK-4', 'latitude': -48.87, 'longitude': -123.4}, 'measurement': [{'visit_id': 837, 'person_id': 'roe', 'quantity': 'sal', 'reading': 22.5}]}, {'visit_id': 844, 'site_id': 'DR-1', 'visit_date': '1932-03-22', 'site': {'site_id': 'DR-1', 'latitude': -49.85, 'longitude': -128.57}, 'measurement': [{'visit_id': 844, 'person_id': 'roe', 'quantity': 'rad', 'reading': 11.25}]}]}\n"
     ]
    }
   ],
   "source": [
    "list1 = []\n",
    "for person in persons:\n",
    "    x = str(persons[person]['person_id'])\n",
    "    x_measurement = get_measurements(x, measurements)\n",
    "    y = get_visits(x_measurement, visits, sites)\n",
    "    #print(y)\n",
    "    persons[person]['visits'] = y\n",
    "    z = persons[person]\n",
    "    print(persons[person])"
   ]
  },
  {
   "cell_type": "code",
   "execution_count": null,
   "metadata": {},
   "outputs": [],
   "source": []
  },
  {
   "cell_type": "code",
   "execution_count": null,
   "metadata": {},
   "outputs": [],
   "source": []
  }
 ],
 "metadata": {
  "kernelspec": {
   "display_name": "Python 3",
   "language": "python",
   "name": "python3"
  },
  "language_info": {
   "codemirror_mode": {
    "name": "ipython",
    "version": 3
   },
   "file_extension": ".py",
   "mimetype": "text/x-python",
   "name": "python",
   "nbconvert_exporter": "python",
   "pygments_lexer": "ipython3",
   "version": "3.8.5"
  }
 },
 "nbformat": 4,
 "nbformat_minor": 4
}
