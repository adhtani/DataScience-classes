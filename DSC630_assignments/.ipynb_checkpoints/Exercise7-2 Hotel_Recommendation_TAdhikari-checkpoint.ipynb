{
 "cells": [
  {
   "cell_type": "markdown",
   "metadata": {},
   "source": [
    "# Exercise 7.2: Optimal Hotel Recommendation\n",
    "\n",
    "## DSC 630\n",
    "\n",
    "### Taniya Adhikari 05/01/2021"
   ]
  },
  {
   "cell_type": "code",
   "execution_count": 1,
   "metadata": {},
   "outputs": [],
   "source": [
    "from bs4 import BeautifulSoup as BS\n",
    "import numpy as np\n",
    "import pandas as pd\n",
    "\n",
    "import matplotlib.pyplot as plt; plt.rcdefaults()\n",
    "import matplotlib.pyplot as plt\n",
    "import seaborn as sns\n",
    "import requests\n",
    "\n",
    "import warnings; warnings.simplefilter('ignore')\n",
    "\n",
    "from sklearn.model_selection import cross_val_score\n",
    "from sklearn.ensemble import RandomForestClassifier\n",
    "from sklearn.pipeline import make_pipeline\n",
    "from sklearn import preprocessing\n",
    "from sklearn.preprocessing import StandardScaler\n",
    "from sklearn import svm"
   ]
  },
  {
   "cell_type": "markdown",
   "metadata": {},
   "source": [
    "#### 1. Loading the data set"
   ]
  },
  {
   "cell_type": "code",
   "execution_count": 2,
   "metadata": {},
   "outputs": [],
   "source": [
    "df = pd.read_csv(\"train.csv\", sep=',').dropna()"
   ]
  },
  {
   "cell_type": "code",
   "execution_count": 3,
   "metadata": {},
   "outputs": [
    {
     "data": {
      "text/plain": [
       "(24117894, 24)"
      ]
     },
     "execution_count": 3,
     "metadata": {},
     "output_type": "execute_result"
    }
   ],
   "source": [
    "df.shape"
   ]
  },
  {
   "cell_type": "code",
   "execution_count": 4,
   "metadata": {},
   "outputs": [
    {
     "data": {
      "text/html": [
       "<div>\n",
       "<style scoped>\n",
       "    .dataframe tbody tr th:only-of-type {\n",
       "        vertical-align: middle;\n",
       "    }\n",
       "\n",
       "    .dataframe tbody tr th {\n",
       "        vertical-align: top;\n",
       "    }\n",
       "\n",
       "    .dataframe thead th {\n",
       "        text-align: right;\n",
       "    }\n",
       "</style>\n",
       "<table border=\"1\" class=\"dataframe\">\n",
       "  <thead>\n",
       "    <tr style=\"text-align: right;\">\n",
       "      <th></th>\n",
       "      <th>date_time</th>\n",
       "      <th>site_name</th>\n",
       "      <th>posa_continent</th>\n",
       "      <th>user_location_country</th>\n",
       "      <th>user_location_region</th>\n",
       "      <th>user_location_city</th>\n",
       "      <th>orig_destination_distance</th>\n",
       "      <th>user_id</th>\n",
       "      <th>is_mobile</th>\n",
       "      <th>is_package</th>\n",
       "      <th>...</th>\n",
       "      <th>srch_children_cnt</th>\n",
       "      <th>srch_rm_cnt</th>\n",
       "      <th>srch_destination_id</th>\n",
       "      <th>srch_destination_type_id</th>\n",
       "      <th>is_booking</th>\n",
       "      <th>cnt</th>\n",
       "      <th>hotel_continent</th>\n",
       "      <th>hotel_country</th>\n",
       "      <th>hotel_market</th>\n",
       "      <th>hotel_cluster</th>\n",
       "    </tr>\n",
       "  </thead>\n",
       "  <tbody>\n",
       "    <tr>\n",
       "      <th>0</th>\n",
       "      <td>2014-08-11 07:46:59</td>\n",
       "      <td>2</td>\n",
       "      <td>3</td>\n",
       "      <td>66</td>\n",
       "      <td>348</td>\n",
       "      <td>48862</td>\n",
       "      <td>2234.2641</td>\n",
       "      <td>12</td>\n",
       "      <td>0</td>\n",
       "      <td>1</td>\n",
       "      <td>...</td>\n",
       "      <td>0</td>\n",
       "      <td>1</td>\n",
       "      <td>8250</td>\n",
       "      <td>1</td>\n",
       "      <td>0</td>\n",
       "      <td>3</td>\n",
       "      <td>2</td>\n",
       "      <td>50</td>\n",
       "      <td>628</td>\n",
       "      <td>1</td>\n",
       "    </tr>\n",
       "    <tr>\n",
       "      <th>1</th>\n",
       "      <td>2014-08-11 08:22:12</td>\n",
       "      <td>2</td>\n",
       "      <td>3</td>\n",
       "      <td>66</td>\n",
       "      <td>348</td>\n",
       "      <td>48862</td>\n",
       "      <td>2234.2641</td>\n",
       "      <td>12</td>\n",
       "      <td>0</td>\n",
       "      <td>1</td>\n",
       "      <td>...</td>\n",
       "      <td>0</td>\n",
       "      <td>1</td>\n",
       "      <td>8250</td>\n",
       "      <td>1</td>\n",
       "      <td>1</td>\n",
       "      <td>1</td>\n",
       "      <td>2</td>\n",
       "      <td>50</td>\n",
       "      <td>628</td>\n",
       "      <td>1</td>\n",
       "    </tr>\n",
       "    <tr>\n",
       "      <th>2</th>\n",
       "      <td>2014-08-11 08:24:33</td>\n",
       "      <td>2</td>\n",
       "      <td>3</td>\n",
       "      <td>66</td>\n",
       "      <td>348</td>\n",
       "      <td>48862</td>\n",
       "      <td>2234.2641</td>\n",
       "      <td>12</td>\n",
       "      <td>0</td>\n",
       "      <td>0</td>\n",
       "      <td>...</td>\n",
       "      <td>0</td>\n",
       "      <td>1</td>\n",
       "      <td>8250</td>\n",
       "      <td>1</td>\n",
       "      <td>0</td>\n",
       "      <td>1</td>\n",
       "      <td>2</td>\n",
       "      <td>50</td>\n",
       "      <td>628</td>\n",
       "      <td>1</td>\n",
       "    </tr>\n",
       "    <tr>\n",
       "      <th>3</th>\n",
       "      <td>2014-08-09 18:05:16</td>\n",
       "      <td>2</td>\n",
       "      <td>3</td>\n",
       "      <td>66</td>\n",
       "      <td>442</td>\n",
       "      <td>35390</td>\n",
       "      <td>913.1932</td>\n",
       "      <td>93</td>\n",
       "      <td>0</td>\n",
       "      <td>0</td>\n",
       "      <td>...</td>\n",
       "      <td>0</td>\n",
       "      <td>1</td>\n",
       "      <td>14984</td>\n",
       "      <td>1</td>\n",
       "      <td>0</td>\n",
       "      <td>1</td>\n",
       "      <td>2</td>\n",
       "      <td>50</td>\n",
       "      <td>1457</td>\n",
       "      <td>80</td>\n",
       "    </tr>\n",
       "    <tr>\n",
       "      <th>4</th>\n",
       "      <td>2014-08-09 18:08:18</td>\n",
       "      <td>2</td>\n",
       "      <td>3</td>\n",
       "      <td>66</td>\n",
       "      <td>442</td>\n",
       "      <td>35390</td>\n",
       "      <td>913.6259</td>\n",
       "      <td>93</td>\n",
       "      <td>0</td>\n",
       "      <td>0</td>\n",
       "      <td>...</td>\n",
       "      <td>0</td>\n",
       "      <td>1</td>\n",
       "      <td>14984</td>\n",
       "      <td>1</td>\n",
       "      <td>0</td>\n",
       "      <td>1</td>\n",
       "      <td>2</td>\n",
       "      <td>50</td>\n",
       "      <td>1457</td>\n",
       "      <td>21</td>\n",
       "    </tr>\n",
       "  </tbody>\n",
       "</table>\n",
       "<p>5 rows × 24 columns</p>\n",
       "</div>"
      ],
      "text/plain": [
       "             date_time  site_name  posa_continent  user_location_country  \\\n",
       "0  2014-08-11 07:46:59          2               3                     66   \n",
       "1  2014-08-11 08:22:12          2               3                     66   \n",
       "2  2014-08-11 08:24:33          2               3                     66   \n",
       "3  2014-08-09 18:05:16          2               3                     66   \n",
       "4  2014-08-09 18:08:18          2               3                     66   \n",
       "\n",
       "   user_location_region  user_location_city  orig_destination_distance  \\\n",
       "0                   348               48862                  2234.2641   \n",
       "1                   348               48862                  2234.2641   \n",
       "2                   348               48862                  2234.2641   \n",
       "3                   442               35390                   913.1932   \n",
       "4                   442               35390                   913.6259   \n",
       "\n",
       "   user_id  is_mobile  is_package  ...  srch_children_cnt srch_rm_cnt  \\\n",
       "0       12          0           1  ...                  0           1   \n",
       "1       12          0           1  ...                  0           1   \n",
       "2       12          0           0  ...                  0           1   \n",
       "3       93          0           0  ...                  0           1   \n",
       "4       93          0           0  ...                  0           1   \n",
       "\n",
       "  srch_destination_id  srch_destination_type_id  is_booking  cnt  \\\n",
       "0                8250                         1           0    3   \n",
       "1                8250                         1           1    1   \n",
       "2                8250                         1           0    1   \n",
       "3               14984                         1           0    1   \n",
       "4               14984                         1           0    1   \n",
       "\n",
       "   hotel_continent  hotel_country  hotel_market  hotel_cluster  \n",
       "0                2             50           628              1  \n",
       "1                2             50           628              1  \n",
       "2                2             50           628              1  \n",
       "3                2             50          1457             80  \n",
       "4                2             50          1457             21  \n",
       "\n",
       "[5 rows x 24 columns]"
      ]
     },
     "execution_count": 4,
     "metadata": {},
     "output_type": "execute_result"
    }
   ],
   "source": [
    "df.head()"
   ]
  },
  {
   "cell_type": "markdown",
   "metadata": {},
   "source": [
    "#### 2. Exploratory Data analysis"
   ]
  },
  {
   "cell_type": "markdown",
   "metadata": {},
   "source": [
    "First I would like to do some exploratory analysis on the data"
   ]
  },
  {
   "cell_type": "code",
   "execution_count": 16,
   "metadata": {},
   "outputs": [
    {
     "name": "stdout",
     "output_type": "stream",
     "text": [
      "Describe Data\n"
     ]
    },
    {
     "data": {
      "text/html": [
       "<div>\n",
       "<style scoped>\n",
       "    .dataframe tbody tr th:only-of-type {\n",
       "        vertical-align: middle;\n",
       "    }\n",
       "\n",
       "    .dataframe tbody tr th {\n",
       "        vertical-align: top;\n",
       "    }\n",
       "\n",
       "    .dataframe thead th {\n",
       "        text-align: right;\n",
       "    }\n",
       "</style>\n",
       "<table border=\"1\" class=\"dataframe\">\n",
       "  <thead>\n",
       "    <tr style=\"text-align: right;\">\n",
       "      <th></th>\n",
       "      <th>site_name</th>\n",
       "      <th>posa_continent</th>\n",
       "      <th>user_location_country</th>\n",
       "      <th>user_location_region</th>\n",
       "      <th>user_location_city</th>\n",
       "      <th>orig_destination_distance</th>\n",
       "      <th>user_id</th>\n",
       "      <th>is_mobile</th>\n",
       "      <th>is_package</th>\n",
       "      <th>channel</th>\n",
       "      <th>...</th>\n",
       "      <th>srch_children_cnt</th>\n",
       "      <th>srch_rm_cnt</th>\n",
       "      <th>srch_destination_id</th>\n",
       "      <th>srch_destination_type_id</th>\n",
       "      <th>is_booking</th>\n",
       "      <th>cnt</th>\n",
       "      <th>hotel_continent</th>\n",
       "      <th>hotel_country</th>\n",
       "      <th>hotel_market</th>\n",
       "      <th>hotel_cluster</th>\n",
       "    </tr>\n",
       "  </thead>\n",
       "  <tbody>\n",
       "    <tr>\n",
       "      <th>count</th>\n",
       "      <td>1.985514e+06</td>\n",
       "      <td>1.985514e+06</td>\n",
       "      <td>1.985514e+06</td>\n",
       "      <td>1.985514e+06</td>\n",
       "      <td>1.985514e+06</td>\n",
       "      <td>1.985514e+06</td>\n",
       "      <td>1.985514e+06</td>\n",
       "      <td>1.985514e+06</td>\n",
       "      <td>1.985514e+06</td>\n",
       "      <td>1.985514e+06</td>\n",
       "      <td>...</td>\n",
       "      <td>1.985514e+06</td>\n",
       "      <td>1.985514e+06</td>\n",
       "      <td>1.985514e+06</td>\n",
       "      <td>1.985514e+06</td>\n",
       "      <td>1985514.0</td>\n",
       "      <td>1.985514e+06</td>\n",
       "      <td>1.985514e+06</td>\n",
       "      <td>1.985514e+06</td>\n",
       "      <td>1.985514e+06</td>\n",
       "      <td>1.985514e+06</td>\n",
       "    </tr>\n",
       "    <tr>\n",
       "      <th>mean</th>\n",
       "      <td>6.271153e+00</td>\n",
       "      <td>2.904904e+00</td>\n",
       "      <td>8.853682e+01</td>\n",
       "      <td>3.094690e+02</td>\n",
       "      <td>2.805513e+04</td>\n",
       "      <td>1.688682e+03</td>\n",
       "      <td>6.002561e+05</td>\n",
       "      <td>1.003987e-01</td>\n",
       "      <td>1.299462e-01</td>\n",
       "      <td>6.313222e+00</td>\n",
       "      <td>...</td>\n",
       "      <td>2.853936e-01</td>\n",
       "      <td>1.122032e+00</td>\n",
       "      <td>1.536637e+04</td>\n",
       "      <td>2.916158e+00</td>\n",
       "      <td>1.0</td>\n",
       "      <td>1.014445e+00</td>\n",
       "      <td>2.690880e+00</td>\n",
       "      <td>7.466902e+01</td>\n",
       "      <td>6.372559e+02</td>\n",
       "      <td>4.749711e+01</td>\n",
       "    </tr>\n",
       "    <tr>\n",
       "      <th>std</th>\n",
       "      <td>9.226007e+00</td>\n",
       "      <td>5.156234e-01</td>\n",
       "      <td>5.469277e+01</td>\n",
       "      <td>1.413160e+02</td>\n",
       "      <td>1.650078e+04</td>\n",
       "      <td>2.157340e+03</td>\n",
       "      <td>3.428851e+05</td>\n",
       "      <td>3.005309e-01</td>\n",
       "      <td>3.362443e-01</td>\n",
       "      <td>3.626535e+00</td>\n",
       "      <td>...</td>\n",
       "      <td>6.751337e-01</td>\n",
       "      <td>4.610676e-01</td>\n",
       "      <td>1.143189e+04</td>\n",
       "      <td>2.213700e+00</td>\n",
       "      <td>0.0</td>\n",
       "      <td>1.395093e-01</td>\n",
       "      <td>1.423883e+00</td>\n",
       "      <td>5.283012e+01</td>\n",
       "      <td>4.436215e+02</td>\n",
       "      <td>2.916823e+01</td>\n",
       "    </tr>\n",
       "    <tr>\n",
       "      <th>min</th>\n",
       "      <td>2.000000e+00</td>\n",
       "      <td>0.000000e+00</td>\n",
       "      <td>0.000000e+00</td>\n",
       "      <td>1.350000e+02</td>\n",
       "      <td>0.000000e+00</td>\n",
       "      <td>5.600000e-03</td>\n",
       "      <td>5.000000e+00</td>\n",
       "      <td>0.000000e+00</td>\n",
       "      <td>0.000000e+00</td>\n",
       "      <td>0.000000e+00</td>\n",
       "      <td>...</td>\n",
       "      <td>0.000000e+00</td>\n",
       "      <td>0.000000e+00</td>\n",
       "      <td>1.000000e+00</td>\n",
       "      <td>1.000000e+00</td>\n",
       "      <td>1.0</td>\n",
       "      <td>1.000000e+00</td>\n",
       "      <td>0.000000e+00</td>\n",
       "      <td>0.000000e+00</td>\n",
       "      <td>0.000000e+00</td>\n",
       "      <td>0.000000e+00</td>\n",
       "    </tr>\n",
       "    <tr>\n",
       "      <th>25%</th>\n",
       "      <td>2.000000e+00</td>\n",
       "      <td>3.000000e+00</td>\n",
       "      <td>6.600000e+01</td>\n",
       "      <td>1.740000e+02</td>\n",
       "      <td>1.470300e+04</td>\n",
       "      <td>2.192807e+02</td>\n",
       "      <td>3.072480e+05</td>\n",
       "      <td>0.000000e+00</td>\n",
       "      <td>0.000000e+00</td>\n",
       "      <td>2.000000e+00</td>\n",
       "      <td>...</td>\n",
       "      <td>0.000000e+00</td>\n",
       "      <td>1.000000e+00</td>\n",
       "      <td>8.265000e+03</td>\n",
       "      <td>1.000000e+00</td>\n",
       "      <td>1.0</td>\n",
       "      <td>1.000000e+00</td>\n",
       "      <td>2.000000e+00</td>\n",
       "      <td>5.000000e+01</td>\n",
       "      <td>3.660000e+02</td>\n",
       "      <td>2.100000e+01</td>\n",
       "    </tr>\n",
       "    <tr>\n",
       "      <th>50%</th>\n",
       "      <td>2.000000e+00</td>\n",
       "      <td>3.000000e+00</td>\n",
       "      <td>6.600000e+01</td>\n",
       "      <td>3.180000e+02</td>\n",
       "      <td>2.765500e+04</td>\n",
       "      <td>8.057841e+02</td>\n",
       "      <td>5.998015e+05</td>\n",
       "      <td>0.000000e+00</td>\n",
       "      <td>0.000000e+00</td>\n",
       "      <td>9.000000e+00</td>\n",
       "      <td>...</td>\n",
       "      <td>0.000000e+00</td>\n",
       "      <td>1.000000e+00</td>\n",
       "      <td>1.197800e+04</td>\n",
       "      <td>1.000000e+00</td>\n",
       "      <td>1.0</td>\n",
       "      <td>1.000000e+00</td>\n",
       "      <td>2.000000e+00</td>\n",
       "      <td>5.000000e+01</td>\n",
       "      <td>6.280000e+02</td>\n",
       "      <td>4.600000e+01</td>\n",
       "    </tr>\n",
       "    <tr>\n",
       "      <th>75%</th>\n",
       "      <td>2.000000e+00</td>\n",
       "      <td>3.000000e+00</td>\n",
       "      <td>6.600000e+01</td>\n",
       "      <td>3.630000e+02</td>\n",
       "      <td>4.289900e+04</td>\n",
       "      <td>2.227812e+03</td>\n",
       "      <td>8.953840e+05</td>\n",
       "      <td>0.000000e+00</td>\n",
       "      <td>0.000000e+00</td>\n",
       "      <td>9.000000e+00</td>\n",
       "      <td>...</td>\n",
       "      <td>0.000000e+00</td>\n",
       "      <td>1.000000e+00</td>\n",
       "      <td>2.259500e+04</td>\n",
       "      <td>6.000000e+00</td>\n",
       "      <td>1.0</td>\n",
       "      <td>1.000000e+00</td>\n",
       "      <td>3.000000e+00</td>\n",
       "      <td>7.000000e+01</td>\n",
       "      <td>7.010000e+02</td>\n",
       "      <td>7.200000e+01</td>\n",
       "    </tr>\n",
       "    <tr>\n",
       "      <th>max</th>\n",
       "      <td>5.300000e+01</td>\n",
       "      <td>4.000000e+00</td>\n",
       "      <td>2.150000e+02</td>\n",
       "      <td>1.021000e+03</td>\n",
       "      <td>5.650700e+04</td>\n",
       "      <td>1.219917e+04</td>\n",
       "      <td>1.198784e+06</td>\n",
       "      <td>1.000000e+00</td>\n",
       "      <td>1.000000e+00</td>\n",
       "      <td>1.000000e+01</td>\n",
       "      <td>...</td>\n",
       "      <td>9.000000e+00</td>\n",
       "      <td>8.000000e+00</td>\n",
       "      <td>6.510200e+04</td>\n",
       "      <td>9.000000e+00</td>\n",
       "      <td>1.0</td>\n",
       "      <td>2.100000e+01</td>\n",
       "      <td>6.000000e+00</td>\n",
       "      <td>2.120000e+02</td>\n",
       "      <td>2.117000e+03</td>\n",
       "      <td>9.900000e+01</td>\n",
       "    </tr>\n",
       "  </tbody>\n",
       "</table>\n",
       "<p>8 rows × 21 columns</p>\n",
       "</div>"
      ],
      "text/plain": [
       "          site_name  posa_continent  user_location_country  \\\n",
       "count  1.985514e+06    1.985514e+06           1.985514e+06   \n",
       "mean   6.271153e+00    2.904904e+00           8.853682e+01   \n",
       "std    9.226007e+00    5.156234e-01           5.469277e+01   \n",
       "min    2.000000e+00    0.000000e+00           0.000000e+00   \n",
       "25%    2.000000e+00    3.000000e+00           6.600000e+01   \n",
       "50%    2.000000e+00    3.000000e+00           6.600000e+01   \n",
       "75%    2.000000e+00    3.000000e+00           6.600000e+01   \n",
       "max    5.300000e+01    4.000000e+00           2.150000e+02   \n",
       "\n",
       "       user_location_region  user_location_city  orig_destination_distance  \\\n",
       "count          1.985514e+06        1.985514e+06               1.985514e+06   \n",
       "mean           3.094690e+02        2.805513e+04               1.688682e+03   \n",
       "std            1.413160e+02        1.650078e+04               2.157340e+03   \n",
       "min            1.350000e+02        0.000000e+00               5.600000e-03   \n",
       "25%            1.740000e+02        1.470300e+04               2.192807e+02   \n",
       "50%            3.180000e+02        2.765500e+04               8.057841e+02   \n",
       "75%            3.630000e+02        4.289900e+04               2.227812e+03   \n",
       "max            1.021000e+03        5.650700e+04               1.219917e+04   \n",
       "\n",
       "            user_id     is_mobile    is_package       channel  ...  \\\n",
       "count  1.985514e+06  1.985514e+06  1.985514e+06  1.985514e+06  ...   \n",
       "mean   6.002561e+05  1.003987e-01  1.299462e-01  6.313222e+00  ...   \n",
       "std    3.428851e+05  3.005309e-01  3.362443e-01  3.626535e+00  ...   \n",
       "min    5.000000e+00  0.000000e+00  0.000000e+00  0.000000e+00  ...   \n",
       "25%    3.072480e+05  0.000000e+00  0.000000e+00  2.000000e+00  ...   \n",
       "50%    5.998015e+05  0.000000e+00  0.000000e+00  9.000000e+00  ...   \n",
       "75%    8.953840e+05  0.000000e+00  0.000000e+00  9.000000e+00  ...   \n",
       "max    1.198784e+06  1.000000e+00  1.000000e+00  1.000000e+01  ...   \n",
       "\n",
       "       srch_children_cnt   srch_rm_cnt  srch_destination_id  \\\n",
       "count       1.985514e+06  1.985514e+06         1.985514e+06   \n",
       "mean        2.853936e-01  1.122032e+00         1.536637e+04   \n",
       "std         6.751337e-01  4.610676e-01         1.143189e+04   \n",
       "min         0.000000e+00  0.000000e+00         1.000000e+00   \n",
       "25%         0.000000e+00  1.000000e+00         8.265000e+03   \n",
       "50%         0.000000e+00  1.000000e+00         1.197800e+04   \n",
       "75%         0.000000e+00  1.000000e+00         2.259500e+04   \n",
       "max         9.000000e+00  8.000000e+00         6.510200e+04   \n",
       "\n",
       "       srch_destination_type_id  is_booking           cnt  hotel_continent  \\\n",
       "count              1.985514e+06   1985514.0  1.985514e+06     1.985514e+06   \n",
       "mean               2.916158e+00         1.0  1.014445e+00     2.690880e+00   \n",
       "std                2.213700e+00         0.0  1.395093e-01     1.423883e+00   \n",
       "min                1.000000e+00         1.0  1.000000e+00     0.000000e+00   \n",
       "25%                1.000000e+00         1.0  1.000000e+00     2.000000e+00   \n",
       "50%                1.000000e+00         1.0  1.000000e+00     2.000000e+00   \n",
       "75%                6.000000e+00         1.0  1.000000e+00     3.000000e+00   \n",
       "max                9.000000e+00         1.0  2.100000e+01     6.000000e+00   \n",
       "\n",
       "       hotel_country  hotel_market  hotel_cluster  \n",
       "count   1.985514e+06  1.985514e+06   1.985514e+06  \n",
       "mean    7.466902e+01  6.372559e+02   4.749711e+01  \n",
       "std     5.283012e+01  4.436215e+02   2.916823e+01  \n",
       "min     0.000000e+00  0.000000e+00   0.000000e+00  \n",
       "25%     5.000000e+01  3.660000e+02   2.100000e+01  \n",
       "50%     5.000000e+01  6.280000e+02   4.600000e+01  \n",
       "75%     7.000000e+01  7.010000e+02   7.200000e+01  \n",
       "max     2.120000e+02  2.117000e+03   9.900000e+01  \n",
       "\n",
       "[8 rows x 21 columns]"
      ]
     },
     "execution_count": 16,
     "metadata": {},
     "output_type": "execute_result"
    }
   ],
   "source": [
    "print(\"Describe Data\")\n",
    "df.describe()"
   ]
  },
  {
   "cell_type": "code",
   "execution_count": 17,
   "metadata": {},
   "outputs": [
    {
     "name": "stdout",
     "output_type": "stream",
     "text": [
      "Describe Data\n"
     ]
    },
    {
     "data": {
      "text/html": [
       "<div>\n",
       "<style scoped>\n",
       "    .dataframe tbody tr th:only-of-type {\n",
       "        vertical-align: middle;\n",
       "    }\n",
       "\n",
       "    .dataframe tbody tr th {\n",
       "        vertical-align: top;\n",
       "    }\n",
       "\n",
       "    .dataframe thead th {\n",
       "        text-align: right;\n",
       "    }\n",
       "</style>\n",
       "<table border=\"1\" class=\"dataframe\">\n",
       "  <thead>\n",
       "    <tr style=\"text-align: right;\">\n",
       "      <th></th>\n",
       "      <th>date_time</th>\n",
       "      <th>srch_ci</th>\n",
       "      <th>srch_co</th>\n",
       "    </tr>\n",
       "  </thead>\n",
       "  <tbody>\n",
       "    <tr>\n",
       "      <th>count</th>\n",
       "      <td>1985514</td>\n",
       "      <td>1985514</td>\n",
       "      <td>1985514</td>\n",
       "    </tr>\n",
       "    <tr>\n",
       "      <th>unique</th>\n",
       "      <td>1937402</td>\n",
       "      <td>1129</td>\n",
       "      <td>1128</td>\n",
       "    </tr>\n",
       "    <tr>\n",
       "      <th>top</th>\n",
       "      <td>2014-10-08 13:28:50</td>\n",
       "      <td>2014-12-26</td>\n",
       "      <td>2014-12-28</td>\n",
       "    </tr>\n",
       "    <tr>\n",
       "      <th>freq</th>\n",
       "      <td>4</td>\n",
       "      <td>8077</td>\n",
       "      <td>8145</td>\n",
       "    </tr>\n",
       "  </tbody>\n",
       "</table>\n",
       "</div>"
      ],
      "text/plain": [
       "                  date_time     srch_ci     srch_co\n",
       "count               1985514     1985514     1985514\n",
       "unique              1937402        1129        1128\n",
       "top     2014-10-08 13:28:50  2014-12-26  2014-12-28\n",
       "freq                      4        8077        8145"
      ]
     },
     "execution_count": 17,
     "metadata": {},
     "output_type": "execute_result"
    }
   ],
   "source": [
    "print(\"Describe Data\")\n",
    "df.describe(include=['O'])"
   ]
  },
  {
   "cell_type": "markdown",
   "metadata": {},
   "source": [
    "Because the problem statement states predict the hotel cluster a customer likely to book. We will filter data for all \"is_booking\" = 1."
   ]
  },
  {
   "cell_type": "code",
   "execution_count": 18,
   "metadata": {},
   "outputs": [],
   "source": [
    "df = df.loc[df['is_booking'] == 1]"
   ]
  },
  {
   "cell_type": "code",
   "execution_count": 19,
   "metadata": {},
   "outputs": [],
   "source": [
    "# Checking data type\n",
    "def Datatype(df):\n",
    "    # shape and data types of the data\n",
    "    print(\"There are {} rows and {} columns\".format(df.shape[0], df.shape[1]))\n",
    "    print(df.dtypes)\n",
    "\n",
    "    # select numeric columns\n",
    "    df_numeric = df.select_dtypes(include=[np.number])\n",
    "    numeric_cols = df_numeric.columns.values\n",
    "    print(numeric_cols)\n",
    "\n",
    "    # select non numeric columns\n",
    "    df_non_numeric = df.select_dtypes(exclude=[np.number])\n",
    "    non_numeric_cols = df_non_numeric.columns.values\n",
    "    print(non_numeric_cols)"
   ]
  },
  {
   "cell_type": "code",
   "execution_count": 20,
   "metadata": {
    "scrolled": true
   },
   "outputs": [
    {
     "name": "stdout",
     "output_type": "stream",
     "text": [
      "There are 1985514 rows and 24 columns\n",
      "date_time                     object\n",
      "site_name                      int64\n",
      "posa_continent                 int64\n",
      "user_location_country          int64\n",
      "user_location_region           int64\n",
      "user_location_city             int64\n",
      "orig_destination_distance    float64\n",
      "user_id                        int64\n",
      "is_mobile                      int64\n",
      "is_package                     int64\n",
      "channel                        int64\n",
      "srch_ci                       object\n",
      "srch_co                       object\n",
      "srch_adults_cnt                int64\n",
      "srch_children_cnt              int64\n",
      "srch_rm_cnt                    int64\n",
      "srch_destination_id            int64\n",
      "srch_destination_type_id       int64\n",
      "is_booking                     int64\n",
      "cnt                            int64\n",
      "hotel_continent                int64\n",
      "hotel_country                  int64\n",
      "hotel_market                   int64\n",
      "hotel_cluster                  int64\n",
      "dtype: object\n",
      "['site_name' 'posa_continent' 'user_location_country'\n",
      " 'user_location_region' 'user_location_city' 'orig_destination_distance'\n",
      " 'user_id' 'is_mobile' 'is_package' 'channel' 'srch_adults_cnt'\n",
      " 'srch_children_cnt' 'srch_rm_cnt' 'srch_destination_id'\n",
      " 'srch_destination_type_id' 'is_booking' 'cnt' 'hotel_continent'\n",
      " 'hotel_country' 'hotel_market' 'hotel_cluster']\n",
      "['date_time' 'srch_ci' 'srch_co']\n"
     ]
    }
   ],
   "source": [
    "Datatype(df)"
   ]
  },
  {
   "cell_type": "code",
   "execution_count": 21,
   "metadata": {},
   "outputs": [
    {
     "data": {
      "text/plain": [
       "<Figure size 2000x2000 with 0 Axes>"
      ]
     },
     "metadata": {},
     "output_type": "display_data"
    },
    {
     "data": {
      "image/png": "[encoded data removed]",
      "text/plain": [
       "<Figure size 500x500 with 1 Axes>"
      ]
     },
     "metadata": {},
     "output_type": "display_data"
    }
   ],
   "source": [
    "# set figure size\n",
    "plt.figure(figsize=(20, 20))\n",
    "\n",
    "sns.displot(df, x='hotel_cluster', palette='coolwarm', bins=50)\n",
    "plt.xlabel('Hotel Cluster')\n",
    "plt.ylabel('Count')\n",
    "plt.show()"
   ]
  },
  {
   "cell_type": "markdown",
   "metadata": {},
   "source": [
    "Hotel cluster has 100 cluster that means 100 class classiffication problem. The data is well distributed with slight skewness towards the left."
   ]
  },
  {
   "cell_type": "code",
   "execution_count": 23,
   "metadata": {},
   "outputs": [
    {
     "data": {
      "text/plain": [
       "(596662, 1)"
      ]
     },
     "execution_count": 23,
     "metadata": {},
     "output_type": "execute_result"
    }
   ],
   "source": [
    "user_id = pd.DataFrame(df['user_id'].value_counts())\n",
    "user_id.shape"
   ]
  },
  {
   "cell_type": "code",
   "execution_count": 24,
   "metadata": {},
   "outputs": [
    {
     "data": {
      "text/plain": [
       "<Figure size 1000x1000 with 0 Axes>"
      ]
     },
     "metadata": {},
     "output_type": "display_data"
    },
    {
     "data": {
      "image/png": "[encoded data removed]",
      "text/plain": [
       "<Figure size 500x500 with 1 Axes>"
      ]
     },
     "metadata": {},
     "output_type": "display_data"
    }
   ],
   "source": [
    "# set figure size\n",
    "plt.figure(figsize=(10, 10))\n",
    "\n",
    "sns.displot(user_id, x='user_id', palette='coolwarm', bins=50)\n",
    "plt.xlabel('User ID Count')\n",
    "plt.show()"
   ]
  },
  {
   "cell_type": "markdown",
   "metadata": {},
   "source": [
    "Little research on the internet gave me information that travel agents also book through expedia to get commission, thus user id data was expected to have some skewness."
   ]
  },
  {
   "cell_type": "code",
   "execution_count": 25,
   "metadata": {},
   "outputs": [
    {
     "data": {
      "text/plain": [
       "<Figure size 1000x1000 with 0 Axes>"
      ]
     },
     "metadata": {},
     "output_type": "display_data"
    },
    {
     "data": {
      "image/png": "[encoded data removed]",
      "text/plain": [
       "<Figure size 500x500 with 1 Axes>"
      ]
     },
     "metadata": {},
     "output_type": "display_data"
    }
   ],
   "source": [
    "data = df.groupby('user_id')['hotel_cluster'].count()\n",
    "\n",
    "# set figure size\n",
    "plt.figure(figsize=(10, 10))\n",
    "\n",
    "sns.displot(user_id, x=data.values, palette='coolwarm', bins=50)\n",
    "plt.xlabel('Hotel Clusters by Users')\n",
    "plt.show()"
   ]
  },
  {
   "cell_type": "markdown",
   "metadata": {},
   "source": [
    "Number of clusters by user ID has also the same distribution of user ID data. Some user ID has higher number of hotel clusters."
   ]
  },
  {
   "cell_type": "code",
   "execution_count": 26,
   "metadata": {},
   "outputs": [
    {
     "data": {
      "text/plain": [
       "(99276, 24)"
      ]
     },
     "execution_count": 26,
     "metadata": {},
     "output_type": "execute_result"
    }
   ],
   "source": [
    "df_sample = df.sample(frac=0.05, random_state=99)\n",
    "df_sample.shape"
   ]
  },
  {
   "cell_type": "code",
   "execution_count": 150,
   "metadata": {},
   "outputs": [
    {
     "data": {
      "text/plain": [
       "site_name                   -0.021581\n",
       "user_location_country       -0.020711\n",
       "srch_destination_type_id    -0.020270\n",
       "hotel_country               -0.017911\n",
       "is_mobile                   -0.009507\n",
       "srch_rm_cnt                 -0.006636\n",
       "cnt                         -0.004616\n",
       "user_location_city          -0.004352\n",
       "srch_destination_id         -0.002965\n",
       "date_time_month             -0.002164\n",
       "srch_co_month               -0.001155\n",
       "srch_adults_cnt              0.000204\n",
       "user_id                      0.000477\n",
       "srch_ci_month                0.000840\n",
       "date_time_year               0.001924\n",
       "channel                      0.004444\n",
       "srch_ci_year                 0.004476\n",
       "srch_co_year                 0.005818\n",
       "posa_continent               0.006213\n",
       "hotel_continent              0.007838\n",
       "user_location_region         0.010831\n",
       "srch_children_cnt            0.011285\n",
       "hotel_market                 0.018945\n",
       "orig_destination_distance    0.025188\n",
       "is_package                   0.026619\n",
       "hotel_cluster                1.000000\n",
       "is_booking                        NaN\n",
       "Name: hotel_cluster, dtype: float64"
      ]
     },
     "execution_count": 150,
     "metadata": {},
     "output_type": "execute_result"
    }
   ],
   "source": [
    "df_sample.corr()[\"hotel_cluster\"].sort_values()"
   ]
  },
  {
   "cell_type": "markdown",
   "metadata": {},
   "source": [
    "#### 3. Checking Missing Values"
   ]
  },
  {
   "cell_type": "code",
   "execution_count": 29,
   "metadata": {},
   "outputs": [],
   "source": [
    "# check for missing value\n",
    "def percentMissing(df):\n",
    "    \n",
    "    df_numeric = df.select_dtypes(include=[np.number])\n",
    "    numeric_cols = df_numeric.columns.values\n",
    "    print(numeric_cols)\n",
    "    \n",
    "    # % of missing data\n",
    "    for col in df.columns:\n",
    "        # create missing indicator for features with missing data\n",
    "        missing = df[col].isnull()\n",
    "        pct_missing = np.mean(missing)*100\n",
    "        print('{} - {}%'.format(col, round(pct_missing)))\n",
    "        num_missing = np.sum(missing)\n",
    "        \n",
    "    return None"
   ]
  },
  {
   "cell_type": "code",
   "execution_count": 30,
   "metadata": {},
   "outputs": [
    {
     "name": "stdout",
     "output_type": "stream",
     "text": [
      "['site_name' 'posa_continent' 'user_location_country'\n",
      " 'user_location_region' 'user_location_city' 'orig_destination_distance'\n",
      " 'user_id' 'is_mobile' 'is_package' 'channel' 'srch_adults_cnt'\n",
      " 'srch_children_cnt' 'srch_rm_cnt' 'srch_destination_id'\n",
      " 'srch_destination_type_id' 'is_booking' 'cnt' 'hotel_continent'\n",
      " 'hotel_country' 'hotel_market' 'hotel_cluster']\n",
      "date_time - 0%\n",
      "site_name - 0%\n",
      "posa_continent - 0%\n",
      "user_location_country - 0%\n",
      "user_location_region - 0%\n",
      "user_location_city - 0%\n",
      "orig_destination_distance - 0%\n",
      "user_id - 0%\n",
      "is_mobile - 0%\n",
      "is_package - 0%\n",
      "channel - 0%\n",
      "srch_ci - 0%\n",
      "srch_co - 0%\n",
      "srch_adults_cnt - 0%\n",
      "srch_children_cnt - 0%\n",
      "srch_rm_cnt - 0%\n",
      "srch_destination_id - 0%\n",
      "srch_destination_type_id - 0%\n",
      "is_booking - 0%\n",
      "cnt - 0%\n",
      "hotel_continent - 0%\n",
      "hotel_country - 0%\n",
      "hotel_market - 0%\n",
      "hotel_cluster - 0%\n"
     ]
    }
   ],
   "source": [
    "percentMissing(df_sample)"
   ]
  },
  {
   "cell_type": "markdown",
   "metadata": {},
   "source": [
    "#### 4. Feature Engineering before selecting models"
   ]
  },
  {
   "cell_type": "markdown",
   "metadata": {},
   "source": [
    "After searching through google, I found travel agents also book from expedia and earn commisions through it. Histogram above also shows similar results as the user_ID counts distribution is highly skewed. For this assignment, I will consider this as a noise data because it does not accurately represent a normal user booking hotel from expedia. One way to tackle it is removing users with higher number of bookings."
   ]
  },
  {
   "cell_type": "code",
   "execution_count": 31,
   "metadata": {},
   "outputs": [],
   "source": [
    "# removing travel agents by listing all unique user ids that has booked hotels more than 50 times. "
   ]
  },
  {
   "cell_type": "code",
   "execution_count": 32,
   "metadata": {},
   "outputs": [],
   "source": [
    "# Get all unique user ids\n",
    "unique_Id = df_sample['user_id'].unique()\n",
    "\n",
    "for id in unique_Id:\n",
    "    booking = len(df_sample[df_sample['user_id'] == id])\n",
    "    if booking > 25:\n",
    "        indexNames = df_sample[df_sample['user_id'] == id].index\n",
    "        df_sample.drop(indexNames , inplace=True)\n",
    "    else:\n",
    "        None"
   ]
  },
  {
   "cell_type": "code",
   "execution_count": 33,
   "metadata": {},
   "outputs": [
    {
     "data": {
      "text/plain": [
       "83162"
      ]
     },
     "execution_count": 33,
     "metadata": {},
     "output_type": "execute_result"
    }
   ],
   "source": [
    "len(unique_Id)"
   ]
  },
  {
   "cell_type": "code",
   "execution_count": 34,
   "metadata": {},
   "outputs": [
    {
     "data": {
      "text/html": [
       "<div>\n",
       "<style scoped>\n",
       "    .dataframe tbody tr th:only-of-type {\n",
       "        vertical-align: middle;\n",
       "    }\n",
       "\n",
       "    .dataframe tbody tr th {\n",
       "        vertical-align: top;\n",
       "    }\n",
       "\n",
       "    .dataframe thead th {\n",
       "        text-align: right;\n",
       "    }\n",
       "</style>\n",
       "<table border=\"1\" class=\"dataframe\">\n",
       "  <thead>\n",
       "    <tr style=\"text-align: right;\">\n",
       "      <th></th>\n",
       "      <th>srch_co</th>\n",
       "      <th>srch_ci</th>\n",
       "      <th>date_time</th>\n",
       "    </tr>\n",
       "  </thead>\n",
       "  <tbody>\n",
       "    <tr>\n",
       "      <th>24362591</th>\n",
       "      <td>2014-11-10</td>\n",
       "      <td>2014-11-09</td>\n",
       "      <td>2014-11-08 20:58:31</td>\n",
       "    </tr>\n",
       "    <tr>\n",
       "      <th>3846880</th>\n",
       "      <td>2013-08-20</td>\n",
       "      <td>2013-08-18</td>\n",
       "      <td>2013-07-14 16:36:45</td>\n",
       "    </tr>\n",
       "    <tr>\n",
       "      <th>33977503</th>\n",
       "      <td>2014-09-29</td>\n",
       "      <td>2014-09-25</td>\n",
       "      <td>2014-08-14 16:50:54</td>\n",
       "    </tr>\n",
       "    <tr>\n",
       "      <th>7825624</th>\n",
       "      <td>2014-05-03</td>\n",
       "      <td>2014-05-01</td>\n",
       "      <td>2014-05-01 03:35:52</td>\n",
       "    </tr>\n",
       "    <tr>\n",
       "      <th>6363967</th>\n",
       "      <td>2014-09-21</td>\n",
       "      <td>2014-09-20</td>\n",
       "      <td>2014-09-11 21:37:56</td>\n",
       "    </tr>\n",
       "  </tbody>\n",
       "</table>\n",
       "</div>"
      ],
      "text/plain": [
       "             srch_co     srch_ci            date_time\n",
       "24362591  2014-11-10  2014-11-09  2014-11-08 20:58:31\n",
       "3846880   2013-08-20  2013-08-18  2013-07-14 16:36:45\n",
       "33977503  2014-09-29  2014-09-25  2014-08-14 16:50:54\n",
       "7825624   2014-05-03  2014-05-01  2014-05-01 03:35:52\n",
       "6363967   2014-09-21  2014-09-20  2014-09-11 21:37:56"
      ]
     },
     "execution_count": 34,
     "metadata": {},
     "output_type": "execute_result"
    }
   ],
   "source": [
    "df_sample[{'date_time', 'srch_ci', 'srch_co'}].head()"
   ]
  },
  {
   "cell_type": "code",
   "execution_count": 35,
   "metadata": {},
   "outputs": [
    {
     "data": {
      "text/html": [
       "<div>\n",
       "<style scoped>\n",
       "    .dataframe tbody tr th:only-of-type {\n",
       "        vertical-align: middle;\n",
       "    }\n",
       "\n",
       "    .dataframe tbody tr th {\n",
       "        vertical-align: top;\n",
       "    }\n",
       "\n",
       "    .dataframe thead th {\n",
       "        text-align: right;\n",
       "    }\n",
       "</style>\n",
       "<table border=\"1\" class=\"dataframe\">\n",
       "  <thead>\n",
       "    <tr style=\"text-align: right;\">\n",
       "      <th></th>\n",
       "      <th>date_time</th>\n",
       "      <th>site_name</th>\n",
       "      <th>posa_continent</th>\n",
       "      <th>user_location_country</th>\n",
       "      <th>user_location_region</th>\n",
       "      <th>user_location_city</th>\n",
       "      <th>orig_destination_distance</th>\n",
       "      <th>user_id</th>\n",
       "      <th>is_mobile</th>\n",
       "      <th>is_package</th>\n",
       "      <th>...</th>\n",
       "      <th>hotel_continent</th>\n",
       "      <th>hotel_country</th>\n",
       "      <th>hotel_market</th>\n",
       "      <th>hotel_cluster</th>\n",
       "      <th>date_time_month</th>\n",
       "      <th>date_time_year</th>\n",
       "      <th>srch_ci_month</th>\n",
       "      <th>srch_ci_year</th>\n",
       "      <th>srch_co_month</th>\n",
       "      <th>srch_co_year</th>\n",
       "    </tr>\n",
       "  </thead>\n",
       "  <tbody>\n",
       "    <tr>\n",
       "      <th>24362591</th>\n",
       "      <td>2014-11-08 20:58:31</td>\n",
       "      <td>13</td>\n",
       "      <td>1</td>\n",
       "      <td>46</td>\n",
       "      <td>171</td>\n",
       "      <td>43387</td>\n",
       "      <td>315.9426</td>\n",
       "      <td>981882</td>\n",
       "      <td>0</td>\n",
       "      <td>0</td>\n",
       "      <td>...</td>\n",
       "      <td>6</td>\n",
       "      <td>144</td>\n",
       "      <td>4</td>\n",
       "      <td>46</td>\n",
       "      <td>11</td>\n",
       "      <td>2014</td>\n",
       "      <td>11</td>\n",
       "      <td>2014</td>\n",
       "      <td>11</td>\n",
       "      <td>2014</td>\n",
       "    </tr>\n",
       "    <tr>\n",
       "      <th>3846880</th>\n",
       "      <td>2013-07-14 16:36:45</td>\n",
       "      <td>2</td>\n",
       "      <td>3</td>\n",
       "      <td>66</td>\n",
       "      <td>184</td>\n",
       "      <td>2037</td>\n",
       "      <td>612.1083</td>\n",
       "      <td>343914</td>\n",
       "      <td>0</td>\n",
       "      <td>0</td>\n",
       "      <td>...</td>\n",
       "      <td>2</td>\n",
       "      <td>50</td>\n",
       "      <td>628</td>\n",
       "      <td>1</td>\n",
       "      <td>7</td>\n",
       "      <td>2013</td>\n",
       "      <td>8</td>\n",
       "      <td>2013</td>\n",
       "      <td>8</td>\n",
       "      <td>2013</td>\n",
       "    </tr>\n",
       "  </tbody>\n",
       "</table>\n",
       "<p>2 rows × 30 columns</p>\n",
       "</div>"
      ],
      "text/plain": [
       "                    date_time  site_name  posa_continent  \\\n",
       "24362591  2014-11-08 20:58:31         13               1   \n",
       "3846880   2013-07-14 16:36:45          2               3   \n",
       "\n",
       "          user_location_country  user_location_region  user_location_city  \\\n",
       "24362591                     46                   171               43387   \n",
       "3846880                      66                   184                2037   \n",
       "\n",
       "          orig_destination_distance  user_id  is_mobile  is_package  ...  \\\n",
       "24362591                   315.9426   981882          0           0  ...   \n",
       "3846880                    612.1083   343914          0           0  ...   \n",
       "\n",
       "          hotel_continent hotel_country hotel_market  hotel_cluster  \\\n",
       "24362591                6           144            4             46   \n",
       "3846880                 2            50          628              1   \n",
       "\n",
       "          date_time_month  date_time_year  srch_ci_month  srch_ci_year  \\\n",
       "24362591               11            2014             11          2014   \n",
       "3846880                 7            2013              8          2013   \n",
       "\n",
       "          srch_co_month  srch_co_year  \n",
       "24362591             11          2014  \n",
       "3846880               8          2013  \n",
       "\n",
       "[2 rows x 30 columns]"
      ]
     },
     "execution_count": 35,
     "metadata": {},
     "output_type": "execute_result"
    }
   ],
   "source": [
    "#changing data_time variable and srch_ci and srch_co\n",
    "import datetime\n",
    "  \n",
    "df_sample['date_time_month'] =  pd.DatetimeIndex(df_sample['date_time']).month\n",
    "df_sample['date_time_year'] =  pd.DatetimeIndex(df_sample['date_time']).year\n",
    "df_sample['srch_ci_month'] =  pd.DatetimeIndex(df_sample['srch_ci']).month\n",
    "df_sample['srch_ci_year'] =  pd.DatetimeIndex(df_sample['srch_ci']).year\n",
    "df_sample['srch_co_month'] =  pd.DatetimeIndex(df_sample['srch_co']).month\n",
    "df_sample['srch_co_year'] =  pd.DatetimeIndex(df_sample['srch_co']).year\n",
    "df_sample.head(2)"
   ]
  },
  {
   "cell_type": "markdown",
   "metadata": {},
   "source": [
    "#### 6. Feature Selection"
   ]
  },
  {
   "cell_type": "code",
   "execution_count": 36,
   "metadata": {},
   "outputs": [],
   "source": [
    "features = df_sample.drop(columns=['date_time', 'srch_ci', 'srch_co', 'user_id', 'hotel_cluster', 'is_booking'])\n",
    "target = df_sample['hotel_cluster']"
   ]
  },
  {
   "cell_type": "code",
   "execution_count": 37,
   "metadata": {},
   "outputs": [],
   "source": [
    "# load libraries\n",
    "from sklearn.feature_selection import SelectKBest\n",
    "from sklearn.feature_selection import chi2, f_classif, mutual_info_classif\n",
    "from functools import partial\n",
    "\n",
    "from sklearn.preprocessing import StandardScaler\n",
    "from sklearn.decomposition import PCA"
   ]
  },
  {
   "cell_type": "code",
   "execution_count": 38,
   "metadata": {},
   "outputs": [
    {
     "data": {
      "text/plain": [
       "Index(['site_name', 'posa_continent', 'user_location_country',\n",
       "       'user_location_region', 'user_location_city',\n",
       "       'orig_destination_distance', 'is_mobile', 'is_package', 'channel',\n",
       "       'srch_adults_cnt', 'srch_children_cnt', 'srch_rm_cnt',\n",
       "       'srch_destination_id', 'srch_destination_type_id', 'cnt',\n",
       "       'hotel_continent', 'hotel_country', 'hotel_market', 'date_time_month',\n",
       "       'date_time_year', 'srch_ci_month', 'srch_ci_year', 'srch_co_month',\n",
       "       'srch_co_year'],\n",
       "      dtype='object')"
      ]
     },
     "execution_count": 38,
     "metadata": {},
     "output_type": "execute_result"
    }
   ],
   "source": [
    "features.columns"
   ]
  },
  {
   "cell_type": "code",
   "execution_count": 39,
   "metadata": {},
   "outputs": [],
   "source": [
    "def FeatureSelector(df, y, score_func, k):\n",
    "    \n",
    "    # apply SelectKBest class to extract top features from categorical variables only \n",
    "    feature_selector = SelectKBest(score_func=score_func, k=k)\n",
    "    features_kbest = feature_selector.fit(df,y)\n",
    "\n",
    "    dfscores = pd.DataFrame(features_kbest.scores_)\n",
    "    dfcolumns = pd.DataFrame(df.columns)\n",
    "\n",
    "    #concat two dataframes for better visualization \n",
    "    featureScores = pd.concat([dfcolumns,dfscores],axis=1)\n",
    "    featureScores.columns = ['Features','Score']  #naming the dataframe columns\n",
    "    top_feature = featureScores.nlargest(k,'Score')  # best features\n",
    "    return top_feature"
   ]
  },
  {
   "cell_type": "code",
   "execution_count": 40,
   "metadata": {},
   "outputs": [
    {
     "data": {
      "text/html": [
       "<div>\n",
       "<style scoped>\n",
       "    .dataframe tbody tr th:only-of-type {\n",
       "        vertical-align: middle;\n",
       "    }\n",
       "\n",
       "    .dataframe tbody tr th {\n",
       "        vertical-align: top;\n",
       "    }\n",
       "\n",
       "    .dataframe thead th {\n",
       "        text-align: right;\n",
       "    }\n",
       "</style>\n",
       "<table border=\"1\" class=\"dataframe\">\n",
       "  <thead>\n",
       "    <tr style=\"text-align: right;\">\n",
       "      <th></th>\n",
       "      <th>Features</th>\n",
       "      <th>Score</th>\n",
       "    </tr>\n",
       "  </thead>\n",
       "  <tbody>\n",
       "    <tr>\n",
       "      <th>5</th>\n",
       "      <td>orig_destination_distance</td>\n",
       "      <td>6.173552e+07</td>\n",
       "    </tr>\n",
       "    <tr>\n",
       "      <th>12</th>\n",
       "      <td>srch_destination_id</td>\n",
       "      <td>2.529899e+07</td>\n",
       "    </tr>\n",
       "    <tr>\n",
       "      <th>17</th>\n",
       "      <td>hotel_market</td>\n",
       "      <td>1.651691e+06</td>\n",
       "    </tr>\n",
       "    <tr>\n",
       "      <th>4</th>\n",
       "      <td>user_location_city</td>\n",
       "      <td>1.427833e+06</td>\n",
       "    </tr>\n",
       "    <tr>\n",
       "      <th>16</th>\n",
       "      <td>hotel_country</td>\n",
       "      <td>3.464966e+05</td>\n",
       "    </tr>\n",
       "    <tr>\n",
       "      <th>3</th>\n",
       "      <td>user_location_region</td>\n",
       "      <td>8.305258e+04</td>\n",
       "    </tr>\n",
       "    <tr>\n",
       "      <th>2</th>\n",
       "      <td>user_location_country</td>\n",
       "      <td>3.912377e+04</td>\n",
       "    </tr>\n",
       "    <tr>\n",
       "      <th>0</th>\n",
       "      <td>site_name</td>\n",
       "      <td>2.537349e+04</td>\n",
       "    </tr>\n",
       "    <tr>\n",
       "      <th>15</th>\n",
       "      <td>hotel_continent</td>\n",
       "      <td>2.430769e+04</td>\n",
       "    </tr>\n",
       "    <tr>\n",
       "      <th>7</th>\n",
       "      <td>is_package</td>\n",
       "      <td>1.209187e+04</td>\n",
       "    </tr>\n",
       "  </tbody>\n",
       "</table>\n",
       "</div>"
      ],
      "text/plain": [
       "                     Features         Score\n",
       "5   orig_destination_distance  6.173552e+07\n",
       "12        srch_destination_id  2.529899e+07\n",
       "17               hotel_market  1.651691e+06\n",
       "4          user_location_city  1.427833e+06\n",
       "16              hotel_country  3.464966e+05\n",
       "3        user_location_region  8.305258e+04\n",
       "2       user_location_country  3.912377e+04\n",
       "0                   site_name  2.537349e+04\n",
       "15            hotel_continent  2.430769e+04\n",
       "7                  is_package  1.209187e+04"
      ]
     },
     "execution_count": 40,
     "metadata": {},
     "output_type": "execute_result"
    }
   ],
   "source": [
    "top =  FeatureSelector(features, target, chi2, 10)\n",
    "top"
   ]
  },
  {
   "cell_type": "code",
   "execution_count": 42,
   "metadata": {
    "scrolled": true
   },
   "outputs": [
    {
     "data": {
      "text/html": [
       "<div>\n",
       "<style scoped>\n",
       "    .dataframe tbody tr th:only-of-type {\n",
       "        vertical-align: middle;\n",
       "    }\n",
       "\n",
       "    .dataframe tbody tr th {\n",
       "        vertical-align: top;\n",
       "    }\n",
       "\n",
       "    .dataframe thead th {\n",
       "        text-align: right;\n",
       "    }\n",
       "</style>\n",
       "<table border=\"1\" class=\"dataframe\">\n",
       "  <thead>\n",
       "    <tr style=\"text-align: right;\">\n",
       "      <th></th>\n",
       "      <th>Features</th>\n",
       "      <th>Score</th>\n",
       "    </tr>\n",
       "  </thead>\n",
       "  <tbody>\n",
       "    <tr>\n",
       "      <th>12</th>\n",
       "      <td>srch_destination_id</td>\n",
       "      <td>2.056098</td>\n",
       "    </tr>\n",
       "    <tr>\n",
       "      <th>17</th>\n",
       "      <td>hotel_market</td>\n",
       "      <td>1.476028</td>\n",
       "    </tr>\n",
       "    <tr>\n",
       "      <th>4</th>\n",
       "      <td>user_location_city</td>\n",
       "      <td>0.922894</td>\n",
       "    </tr>\n",
       "    <tr>\n",
       "      <th>16</th>\n",
       "      <td>hotel_country</td>\n",
       "      <td>0.487759</td>\n",
       "    </tr>\n",
       "    <tr>\n",
       "      <th>5</th>\n",
       "      <td>orig_destination_distance</td>\n",
       "      <td>0.315726</td>\n",
       "    </tr>\n",
       "    <tr>\n",
       "      <th>15</th>\n",
       "      <td>hotel_continent</td>\n",
       "      <td>0.312849</td>\n",
       "    </tr>\n",
       "    <tr>\n",
       "      <th>3</th>\n",
       "      <td>user_location_region</td>\n",
       "      <td>0.141773</td>\n",
       "    </tr>\n",
       "    <tr>\n",
       "      <th>2</th>\n",
       "      <td>user_location_country</td>\n",
       "      <td>0.057104</td>\n",
       "    </tr>\n",
       "    <tr>\n",
       "      <th>0</th>\n",
       "      <td>site_name</td>\n",
       "      <td>0.051843</td>\n",
       "    </tr>\n",
       "    <tr>\n",
       "      <th>7</th>\n",
       "      <td>is_package</td>\n",
       "      <td>0.051566</td>\n",
       "    </tr>\n",
       "  </tbody>\n",
       "</table>\n",
       "</div>"
      ],
      "text/plain": [
       "                     Features     Score\n",
       "12        srch_destination_id  2.056098\n",
       "17               hotel_market  1.476028\n",
       "4          user_location_city  0.922894\n",
       "16              hotel_country  0.487759\n",
       "5   orig_destination_distance  0.315726\n",
       "15            hotel_continent  0.312849\n",
       "3        user_location_region  0.141773\n",
       "2       user_location_country  0.057104\n",
       "0                   site_name  0.051843\n",
       "7                  is_package  0.051566"
      ]
     },
     "execution_count": 42,
     "metadata": {},
     "output_type": "execute_result"
    }
   ],
   "source": [
    "discrete_feat_idx = [0,1,2,3,4,6,7,8,9, 10, 11, 12, 13, 14, 15, 16, 17, 18, 19,20, 21, 22, 23] # an array with indices of discrete features\n",
    "\n",
    "MI = partial(mutual_info_classif, discrete_features=discrete_feat_idx)\n",
    "top =  FeatureSelector(features, target, MI, 10)\n",
    "top"
   ]
  },
  {
   "cell_type": "markdown",
   "metadata": {},
   "source": [
    "#### 7. Base Models"
   ]
  },
  {
   "cell_type": "code",
   "execution_count": 43,
   "metadata": {},
   "outputs": [],
   "source": [
    "from sklearn.model_selection import train_test_split\n",
    "\n",
    "# split the data\n",
    "X_train, X_val, Y_train, Y_val = train_test_split(features, target, test_size =0.25, random_state = 42, shuffle = True, stratify = target)"
   ]
  },
  {
   "cell_type": "code",
   "execution_count": 44,
   "metadata": {},
   "outputs": [
    {
     "data": {
      "text/plain": [
       "((74457, 24), (24819, 24))"
      ]
     },
     "execution_count": 44,
     "metadata": {},
     "output_type": "execute_result"
    }
   ],
   "source": [
    "X_train.shape, X_val.shape"
   ]
  },
  {
   "cell_type": "code",
   "execution_count": 45,
   "metadata": {},
   "outputs": [
    {
     "data": {
      "text/plain": [
       "((74457,), (24819,))"
      ]
     },
     "execution_count": 45,
     "metadata": {},
     "output_type": "execute_result"
    }
   ],
   "source": [
    "Y_train.shape, Y_val.shape"
   ]
  },
  {
   "cell_type": "markdown",
   "metadata": {},
   "source": [
    "Modeling without Feature Selection"
   ]
  },
  {
   "cell_type": "markdown",
   "metadata": {},
   "source": [
    "KNN Model"
   ]
  },
  {
   "cell_type": "code",
   "execution_count": 49,
   "metadata": {},
   "outputs": [],
   "source": [
    "from sklearn.neighbors import KNeighborsClassifier\n",
    "from sklearn.model_selection import GridSearchCV"
   ]
  },
  {
   "cell_type": "code",
   "execution_count": 50,
   "metadata": {},
   "outputs": [],
   "source": [
    "clf1 = make_pipeline(preprocessing.StandardScaler(), \n",
    "                     KNeighborsClassifier(n_neighbors=23, weights='distance', metric='manhattan'))\n",
    "\n",
    "model1 = clf1.fit(X_train, Y_train)"
   ]
  },
  {
   "cell_type": "code",
   "execution_count": 51,
   "metadata": {},
   "outputs": [
    {
     "data": {
      "text/plain": [
       "0.06414440549578952"
      ]
     },
     "execution_count": 51,
     "metadata": {},
     "output_type": "execute_result"
    }
   ],
   "source": [
    "# Get accuracy score\n",
    "score1 = model1.score(X_val, Y_val)\n",
    "score1"
   ]
  },
  {
   "cell_type": "markdown",
   "metadata": {},
   "source": [
    "SVM Model"
   ]
  },
  {
   "cell_type": "code",
   "execution_count": 52,
   "metadata": {},
   "outputs": [
    {
     "data": {
      "text/plain": [
       "0.07969700632579878"
      ]
     },
     "execution_count": 52,
     "metadata": {},
     "output_type": "execute_result"
    }
   ],
   "source": [
    "from sklearn import svm\n",
    "\n",
    "clf2 = make_pipeline(preprocessing.StandardScaler(), svm.SVC(decision_function_shape='ovo'))\n",
    "# Train model\n",
    "model2 = clf2.fit(X_train, Y_train)\n",
    "\n",
    "# Get accuracy score\n",
    "score2 = clf2.score(X_val, Y_val)\n",
    "score2"
   ]
  },
  {
   "cell_type": "code",
   "execution_count": 115,
   "metadata": {},
   "outputs": [
    {
     "data": {
      "text/plain": [
       "{'KNN': 0.06414440549578952, 'SVM': 0.07969700632579878}"
      ]
     },
     "execution_count": 115,
     "metadata": {},
     "output_type": "execute_result"
    }
   ],
   "source": [
    "score_set = {}\n",
    "score_set['KNN'] = score1\n",
    "score_set['SVM'] = score2\n",
    "score_set"
   ]
  },
  {
   "cell_type": "code",
   "execution_count": 129,
   "metadata": {},
   "outputs": [],
   "source": [
    "s1 = pd.DataFrame(list(score_set.items()),columns = ['Model','Accuracy'])"
   ]
  },
  {
   "cell_type": "markdown",
   "metadata": {},
   "source": [
    "#### 8. Modeling with Feature Selection"
   ]
  },
  {
   "cell_type": "code",
   "execution_count": 53,
   "metadata": {},
   "outputs": [
    {
     "data": {
      "text/html": [
       "<div>\n",
       "<style scoped>\n",
       "    .dataframe tbody tr th:only-of-type {\n",
       "        vertical-align: middle;\n",
       "    }\n",
       "\n",
       "    .dataframe tbody tr th {\n",
       "        vertical-align: top;\n",
       "    }\n",
       "\n",
       "    .dataframe thead th {\n",
       "        text-align: right;\n",
       "    }\n",
       "</style>\n",
       "<table border=\"1\" class=\"dataframe\">\n",
       "  <thead>\n",
       "    <tr style=\"text-align: right;\">\n",
       "      <th></th>\n",
       "      <th>Features</th>\n",
       "      <th>Score</th>\n",
       "    </tr>\n",
       "  </thead>\n",
       "  <tbody>\n",
       "    <tr>\n",
       "      <th>12</th>\n",
       "      <td>srch_destination_id</td>\n",
       "      <td>2.056098</td>\n",
       "    </tr>\n",
       "    <tr>\n",
       "      <th>17</th>\n",
       "      <td>hotel_market</td>\n",
       "      <td>1.476028</td>\n",
       "    </tr>\n",
       "    <tr>\n",
       "      <th>4</th>\n",
       "      <td>user_location_city</td>\n",
       "      <td>0.922894</td>\n",
       "    </tr>\n",
       "    <tr>\n",
       "      <th>16</th>\n",
       "      <td>hotel_country</td>\n",
       "      <td>0.487759</td>\n",
       "    </tr>\n",
       "    <tr>\n",
       "      <th>5</th>\n",
       "      <td>orig_destination_distance</td>\n",
       "      <td>0.315726</td>\n",
       "    </tr>\n",
       "    <tr>\n",
       "      <th>15</th>\n",
       "      <td>hotel_continent</td>\n",
       "      <td>0.312849</td>\n",
       "    </tr>\n",
       "    <tr>\n",
       "      <th>3</th>\n",
       "      <td>user_location_region</td>\n",
       "      <td>0.141773</td>\n",
       "    </tr>\n",
       "    <tr>\n",
       "      <th>2</th>\n",
       "      <td>user_location_country</td>\n",
       "      <td>0.057104</td>\n",
       "    </tr>\n",
       "    <tr>\n",
       "      <th>0</th>\n",
       "      <td>site_name</td>\n",
       "      <td>0.051843</td>\n",
       "    </tr>\n",
       "    <tr>\n",
       "      <th>7</th>\n",
       "      <td>is_package</td>\n",
       "      <td>0.051566</td>\n",
       "    </tr>\n",
       "  </tbody>\n",
       "</table>\n",
       "</div>"
      ],
      "text/plain": [
       "                     Features     Score\n",
       "12        srch_destination_id  2.056098\n",
       "17               hotel_market  1.476028\n",
       "4          user_location_city  0.922894\n",
       "16              hotel_country  0.487759\n",
       "5   orig_destination_distance  0.315726\n",
       "15            hotel_continent  0.312849\n",
       "3        user_location_region  0.141773\n",
       "2       user_location_country  0.057104\n",
       "0                   site_name  0.051843\n",
       "7                  is_package  0.051566"
      ]
     },
     "execution_count": 53,
     "metadata": {},
     "output_type": "execute_result"
    }
   ],
   "source": [
    "top"
   ]
  },
  {
   "cell_type": "code",
   "execution_count": 54,
   "metadata": {},
   "outputs": [],
   "source": [
    "# Selecting Top Features from the feature selection step\n",
    "X = X_train[['srch_destination_id', 'hotel_market','user_location_city','hotel_country',\n",
    "                  'orig_destination_distance','hotel_continent','user_location_region',\n",
    "                  'site_name','is_package']]"
   ]
  },
  {
   "cell_type": "code",
   "execution_count": 55,
   "metadata": {},
   "outputs": [],
   "source": [
    "X = X[['srch_destination_id', 'hotel_market','user_location_city',\n",
    "       'orig_destination_distance','user_location_region','is_package']]"
   ]
  },
  {
   "cell_type": "code",
   "execution_count": 56,
   "metadata": {},
   "outputs": [
    {
     "data": {
      "text/plain": [
       "<AxesSubplot:>"
      ]
     },
     "execution_count": 56,
     "metadata": {},
     "output_type": "execute_result"
    },
    {
     "data": {
      "image/png": "[encoded data removed]",
      "text/plain": [
       "<Figure size 1100x900 with 2 Axes>"
      ]
     },
     "metadata": {},
     "output_type": "display_data"
    }
   ],
   "source": [
    "corr = X.corr()\n",
    "#Generate a mask for the upper triangle\n",
    "mask = np.triu(np.ones_like(corr, dtype=bool))\n",
    "\n",
    "# Set up the matplotlib figure\n",
    "f, ax = plt.subplots(figsize=(11, 9))\n",
    "\n",
    "# Generate a custom diverging colormap\n",
    "cmap = sns.diverging_palette(230, 20, as_cmap=True)\n",
    "\n",
    "# Draw the heatmap with the mask and correct aspect ratio\n",
    "sns.heatmap(corr, mask=mask, cmap=cmap, vmax=.3, center=0,\n",
    "            square=True, linewidths=.5, cbar_kws={\"shrink\": .5})"
   ]
  },
  {
   "cell_type": "markdown",
   "metadata": {},
   "source": [
    "KNN Model with Feature Selection"
   ]
  },
  {
   "cell_type": "code",
   "execution_count": 57,
   "metadata": {},
   "outputs": [],
   "source": [
    "clf1 = make_pipeline(preprocessing.StandardScaler(), \n",
    "                     KNeighborsClassifier(n_neighbors=25, weights='distance', metric='manhattan'))\n",
    "\n",
    "model1_0 = clf1.fit(X, Y_train)"
   ]
  },
  {
   "cell_type": "code",
   "execution_count": 58,
   "metadata": {},
   "outputs": [],
   "source": [
    "X_v = X_val[['srch_destination_id', 'hotel_market','user_location_city',\n",
    "                    'orig_destination_distance','user_location_region','is_package']]"
   ]
  },
  {
   "cell_type": "code",
   "execution_count": 59,
   "metadata": {},
   "outputs": [
    {
     "data": {
      "text/plain": [
       "0.09960111205125106"
      ]
     },
     "execution_count": 59,
     "metadata": {},
     "output_type": "execute_result"
    }
   ],
   "source": [
    "# Get accuracy score\n",
    "score1_0 = model1_0.score(X_v, Y_val)\n",
    "score1_0"
   ]
  },
  {
   "cell_type": "markdown",
   "metadata": {},
   "source": [
    "SVM Model with Feature Selection"
   ]
  },
  {
   "cell_type": "code",
   "execution_count": 60,
   "metadata": {},
   "outputs": [
    {
     "data": {
      "text/plain": [
       "0.07619162738224747"
      ]
     },
     "execution_count": 60,
     "metadata": {},
     "output_type": "execute_result"
    }
   ],
   "source": [
    "from sklearn import svm\n",
    "\n",
    "clf2 = make_pipeline(preprocessing.StandardScaler(), svm.SVC(decision_function_shape='ovo'))\n",
    "# Train model\n",
    "model2_0 = clf2.fit(X, Y_train)\n",
    "\n",
    "# Get accuracy score\n",
    "score2_0 = clf2.score(X_v, Y_val)\n",
    "score2_0"
   ]
  },
  {
   "cell_type": "code",
   "execution_count": 123,
   "metadata": {},
   "outputs": [
    {
     "data": {
      "text/plain": [
       "{'KNN': 0.09960111205125106, 'SVM': 0.07619162738224747}"
      ]
     },
     "execution_count": 123,
     "metadata": {},
     "output_type": "execute_result"
    }
   ],
   "source": [
    "score_set2 = {}\n",
    "score_set2['KNN'] = score1_0\n",
    "score_set2['SVM'] = score2_0\n",
    "score_set2"
   ]
  },
  {
   "cell_type": "code",
   "execution_count": 148,
   "metadata": {},
   "outputs": [],
   "source": [
    "s2 = pd.DataFrame(list(score_set2.items()),columns = ['Model','Accuracy'])"
   ]
  },
  {
   "cell_type": "markdown",
   "metadata": {},
   "source": [
    "#### 9. Model 1 - KNN model with merged data from destinations"
   ]
  },
  {
   "cell_type": "code",
   "execution_count": 102,
   "metadata": {},
   "outputs": [],
   "source": [
    "destinations = pd.read_csv(\"destinations.csv\", sep=',').dropna()"
   ]
  },
  {
   "cell_type": "code",
   "execution_count": 109,
   "metadata": {},
   "outputs": [],
   "source": [
    "df_1 = df_sample.drop(columns=['date_time', 'srch_ci', 'srch_co', 'user_id', 'is_booking'])"
   ]
  },
  {
   "cell_type": "code",
   "execution_count": 110,
   "metadata": {},
   "outputs": [
    {
     "data": {
      "text/plain": [
       "(99276, 174)"
      ]
     },
     "execution_count": 110,
     "metadata": {},
     "output_type": "execute_result"
    }
   ],
   "source": [
    "df_merged = pd.merge(df_1, destinations, how='left', on='srch_destination_id')\n",
    "df_merged.fillna(0, inplace=True)\n",
    "df_merged.shape"
   ]
  },
  {
   "cell_type": "code",
   "execution_count": 111,
   "metadata": {},
   "outputs": [],
   "source": [
    "X = df_merged.drop(columns=['hotel_cluster'])\n",
    "Y = df_merged['hotel_cluster']"
   ]
  },
  {
   "cell_type": "code",
   "execution_count": 112,
   "metadata": {},
   "outputs": [],
   "source": [
    "# split the data\n",
    "X_train, X_val, Y_train, Y_val = train_test_split(X, Y, test_size =0.25, random_state = 42, shuffle = True, stratify = target)"
   ]
  },
  {
   "cell_type": "code",
   "execution_count": 113,
   "metadata": {},
   "outputs": [],
   "source": [
    "clf1 = make_pipeline(preprocessing.StandardScaler(), \n",
    "                     KNeighborsClassifier(n_neighbors=25, weights='distance', metric='manhattan'))\n",
    "\n",
    "model3_0 = clf1.fit(X_train, Y_train)"
   ]
  },
  {
   "cell_type": "code",
   "execution_count": 114,
   "metadata": {},
   "outputs": [
    {
     "data": {
      "text/plain": [
       "0.15399492324428865"
      ]
     },
     "execution_count": 114,
     "metadata": {},
     "output_type": "execute_result"
    }
   ],
   "source": [
    "accuracy = model3_0.score(X_val, Y_val)\n",
    "accuracy"
   ]
  },
  {
   "cell_type": "code",
   "execution_count": 127,
   "metadata": {},
   "outputs": [
    {
     "data": {
      "text/plain": [
       "{'KNN': 0.15399492324428865}"
      ]
     },
     "execution_count": 127,
     "metadata": {},
     "output_type": "execute_result"
    }
   ],
   "source": [
    "model1_score = {}\n",
    "model1_score['KNN'] = accuracy\n",
    "model1_score"
   ]
  },
  {
   "cell_type": "code",
   "execution_count": 136,
   "metadata": {},
   "outputs": [],
   "source": [
    "s3 = pd.DataFrame(list(model1_score.items()),columns = ['Model','Accuracy'])"
   ]
  },
  {
   "cell_type": "markdown",
   "metadata": {},
   "source": [
    "#### 10. Model 2 - Train different model for each user cluster."
   ]
  },
  {
   "cell_type": "markdown",
   "metadata": {},
   "source": [
    "Modeling with Clustering for classfification tasks"
   ]
  },
  {
   "cell_type": "code",
   "execution_count": 138,
   "metadata": {},
   "outputs": [],
   "source": [
    "from sklearn.model_selection import train_test_split\n",
    "\n",
    "# split the data\n",
    "X_train, X_val, Y_train, Y_val = train_test_split(features, target, test_size =0.25, random_state = 42, shuffle = True, stratify = target)"
   ]
  },
  {
   "cell_type": "markdown",
   "metadata": {},
   "source": [
    "I decided to do a different approach where I put users in clusters and did predictions for each user cluster. "
   ]
  },
  {
   "cell_type": "code",
   "execution_count": 139,
   "metadata": {},
   "outputs": [],
   "source": [
    "from sklearn.cluster import KMeans\n",
    "from typing import Tuple\n",
    "def get_clusters(train, test, n_clusters) -> Tuple[pd.DataFrame, pd.DataFrame]:\n",
    "    \"\"\"\n",
    "    applies k-means clustering to training data to find clusters and predicts them for the test set\n",
    "    \"\"\"\n",
    "    clustering = KMeans(n_clusters=n_clusters, random_state=8675309,n_jobs=-1)\n",
    "    clustering.fit(train)\n",
    "    \n",
    "    # apply the label\n",
    "    train_labels = clustering.labels_\n",
    "    train_clstrs = train.copy()\n",
    "    train_clstrs['clusters'] = train_labels\n",
    "    \n",
    "    # predict labels on the test set\n",
    "    test_labels = clustering.predict(test)\n",
    "    test_clstrs = test.copy()\n",
    "    test_clstrs['clusters'] = test_labels\n",
    "    return train_clstrs, test_clstrs\n",
    "\n",
    "X_train_clstrs, X_test_clstrs = get_clusters(X_train, X_val, 5)"
   ]
  },
  {
   "cell_type": "code",
   "execution_count": 140,
   "metadata": {},
   "outputs": [],
   "source": [
    "X_train_clstrs['Y'] = Y_train\n",
    "X_test_clstrs['Y'] = Y_val"
   ]
  },
  {
   "cell_type": "markdown",
   "metadata": {},
   "source": [
    "Feature Selection"
   ]
  },
  {
   "cell_type": "code",
   "execution_count": 141,
   "metadata": {},
   "outputs": [],
   "source": [
    "X_train_clstrs = X_train_clstrs[['srch_destination_id', 'hotel_market','user_location_city',\n",
    "                                 'orig_destination_distance','user_location_region','is_package', 'clusters', 'Y']]\n",
    "X_test_clstrs = X_test_clstrs[['srch_destination_id', 'hotel_market','user_location_city',\n",
    "                               'orig_destination_distance','user_location_region','is_package', 'clusters','Y']]"
   ]
  },
  {
   "cell_type": "code",
   "execution_count": 142,
   "metadata": {},
   "outputs": [],
   "source": [
    "def cluster_modeling(df, df_test, cluster):\n",
    "    #train set\n",
    "    df = df.loc[df['clusters'] == cluster]\n",
    "    y = df['Y']\n",
    "    df.drop(columns=['Y', 'clusters'])\n",
    "    \n",
    "    #test set\n",
    "    df_test = df_test.loc[df_test['clusters'] == cluster]\n",
    "    y_test = df_test['Y']\n",
    "    df_test.drop(columns=['Y', 'clusters'])\n",
    "    \n",
    "    clf = make_pipeline(preprocessing.StandardScaler(), \n",
    "                        KNeighborsClassifier(n_neighbors=25, weights='distance', metric='manhattan'))\n",
    "\n",
    "    model = clf.fit(df, y)\n",
    "    accuracy = model.score(df_test, y_test)\n",
    "    \n",
    "    return accuracy\n",
    "        "
   ]
  },
  {
   "cell_type": "code",
   "execution_count": 143,
   "metadata": {},
   "outputs": [],
   "source": [
    "clusters = [0,1,2,3,4]\n",
    "score = {}\n",
    "for cluster in clusters:\n",
    "    accuracy = cluster_modeling(X_train_clstrs, X_test_clstrs, cluster)\n",
    "    score[cluster] = accuracy "
   ]
  },
  {
   "cell_type": "code",
   "execution_count": 146,
   "metadata": {},
   "outputs": [],
   "source": [
    "s4 = pd.DataFrame(list(score.items()),columns = ['Cluster','Accuracy'])"
   ]
  },
  {
   "cell_type": "markdown",
   "metadata": {},
   "source": [
    "#### 11. Summary and Results"
   ]
  },
  {
   "cell_type": "code",
   "execution_count": 144,
   "metadata": {},
   "outputs": [
    {
     "name": "stdout",
     "output_type": "stream",
     "text": [
      "Model Accuracy Score Without Feature Selection\n"
     ]
    },
    {
     "data": {
      "text/html": [
       "<div>\n",
       "<style scoped>\n",
       "    .dataframe tbody tr th:only-of-type {\n",
       "        vertical-align: middle;\n",
       "    }\n",
       "\n",
       "    .dataframe tbody tr th {\n",
       "        vertical-align: top;\n",
       "    }\n",
       "\n",
       "    .dataframe thead th {\n",
       "        text-align: right;\n",
       "    }\n",
       "</style>\n",
       "<table border=\"1\" class=\"dataframe\">\n",
       "  <thead>\n",
       "    <tr style=\"text-align: right;\">\n",
       "      <th></th>\n",
       "      <th>Model</th>\n",
       "      <th>Accuracy</th>\n",
       "    </tr>\n",
       "  </thead>\n",
       "  <tbody>\n",
       "    <tr>\n",
       "      <th>0</th>\n",
       "      <td>KNN</td>\n",
       "      <td>0.064144</td>\n",
       "    </tr>\n",
       "    <tr>\n",
       "      <th>1</th>\n",
       "      <td>SVM</td>\n",
       "      <td>0.079697</td>\n",
       "    </tr>\n",
       "  </tbody>\n",
       "</table>\n",
       "</div>"
      ],
      "text/plain": [
       "  Model  Accuracy\n",
       "0   KNN  0.064144\n",
       "1   SVM  0.079697"
      ]
     },
     "execution_count": 144,
     "metadata": {},
     "output_type": "execute_result"
    }
   ],
   "source": [
    "print(\"Model Accuracy Score Without Feature Selection\")\n",
    "s1"
   ]
  },
  {
   "cell_type": "code",
   "execution_count": 133,
   "metadata": {},
   "outputs": [
    {
     "name": "stdout",
     "output_type": "stream",
     "text": [
      "Model Accuracy Score With Feature Selection\n"
     ]
    },
    {
     "data": {
      "text/html": [
       "<div>\n",
       "<style scoped>\n",
       "    .dataframe tbody tr th:only-of-type {\n",
       "        vertical-align: middle;\n",
       "    }\n",
       "\n",
       "    .dataframe tbody tr th {\n",
       "        vertical-align: top;\n",
       "    }\n",
       "\n",
       "    .dataframe thead th {\n",
       "        text-align: right;\n",
       "    }\n",
       "</style>\n",
       "<table border=\"1\" class=\"dataframe\">\n",
       "  <thead>\n",
       "    <tr style=\"text-align: right;\">\n",
       "      <th></th>\n",
       "      <th>Model</th>\n",
       "      <th>Accuracy</th>\n",
       "    </tr>\n",
       "  </thead>\n",
       "  <tbody>\n",
       "    <tr>\n",
       "      <th>0</th>\n",
       "      <td>KNN</td>\n",
       "      <td>0.099601</td>\n",
       "    </tr>\n",
       "    <tr>\n",
       "      <th>1</th>\n",
       "      <td>SVM</td>\n",
       "      <td>0.076192</td>\n",
       "    </tr>\n",
       "  </tbody>\n",
       "</table>\n",
       "</div>"
      ],
      "text/plain": [
       "  Model  Accuracy\n",
       "0   KNN  0.099601\n",
       "1   SVM  0.076192"
      ]
     },
     "execution_count": 133,
     "metadata": {},
     "output_type": "execute_result"
    }
   ],
   "source": [
    "print(\"Model Accuracy Score With Feature Selection\")\n",
    "s2"
   ]
  },
  {
   "cell_type": "code",
   "execution_count": 147,
   "metadata": {},
   "outputs": [
    {
     "name": "stdout",
     "output_type": "stream",
     "text": [
      "KNN Model With Destinations Data Combined\n"
     ]
    },
    {
     "data": {
      "text/html": [
       "<div>\n",
       "<style scoped>\n",
       "    .dataframe tbody tr th:only-of-type {\n",
       "        vertical-align: middle;\n",
       "    }\n",
       "\n",
       "    .dataframe tbody tr th {\n",
       "        vertical-align: top;\n",
       "    }\n",
       "\n",
       "    .dataframe thead th {\n",
       "        text-align: right;\n",
       "    }\n",
       "</style>\n",
       "<table border=\"1\" class=\"dataframe\">\n",
       "  <thead>\n",
       "    <tr style=\"text-align: right;\">\n",
       "      <th></th>\n",
       "      <th>Model</th>\n",
       "      <th>Accuracy</th>\n",
       "    </tr>\n",
       "  </thead>\n",
       "  <tbody>\n",
       "    <tr>\n",
       "      <th>0</th>\n",
       "      <td>KNN</td>\n",
       "      <td>0.153995</td>\n",
       "    </tr>\n",
       "  </tbody>\n",
       "</table>\n",
       "</div>"
      ],
      "text/plain": [
       "  Model  Accuracy\n",
       "0   KNN  0.153995"
      ]
     },
     "execution_count": 147,
     "metadata": {},
     "output_type": "execute_result"
    }
   ],
   "source": [
    "print(\"KNN Model With Destinations Data Combined\")\n",
    "s3"
   ]
  },
  {
   "cell_type": "code",
   "execution_count": 149,
   "metadata": {},
   "outputs": [
    {
     "name": "stdout",
     "output_type": "stream",
     "text": [
      "KNN Modeling for Each User Cluster\n"
     ]
    },
    {
     "data": {
      "text/html": [
       "<div>\n",
       "<style scoped>\n",
       "    .dataframe tbody tr th:only-of-type {\n",
       "        vertical-align: middle;\n",
       "    }\n",
       "\n",
       "    .dataframe tbody tr th {\n",
       "        vertical-align: top;\n",
       "    }\n",
       "\n",
       "    .dataframe thead th {\n",
       "        text-align: right;\n",
       "    }\n",
       "</style>\n",
       "<table border=\"1\" class=\"dataframe\">\n",
       "  <thead>\n",
       "    <tr style=\"text-align: right;\">\n",
       "      <th></th>\n",
       "      <th>Cluster</th>\n",
       "      <th>Accuracy</th>\n",
       "    </tr>\n",
       "  </thead>\n",
       "  <tbody>\n",
       "    <tr>\n",
       "      <th>0</th>\n",
       "      <td>0</td>\n",
       "      <td>0.362084</td>\n",
       "    </tr>\n",
       "    <tr>\n",
       "      <th>1</th>\n",
       "      <td>1</td>\n",
       "      <td>0.373295</td>\n",
       "    </tr>\n",
       "    <tr>\n",
       "      <th>2</th>\n",
       "      <td>2</td>\n",
       "      <td>0.367225</td>\n",
       "    </tr>\n",
       "    <tr>\n",
       "      <th>3</th>\n",
       "      <td>3</td>\n",
       "      <td>0.383099</td>\n",
       "    </tr>\n",
       "    <tr>\n",
       "      <th>4</th>\n",
       "      <td>4</td>\n",
       "      <td>0.383169</td>\n",
       "    </tr>\n",
       "  </tbody>\n",
       "</table>\n",
       "</div>"
      ],
      "text/plain": [
       "   Cluster  Accuracy\n",
       "0        0  0.362084\n",
       "1        1  0.373295\n",
       "2        2  0.367225\n",
       "3        3  0.383099\n",
       "4        4  0.383169"
      ]
     },
     "execution_count": 149,
     "metadata": {},
     "output_type": "execute_result"
    }
   ],
   "source": [
    "print(\"KNN Modeling for Each User Cluster\")\n",
    "s4"
   ]
  },
  {
   "cell_type": "markdown",
   "metadata": {},
   "source": [
    "**Here are the modeling steps for this exercise:**\n",
    "1. Data Collection - After loading the data, I filtered the dataset to only \"is_booking\" = 1, because the problem statement states predict the hotel cluster a customer will likely to book. 0 means it was only a click.\n",
    "2. EDA - After this I performed some Exploratory data analysis and realized it is a 100 class classification problem. Moreover, none of the variables had any correlation to the target variable thus, linear models will not be appropriate techniques for this data.\n",
    "3. Data preparation - After this I checked for missing values and performed some feature engineering to time stamp and check_in check_out time variables.\n",
    "4. Feature Selection - Performed some feature selection before modeling using Chi2 and Mutual Information method.\n",
    "5. Base Modeling:  \n",
    "    a. Base models - I created two base model without applying any feature selection, KNN and SVM. Both models had very low accuracy rate KNN - 0.064 and SVM - 0.079. I decided not to use dummyclassifier as a base model, because it was already stated that standard prediction algorithm already gives low accuracy rate, thus I figured KNN and SVM will be a good starting point for base models.\n",
    "    b. Applying Feature Selection to Base Models: I applied feature selection to base models which improved the accuracy rate for KNN model to 0.099 but decreased the accuracy rate for SVM to 0.076.\n",
    "6. Modeling:  \n",
    "    a. Model 1: For the first model I merged the dataset with destinations and then applied KNN modeling. I used KNN because after feature engineering it gave me better results overall. This improved accuracy to 0.153.\n",
    "    b. Model 2: I used a different approach. I decided to combine unsupervised and supervised learning to this problem. I recalled collaborative-filtering concepts and applied it in this problem. Instead of applying one trained model to all users, I decided to divide users into 5 different user clusters based on user similarity using Kmeans clustering. Further I wrote an algorithm that will train KNN model for each user cluster. The accuracy rate improved significantly using this approach. Below are the results to this modeling."
   ]
  },
  {
   "cell_type": "code",
   "execution_count": 151,
   "metadata": {},
   "outputs": [
    {
     "data": {
      "text/html": [
       "<div>\n",
       "<style scoped>\n",
       "    .dataframe tbody tr th:only-of-type {\n",
       "        vertical-align: middle;\n",
       "    }\n",
       "\n",
       "    .dataframe tbody tr th {\n",
       "        vertical-align: top;\n",
       "    }\n",
       "\n",
       "    .dataframe thead th {\n",
       "        text-align: right;\n",
       "    }\n",
       "</style>\n",
       "<table border=\"1\" class=\"dataframe\">\n",
       "  <thead>\n",
       "    <tr style=\"text-align: right;\">\n",
       "      <th></th>\n",
       "      <th>Cluster</th>\n",
       "      <th>Accuracy</th>\n",
       "    </tr>\n",
       "  </thead>\n",
       "  <tbody>\n",
       "    <tr>\n",
       "      <th>0</th>\n",
       "      <td>0</td>\n",
       "      <td>0.362084</td>\n",
       "    </tr>\n",
       "    <tr>\n",
       "      <th>1</th>\n",
       "      <td>1</td>\n",
       "      <td>0.373295</td>\n",
       "    </tr>\n",
       "    <tr>\n",
       "      <th>2</th>\n",
       "      <td>2</td>\n",
       "      <td>0.367225</td>\n",
       "    </tr>\n",
       "    <tr>\n",
       "      <th>3</th>\n",
       "      <td>3</td>\n",
       "      <td>0.383099</td>\n",
       "    </tr>\n",
       "    <tr>\n",
       "      <th>4</th>\n",
       "      <td>4</td>\n",
       "      <td>0.383169</td>\n",
       "    </tr>\n",
       "  </tbody>\n",
       "</table>\n",
       "</div>"
      ],
      "text/plain": [
       "   Cluster  Accuracy\n",
       "0        0  0.362084\n",
       "1        1  0.373295\n",
       "2        2  0.367225\n",
       "3        3  0.383099\n",
       "4        4  0.383169"
      ]
     },
     "execution_count": 151,
     "metadata": {},
     "output_type": "execute_result"
    }
   ],
   "source": [
    "s4"
   ]
  },
  {
   "cell_type": "code",
   "execution_count": null,
   "metadata": {},
   "outputs": [],
   "source": []
  }
 ],
 "metadata": {
  "kernelspec": {
   "display_name": "Python 3",
   "language": "python",
   "name": "python3"
  },
  "language_info": {
   "codemirror_mode": {
    "name": "ipython",
    "version": 3
   },
   "file_extension": ".py",
   "mimetype": "text/x-python",
   "name": "python",
   "nbconvert_exporter": "python",
   "pygments_lexer": "ipython3",
   "version": "3.8.5"
  }
 },
 "nbformat": 4,
 "nbformat_minor": 4
}
